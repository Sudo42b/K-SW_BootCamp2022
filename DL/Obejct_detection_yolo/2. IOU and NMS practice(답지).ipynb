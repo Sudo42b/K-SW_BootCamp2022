{
 "cells": [
  {
   "cell_type": "markdown",
   "metadata": {},
   "source": [
    "# IOU 실습\n",
    "이전 교재에서 배웠듯 IOU값을 계산하는 공식은 아래와 같습니다.\n",
    "$$IOU = \\frac{Intersection}{A+B-Intersection}$$\n",
    "위 공식을 활용하여 IOU값을 계산하는 코드를 완성해봅시다!\n"
   ]
  },
  {
   "cell_type": "code",
   "execution_count": null,
   "metadata": {},
   "outputs": [],
   "source": [
    "# function IOU : 두 개의 box를 입력받아 IOU 값을 return 하는 함수\n",
    "# parameter box1 : predicted(예측) box의 좌표 list (x1, y1, x2, y2)\n",
    "# parameter box2 : ground-truth(정답) Bounding box의 좌표 list (x1, y1, x2, y2)\n",
    "def IOU(box1, box2):\n",
    "    xi1 = max(box1[0], box2[0])\n",
    "    yi1 = max(box1[1], box2[1])\n",
    "    xi2 = min(box1[2], box2[2])\n",
    "    yi2 = min(box1[3], box2[3])\n",
    "    \n",
    "    # Stage 1: 교차 영역(intersection area)의 높이에 너비를 곱하는 코드를 작성해보세요!\n",
    "    \"\"\"\n",
    "    \n",
    "    inter_area = \n",
    "    \n",
    "    \"\"\"\n",
    "\n",
    "\n",
    "    box1_area = (box1[3] - box1[1])*(box1[2]- box1[0])\n",
    "    box2_area = (box2[3] - box2[1])*(box2[2]- box2[0])\n",
    "    \n",
    "    # Formula: Union(A,B) = A + B - Inter(A,B)\n",
    "    # Stage 2: 다음의 공식을 참고하여 union_area를 구하는 코드를 작성해보세요!\n",
    "    \"\"\"\n",
    "    \n",
    "    union_area = \n",
    "    \n",
    "    \"\"\"\n",
    "\n",
    "    # Stage 3: IoU를 구하는 코드를 작성해보세요!\n",
    "    \"\"\"\n",
    "    \n",
    "    IoU = \n",
    "    \n",
    "    \"\"\"\n",
    "\n",
    "    return IoU"
   ]
  },
  {
   "cell_type": "markdown",
   "metadata": {},
   "source": [
    "### 정답"
   ]
  },
  {
   "cell_type": "code",
   "execution_count": null,
   "metadata": {},
   "outputs": [],
   "source": [
    "#정답 코드\n",
    "def IOU(box1, box2):\n",
    "    xi1 = max(box1[0], box2[0])\n",
    "    yi1 = max(box1[1], box2[1])\n",
    "    xi2 = min(box1[2], box2[2])\n",
    "    yi2 = min(box1[3], box2[3])\n",
    "    inter_area = (xi2 - xi1)*(yi2 - yi1)\n",
    "    \n",
    "    # Formula: Union(A,B) = A + B - Inter(A,B)\n",
    "    box1_area = (box1[3] - box1[1])*(box1[2]- box1[0])\n",
    "    box2_area = (box2[3] - box2[1])*(box2[2]- box2[0])\n",
    "    union_area = (box1_area + box2_area) - inter_area\n",
    "    \n",
    "    # compute the IoU\n",
    "    IoU = inter_area / union_area\n",
    "    return IoU"
   ]
  },
  {
   "cell_type": "markdown",
   "metadata": {},
   "source": [
    "### 다음의 예제 입출력을 이용하여 코드를 확인해보세요\n",
    "- <b>Example Input</b><br>\n",
    "box1 = [2, 8, 7, 3]<br>\n",
    "box2 = [3, 7, 9, 1]<br>\n",
    "IOU(box1, box2)\n",
    "\n",
    "- <b>Example Output</b><br>\n",
    "0.8484848484848485"
   ]
  },
  {
   "cell_type": "code",
   "execution_count": null,
   "metadata": {},
   "outputs": [],
   "source": [
    "box1 = [2, 8, 7, 3]\n",
    "box2 = [3, 7, 9, 1]\n",
    "\n",
    "IOU(box1, box2)"
   ]
  },
  {
   "cell_type": "markdown",
   "metadata": {},
   "source": [
    "# NMS 실습\n",
    "NMS의 알고리즘과 의사코드(pseudocode)를 참고하여 코드를 완성해봅시다!\n",
    "- Step 1. Confidence_Threshold 및 IOU_Threshold에 대한 값을 정의합니다.\n",
    "- Step 2. 경계 상자를 신뢰도가 높은 내림차순으로 정렬합니다.\n",
    "- Step 3. 신뢰도가 < Confidence_Threshold인 상자를 제거합니다.\n",
    "- Step 4. 신뢰도가 가장 높은 상자부터 시작하여 나머지 모든 상자를 반복합니다.\n",
    "- Step 5. 동일한 클래스에 속하는 나머지 모든 상자를 사용하여 현재 상자의 IOU를 계산합니다.\n",
    "- Step 6. 2개 상자의 IOU > IOU_Threshold인 경우 상자 목록에서 신뢰도가 낮은 상자를 제거합니다.\n",
    "- Step 7. 목록의 모든 상자를 살펴볼 때까지 이 작업을 반복합니다.\n",
    " <br><br>\n",
    "<img src=\"https://naknaklee.github.io/public/images/2021-03-08-NMS-2.png\" style=\"width:600px\">"
   ]
  },
  {
   "cell_type": "code",
   "execution_count": null,
   "metadata": {},
   "outputs": [],
   "source": [
    "def nms(boxes, conf_threshold=0.7, iou_threshold=0.4):\n",
    "    bbox_list_thresholded = [] # 낮은 신뢰도의 상자를 필터링한 후의 새 상자 목록을 포함하는 리스트\n",
    "    bbox_list_new = [] # NMS 수행 후 최종 상자 목록을 포함하는 리스트\n",
    "    \n",
    "    boxes_sorted = sorted(boxes, reverse=True, key = lambda x : x[5]) # box들을 내림차순으로 정렬\n",
    "    \n",
    "    # Stage 1: 신뢰도 < Confidence_Threshold인 상자를 제거하는 코드를 작성해보세요!\n",
    "    \"\"\"\n",
    "    for box in boxes_sorted:\n",
    "        if \n",
    "        \n",
    "        else:\n",
    "    \"\"\"\n",
    "    \n",
    "    # Stage 2: 모든 정렬된 상자를 반복하여, conf_threshold 보다 낮은 신뢰도를 갖는 상자를 제거하는 코드를 작성해보세요!\n",
    "    \"\"\"\n",
    "    while len(bbox_list_thresholded) > 0:\n",
    "        \n",
    "    \"\"\"\n",
    "        \n",
    "    return bbox_list_thresholded.remove(box)"
   ]
  },
  {
   "cell_type": "markdown",
   "metadata": {},
   "source": [
    "### 정답"
   ]
  },
  {
   "cell_type": "code",
   "execution_count": null,
   "metadata": {},
   "outputs": [],
   "source": [
    "# 정답 코드\n",
    "def nms(boxes, conf_threshold=0.7, iou_threshold=0.4):\n",
    "    bbox_list_thresholded = [] # 낮은 신뢰도의 상자를 필터링한 후의 새 상자 목록을 포함하는 리스트\n",
    "    bbox_list_new = [] # NMS 수행 후 최종 상자 목록을 포함하는 리스트\n",
    "    \n",
    "    boxes_sorted = sorted(boxes, reverse=True, key = lambda x : x[5]) # box들을 내림차순으로 정렬\n",
    "    \n",
    "    for box in boxes_sorted:\n",
    "        if box[5] > conf_threshold:\n",
    "            bbox_list_thresholded.append(box)\n",
    "        else:\n",
    "            pass\n",
    "                    \n",
    "    while len(bbox_list_thresholded) > 0:\n",
    "        current_box = bbox_list_thresholded.pop(0)\n",
    "        bbox_list_new.append(current_box)\n",
    "        for box in bbox_list_thresholded:\n",
    "            if current_box[4] == box[4]:\n",
    "                iou = IOU(current_box[:4], box[:4])\n",
    "                if iou > iou_threshold:\n",
    "                    bbox_list_thresholded.remove(box)\n",
    "                    \n",
    "    return bbox_list_new"
   ]
  },
  {
   "cell_type": "markdown",
   "metadata": {},
   "source": [
    "### 다음의 예제 입출력을 이용하여 코드의 옳고 그름을 확인해보세요\n",
    "- <b>Example Input</b><br>\n",
    "bbox_dog1 = [90, 261, 228, 378, \"Dog\", 0.9]\t\t&nbsp;&nbsp;&nbsp; # Defining the different bounding boxes<br>\n",
    "bbox_dog2 = [121, 290, 216, 374, \"Dog\", 0.6]\t<br>\n",
    "bbox_dog3 = [49, 265, 243, 388, \"Dog\", 0.85]\t<br>\n",
    "bbox_person1 = [234, 91, 359, 370, \"Person\", 0.95]\t<br>\n",
    "bbox_person2 = [239, 116, 359, 374, \"Person\", 0.45]\t<br>\n",
    "bbox_person3 = [234, 71, 359, 370, \"Person\", 0.92]\t<br>\n",
    "<br>\n",
    "bbox_list = [bbox_dog1, bbox_dog2, bbox_dog3, bbox_person1, bbox_person2, bbox_person3]\t&nbsp;&nbsp;&nbsp;# Creating the list of the boxes <br>\n",
    "<br>\n",
    "bbox_list_new = nms(bbox_list, conf_threshold=0.7, iou_threshold=0.4)\t&nbsp;&nbsp;&nbsp;# Call the function to perform NMS <br>\n",
    "<br>\n",
    "print(bbox_list_new) <br><br>\n",
    "\n",
    "- <b>Example Output</b><br>\n",
    "[[234, 91, 359, 370, 'Person', 0.95], [90, 261, 228, 378, 'Dog', 0.9]]"
   ]
  },
  {
   "cell_type": "code",
   "execution_count": null,
   "metadata": {},
   "outputs": [],
   "source": [
    "bbox_dog1 = [90, 261, 228, 378, \"Dog\", 0.9]\n",
    "bbox_dog2 = [121, 290, 216, 374, \"Dog\", 0.6]\n",
    "bbox_dog3 = [49, 265, 243, 388, \"Dog\", 0.85]\n",
    "bbox_person1 = [234, 91, 359, 370, \"Person\", 0.95]\n",
    "bbox_person2 = [239, 116, 359, 374, \"Person\", 0.45]\t\n",
    "bbox_person3 = [234, 71, 359, 370, \"Person\", 0.92]\n",
    "\n",
    "bbox_list = [bbox_dog1, bbox_dog2, bbox_dog3, bbox_person1, bbox_person2, bbox_person3]\n",
    "\n",
    "bbox_list_new = nms(bbox_list, conf_threshold=0.7, iou_threshold=0.4)\n",
    "print(bbox_list_new) "
   ]
  }
 ],
 "metadata": {
  "kernelspec": {
   "display_name": "Python 3.9.7 ('base')",
   "language": "python",
   "name": "python3"
  },
  "language_info": {
   "codemirror_mode": {
    "name": "ipython",
    "version": 3
   },
   "file_extension": ".py",
   "mimetype": "text/x-python",
   "name": "python",
   "nbconvert_exporter": "python",
   "pygments_lexer": "ipython3",
   "version": "3.9.7"
  },
  "orig_nbformat": 4,
  "vscode": {
   "interpreter": {
    "hash": "9f97aa8518b52dde4a4274341243c566909ce16de0420ee43cf19df6a64f044a"
   }
  }
 },
 "nbformat": 4,
 "nbformat_minor": 2
}
