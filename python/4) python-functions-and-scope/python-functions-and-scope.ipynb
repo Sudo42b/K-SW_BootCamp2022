{
 "cells": [
  {
   "cell_type": "markdown",
   "metadata": {},
   "source": [
    "# Writing Reusable Code using Functions in Python\r\n",
    "\r\n",
    "![](https://i.imgur.com/TvNf5Jp.png)\r\n",
    "\r\n",
    "### Part 4 of \"Data Analysis with Python: Zero to Pandas\"\r\n",
    "\r\n"
   ]
  },
  {
   "cell_type": "markdown",
   "metadata": {},
   "source": [
    "다음은 이번 강의에서 다룰 주제입니다:\r\n",
    "\r\n",
    "* 함수를 생성 및 사용하는 법\r\n",
    "* 하나 이상의 인수를 사욯하는 함수\r\n",
    "* 지역 변수 및 범주\r\n",
    "* `return`을 사용하여 값을 반환\r\n",
    "* 기능을 유용하게 만들기 위하여 기본 인자 사용\r\n",
    "* 함수를 호출할 때. 이름지어진 인자 사용\r\n",
    "* 모듈 가져오기 및 라이브러리 사용\r\n",
    "* 새로운 활용 사례 처리를 위한 기능 재사용 및 개선\r\n",
    "* `try`- `exception`으로 예외 처리\r\n",
    "* Docstring 을 이용한 함수 문서 명세"
   ]
  },
  {
   "cell_type": "markdown",
   "metadata": {},
   "source": [
    "## Creating and using functions\r\n",
    "함수는 하나 이상의 입력을 사용하고, 작업을 수행하며, 출력을 반환하는 재사용 가능한 명령의 집합입니다.  \r\n",
    "Python은 `print`,`len` 등과 같은 많은 내장 기능을 포함하며, 새로운 기능을 정의할 수도 있습니다."
   ]
  },
  {
   "cell_type": "code",
   "execution_count": 1,
   "metadata": {},
   "outputs": [
    {
     "name": "stdout",
     "output_type": "stream",
     "text": [
      "Today is Saturday\n"
     ]
    }
   ],
   "source": [
    "today = \"Saturday\"\n",
    "print(\"Today is\", today)"
   ]
  },
  {
   "cell_type": "markdown",
   "metadata": {},
   "source": [
    "\r\n",
    "`def` 를 사용하여 새로운 함수를 정의할 수 있습니다."
   ]
  },
  {
   "cell_type": "code",
   "execution_count": 2,
   "metadata": {},
   "outputs": [],
   "source": [
    "def say_hello():\n",
    "    print('Hello there!')\n",
    "    print('How are you?')"
   ]
  },
  {
   "cell_type": "markdown",
   "metadata": {},
   "source": [
    "\r\n",
    "함수 이름 뒤에 대괄호 또는 `()`과 `:`을 붙입니다.  함수의 본문은 들여쓰기로 구분합니다.  \r\n",
    "기능이 정의 될 때는 기능의 본문 내부에 있는 내용이 실행되지 않습니다. 함수가 호출되게 되면, 해당 내용이 실행됩니다."
   ]
  },
  {
   "cell_type": "code",
   "execution_count": 3,
   "metadata": {},
   "outputs": [
    {
     "name": "stdout",
     "output_type": "stream",
     "text": [
      "Hello there!\n",
      "How are you?\n"
     ]
    }
   ],
   "source": [
    "say_hello()"
   ]
  },
  {
   "cell_type": "markdown",
   "metadata": {},
   "source": [
    "### Function arguments\r\n",
    "함수는 0개 이상의 값을 입력으로 받을 수 있습니다.(`인자` 혹은 `매개 변수`라고 불립니다.) 인자값은 변수의 값의 따라 다른 연산을 하도록 하는 함수를 작성할수 있게 해줍니다.  \r\n",
    "함수는 변수의 값을 저장하거나 또 다른 다양한 방식으로 결과를 반환한다.  \r\n",
    "\r\n",
    " 다음 함수는 list에서 짝수를 걸러내고 `return` 를 통하여 새로운 만들어진 list를 반환한다.\r\n"
   ]
  },
  {
   "cell_type": "code",
   "execution_count": 4,
   "metadata": {},
   "outputs": [],
   "source": [
    "def filter_even(number_list):\n",
    "    result_list = []\n",
    "    for number in number_list:\n",
    "        if number % 2 == 0:\n",
    "            result_list.append(number)\n",
    "    return result_list"
   ]
  },
  {
   "cell_type": "code",
   "execution_count": 5,
   "metadata": {},
   "outputs": [],
   "source": [
    "even_list = filter_even([1, 2, 3, 4, 5, 6, 7])"
   ]
  },
  {
   "cell_type": "code",
   "execution_count": 6,
   "metadata": {},
   "outputs": [
    {
     "data": {
      "text/plain": [
       "[2, 4, 6]"
      ]
     },
     "execution_count": 6,
     "metadata": {},
     "output_type": "execute_result"
    }
   ],
   "source": [
    "even_list"
   ]
  },
  {
   "cell_type": "markdown",
   "metadata": {},
   "source": [
    "## Writing great functions in Python\r\n",
    "\r\n",
    "Python은 다양한 함수를 강력하고 유연하게 해주는 기능을 제공합니다.  \r\n",
    "다음 중 몇 가지 문제를 해결하여 살펴보겠습니다.  \r\n",
    "\r\n",
    "\r\n",
    "> 라다씨는 `$1,260,000`짜리 집을 살계획이다. 그녀는 구매 자금을 조달하기 위해 두 가지 조건을 고려하고 있습니다.:\r\n",
    "\r\n",
    "> * Option 1: 즉시, 계약금 30만 달러를 내고 나머지 금액에 대해서는 월 10%의 이자율로 8년 만기 대출을 받는다.\r\n",
    "> * Option 2: 10년 만기 대출은 전체 금액에 대해 이자율 8%(매월 합산)로 받으세요.\r\n",
    ">\r\n",
    "> 이 두 대출 모두 동일한 월부금 일 때, 둘 중 월부금의 총합이 낮은 대출은 무엇입니까?\r\n",
    "\r\n",
    "\r\n",
    "두 가지 대출 옵션에 대한 월부금를 비교할 필요가 있으므로 대출에 대한 월부금를 계산하는 기능을 정의하는 것이 좋은 아이디어일 것이다. 기능에 대한 입력은 주택 비용, 계약금, 대출 기간, 이자율 등이 될 것이다. 차근차근 이 기능을 구축하겠습니다.\r\n",
    "\r\n",
    "먼저, 대출금을 1년 안에 갚아야 학소 이자나 계약금은 없다고 가정하여 주택 전체 비용에 대한 월부금 계산하는 간단한 함수를 작성해봅시다."
   ]
  },
  {
   "cell_type": "code",
   "execution_count": 7,
   "metadata": {},
   "outputs": [],
   "source": [
    "def loan_emi(amount):\n",
    "    emi = amount / 12\n",
    "    print('The EMI is ${}'.format(emi))"
   ]
  },
  {
   "cell_type": "code",
   "execution_count": 8,
   "metadata": {},
   "outputs": [
    {
     "name": "stdout",
     "output_type": "stream",
     "text": [
      "The EMI is $105000.0\n"
     ]
    }
   ],
   "source": [
    "loan_emi(1260000)"
   ]
  },
  {
   "cell_type": "markdown",
   "metadata": {},
   "source": [
    "### 지역변수 및 볌위\r\n",
    "\r\n",
    "대출기간을 고려하기 위해 2번째 인자값을 추가해 봅시다."
   ]
  },
  {
   "cell_type": "code",
   "execution_count": 9,
   "metadata": {},
   "outputs": [],
   "source": [
    "def loan_emi(amount, duration):\n",
    "    emi = amount / duration\n",
    "    print('The EMI is ${}'.format(emi))"
   ]
  },
  {
   "cell_type": "markdown",
   "metadata": {},
   "source": [
    "\r\n",
    "함수 내부에 정의된 변수 'emi'는 외부에서 액세스할 수 없습니다. 다른 `amount` ,`duration` 매개 변수도 마찬가지입니다.  \r\n",
    "이러한 모든 `지역변수`는 함수 범위 내에 있습니다.\r\n",
    "\r\n",
    "> **범위**: 범위는 코드 내에서 특정 변수가 표시되는 영역을 나타냅니다. 모든 함수(혹은 클래스 정의)는  Python 내에서 범위를 정의합니다.  \r\n",
    "> 이 범위에서 정의된 변수를 `로컬 변수`라고 합니다. 어디서나 사용할 수 있는 변수를 `글로벌 변수` 라고 합니다. 범위 규칙을 사용하면 값을 서로 공유하지 않고 서로 다른 기능에서 동일한 변수의 이름을 사용할 수 있습니다."
   ]
  },
  {
   "cell_type": "code",
   "execution_count": 10,
   "metadata": {},
   "outputs": [
    {
     "ename": "NameError",
     "evalue": "name 'emi' is not defined",
     "output_type": "error",
     "traceback": [
      "\u001b[1;31m---------------------------------------------------------------------------\u001b[0m",
      "\u001b[1;31mNameError\u001b[0m                                 Traceback (most recent call last)",
      "\u001b[1;32m<ipython-input-10-e5795bfcf3c1>\u001b[0m in \u001b[0;36m<module>\u001b[1;34m\u001b[0m\n\u001b[1;32m----> 1\u001b[1;33m \u001b[0memi\u001b[0m\u001b[1;33m\u001b[0m\u001b[1;33m\u001b[0m\u001b[0m\n\u001b[0m",
      "\u001b[1;31mNameError\u001b[0m: name 'emi' is not defined"
     ]
    }
   ],
   "source": [
    "emi"
   ]
  },
  {
   "cell_type": "code",
   "execution_count": 11,
   "metadata": {},
   "outputs": [
    {
     "ename": "NameError",
     "evalue": "name 'amount' is not defined",
     "output_type": "error",
     "traceback": [
      "\u001b[1;31m---------------------------------------------------------------------------\u001b[0m",
      "\u001b[1;31mNameError\u001b[0m                                 Traceback (most recent call last)",
      "\u001b[1;32m<ipython-input-11-9b8f90fabac0>\u001b[0m in \u001b[0;36m<module>\u001b[1;34m\u001b[0m\n\u001b[1;32m----> 1\u001b[1;33m \u001b[0mamount\u001b[0m\u001b[1;33m\u001b[0m\u001b[1;33m\u001b[0m\u001b[0m\n\u001b[0m",
      "\u001b[1;31mNameError\u001b[0m: name 'amount' is not defined"
     ]
    }
   ],
   "source": [
    "amount"
   ]
  },
  {
   "cell_type": "code",
   "execution_count": 12,
   "metadata": {},
   "outputs": [
    {
     "ename": "NameError",
     "evalue": "name 'duration' is not defined",
     "output_type": "error",
     "traceback": [
      "\u001b[0;31m---------------------------------------------------------------------------\u001b[0m",
      "\u001b[0;31mNameError\u001b[0m                                 Traceback (most recent call last)",
      "\u001b[0;32m<ipython-input-12-5b6659652103>\u001b[0m in \u001b[0;36m<module>\u001b[0;34m\u001b[0m\n\u001b[0;32m----> 1\u001b[0;31m \u001b[0mduration\u001b[0m\u001b[0;34m\u001b[0m\u001b[0;34m\u001b[0m\u001b[0m\n\u001b[0m",
      "\u001b[0;31mNameError\u001b[0m: name 'duration' is not defined"
     ]
    }
   ],
   "source": [
    "duration"
   ]
  },
  {
   "cell_type": "markdown",
   "metadata": {},
   "source": [
    "이제 6년 만기 대출과 10년 만기 대출을 비교할 수 있다."
   ]
  },
  {
   "cell_type": "code",
   "execution_count": 13,
   "metadata": {},
   "outputs": [
    {
     "name": "stdout",
     "output_type": "stream",
     "text": [
      "The EMI is $13125.0\n"
     ]
    }
   ],
   "source": [
    "loan_emi(1260000, 8*12)"
   ]
  },
  {
   "cell_type": "code",
   "execution_count": 14,
   "metadata": {
    "scrolled": true
   },
   "outputs": [
    {
     "name": "stdout",
     "output_type": "stream",
     "text": [
      "The EMI is $10500.0\n"
     ]
    }
   ],
   "source": [
    "loan_emi(1260000, 10*12)"
   ]
  },
  {
   "cell_type": "markdown",
   "metadata": {},
   "source": [
    "### 반환값\r\n",
    "\r\n",
    "예상할 수 있듯이, 6년 대출의 월부금은 10년 대출에 비해 높습니다. 지금 결과를 출력하고 있습니다.  \r\n",
    "비교하기 쉽도록 반환하고 결과를 변수에 저장하는 것이 좋습니다. `return` 구문를 사용하여 이 작업을 수행할 수 있습니다.\r\n"
   ]
  },
  {
   "cell_type": "code",
   "execution_count": 15,
   "metadata": {},
   "outputs": [],
   "source": [
    "def loan_emi(amount, duration):\n",
    "    emi = amount / duration\n",
    "    return emi"
   ]
  },
  {
   "cell_type": "code",
   "execution_count": 16,
   "metadata": {},
   "outputs": [],
   "source": [
    "emi1 = loan_emi(1260000, 8*12)"
   ]
  },
  {
   "cell_type": "code",
   "execution_count": 17,
   "metadata": {},
   "outputs": [],
   "source": [
    "emi2 = loan_emi(1260000, 10*12)"
   ]
  },
  {
   "cell_type": "code",
   "execution_count": 18,
   "metadata": {
    "scrolled": true
   },
   "outputs": [
    {
     "data": {
      "text/plain": [
       "13125.0"
      ]
     },
     "execution_count": 18,
     "metadata": {},
     "output_type": "execute_result"
    }
   ],
   "source": [
    "emi1"
   ]
  },
  {
   "cell_type": "code",
   "execution_count": 19,
   "metadata": {},
   "outputs": [
    {
     "data": {
      "text/plain": [
       "10500.0"
      ]
     },
     "execution_count": 19,
     "metadata": {},
     "output_type": "execute_result"
    }
   ],
   "source": [
    "emi2"
   ]
  },
  {
   "cell_type": "markdown",
   "metadata": {},
   "source": [
    "### 선택적 인자값\r\n",
    "\r\n",
    "다음으로, 즉시 계약금을 고려하기 위해 다른 인자값을 추가해봅시다. 해당 인자값의 초기값은 `0`인 `선택적 인자값`로 정의합니다."
   ]
  },
  {
   "cell_type": "code",
   "execution_count": 20,
   "metadata": {},
   "outputs": [],
   "source": [
    "def loan_emi(amount, duration, down_payment=0):\n",
    "    loan_amount = amount - down_payment\n",
    "    emi = loan_amount / duration\n",
    "    return emi"
   ]
  },
  {
   "cell_type": "code",
   "execution_count": 21,
   "metadata": {},
   "outputs": [],
   "source": [
    "emi1 = loan_emi(1260000, 8*12, 3e5)"
   ]
  },
  {
   "cell_type": "code",
   "execution_count": 22,
   "metadata": {},
   "outputs": [
    {
     "data": {
      "text/plain": [
       "10000.0"
      ]
     },
     "execution_count": 22,
     "metadata": {},
     "output_type": "execute_result"
    }
   ],
   "source": [
    "emi1"
   ]
  },
  {
   "cell_type": "code",
   "execution_count": 23,
   "metadata": {},
   "outputs": [],
   "source": [
    "emi2 = loan_emi(1260000, 10*12)"
   ]
  },
  {
   "cell_type": "code",
   "execution_count": 24,
   "metadata": {},
   "outputs": [
    {
     "data": {
      "text/plain": [
       "10500.0"
      ]
     },
     "execution_count": 24,
     "metadata": {},
     "output_type": "execute_result"
    }
   ],
   "source": [
    "emi2"
   ]
  },
  {
   "cell_type": "markdown",
   "metadata": {},
   "source": [
    "다음으로, 함수에 아래 수식을 추가하려고 합니다. 이 수식은 대출에 대한 월부금을 계산하는데 사용됩니다.\r\n",
    "\r\n",
    "<img src=\"https://i.imgur.com/iKujHGK.png\" style=\"width:240px\">\r\n",
    "\r\n",
    "* `P` 는 대출의 총합\r\n",
    "* `n` 는 개월 수\r\n",
    "* `r` 는 월 이율"
   ]
  },
  {
   "cell_type": "code",
   "execution_count": 25,
   "metadata": {},
   "outputs": [],
   "source": [
    "def loan_emi(amount, duration, rate, down_payment=0):\n",
    "    loan_amount = amount - down_payment\n",
    "    emi = loan_amount * rate * ((1+rate)**duration) / (((1+rate)**duration)-1)\n",
    "    return emi"
   ]
  },
  {
   "cell_type": "markdown",
   "metadata": {},
   "source": [
    "Note that while defining the function, required arguments like `cost`, `duration` and `rate` must appear before optional arguments like `down_payment`.\r\n",
    "\r\n",
    "함수를 정의할 때, `cost`, `duration`, `rate` 와 같은 필수적인 인자들은 `down_payment`와 같은 선택적 인자보다 앞에 나타나야합니다.\r\n",
    "\r\n",
    "Option 1에 대한 월이율을 계산해보겠습니다."
   ]
  },
  {
   "cell_type": "code",
   "execution_count": 26,
   "metadata": {
    "scrolled": true
   },
   "outputs": [
    {
     "data": {
      "text/plain": [
       "14567.19753389219"
      ]
     },
     "execution_count": 26,
     "metadata": {},
     "output_type": "execute_result"
    }
   ],
   "source": [
    "loan_emi(1260000, 8*12, 0.1/12, 3e5)"
   ]
  },
  {
   "cell_type": "markdown",
   "metadata": {},
   "source": [
    "While calculating the EMI for Option 2, we need not include the `down_payment` argument."
   ]
  },
  {
   "cell_type": "code",
   "execution_count": 27,
   "metadata": {},
   "outputs": [
    {
     "data": {
      "text/plain": [
       "15287.276888775077"
      ]
     },
     "execution_count": 27,
     "metadata": {},
     "output_type": "execute_result"
    }
   ],
   "source": [
    "loan_emi(1260000, 10*12, 0.08/12)"
   ]
  },
  {
   "cell_type": "markdown",
   "metadata": {},
   "source": [
    "### Named arguments\r\n",
    "\r\n",
    "많은 인자값이 필요한 함수는 종종 혼란을 유발합니다. 때문에 Python은 명확한 인자의 구별을 위해 **nameed** 인수를 사용하여 함수를 호춣하는 옵션을 제공합니다.  \r\n",
    "함수 호출은 여러 줄로 분할할 수도 있습니다.\r\n"
   ]
  },
  {
   "cell_type": "code",
   "execution_count": 28,
   "metadata": {},
   "outputs": [],
   "source": [
    "emi1 = loan_emi(\n",
    "    amount=1260000, \n",
    "    duration=8*12, \n",
    "    rate=0.1/12, \n",
    "    down_payment=3e5\n",
    ")"
   ]
  },
  {
   "cell_type": "code",
   "execution_count": 29,
   "metadata": {},
   "outputs": [
    {
     "data": {
      "text/plain": [
       "14567.19753389219"
      ]
     },
     "execution_count": 29,
     "metadata": {},
     "output_type": "execute_result"
    }
   ],
   "source": [
    "emi1"
   ]
  },
  {
   "cell_type": "code",
   "execution_count": 30,
   "metadata": {},
   "outputs": [],
   "source": [
    "emi2 = loan_emi(amount=1260000, duration=10*12, rate=0.08/12)"
   ]
  },
  {
   "cell_type": "code",
   "execution_count": 31,
   "metadata": {},
   "outputs": [
    {
     "data": {
      "text/plain": [
       "15287.276888775077"
      ]
     },
     "execution_count": 31,
     "metadata": {},
     "output_type": "execute_result"
    }
   ],
   "source": [
    "emi2"
   ]
  },
  {
   "cell_type": "markdown",
   "metadata": {},
   "source": [
    "### Modules and library functions\r\n",
    "\r\n",
    "옵션 1의 월부금가 옵션 2의 월부금보다 낮다는 것을 알 수 있습니다. 다만 소수점 이하 자릿수보다는 달러화그로 반올림하면 좋을 것 같다. 이를 위해 숫자를 받아 올림할 수 있는 함수를 작성할 수 있습니다(예: 1.2는 2까지 올림).\r\n",
    "\r\n",
    "Python에서는 올림기능을 함수로 제공합니다. [Python Standard Library](https://docs.python.org/3/library/).  \r\n",
    "함수들은 **모듈**안에 구성되어있으며 필요하면 가져와서 사용할 수 있습니다.\r\n",
    "\r\n",
    "> **Modules**: 모듈이란 Python 코드가 있는 파일이다. 모듈은 Python 프로젝트의 코드를 파일과 폴더로 구성하는 방법을 제공한다.  \r\n",
    "> Python 스크립트 또는 notebook에서 모듈의 함수를 사용하려면 모듈을 불러와야합니다.  \r\n",
    "> 모듈에서 강점은 _namespaces_ 입니다.\r\n",
    "> _namespaces_는 캡슐화를 통해 코드와 모듈 또는 모듈 간의 이름 충돌을 방지합니다.\r\n",
    "\r\n",
    "`math` 모듈을 통해 산술 모듈의 `ceil` 함수를 사용하여 올림 기능을 사용할 수 있습니다."
   ]
  },
  {
   "cell_type": "code",
   "execution_count": 32,
   "metadata": {},
   "outputs": [],
   "source": [
    "import math"
   ]
  },
  {
   "cell_type": "code",
   "execution_count": 33,
   "metadata": {},
   "outputs": [
    {
     "name": "stdout",
     "output_type": "stream",
     "text": [
      "Help on built-in function ceil in module math:\n",
      "\n",
      "ceil(x, /)\n",
      "    Return the ceiling of x as an Integral.\n",
      "    \n",
      "    This is the smallest integer >= x.\n",
      "\n"
     ]
    }
   ],
   "source": [
    "help(math.ceil)"
   ]
  },
  {
   "cell_type": "code",
   "execution_count": 34,
   "metadata": {},
   "outputs": [
    {
     "data": {
      "text/plain": [
       "2"
      ]
     },
     "execution_count": 34,
     "metadata": {},
     "output_type": "execute_result"
    }
   ],
   "source": [
    "math.ceil(1.2)"
   ]
  },
  {
   "cell_type": "markdown",
   "metadata": {},
   "source": [
    "이제 `math.ceil`함수를 사용하여 `home_loan_emi` 함수의 총 EMI값을 올림하는 기능을 완성해봅시다.\r\n",
    "\r\n",
    "> 함수를 사용하여 다른 기능을 구축하면 코드를 재사용할 수 있고, 복잡한 논리를 관략하게 구현하고 간편하게 관리 할 수 있습니다.  \r\n",
    "> 이상적으로 한개의 함수는 한가지 기능만을 수행해야 합니다. "
   ]
  },
  {
   "cell_type": "markdown",
   "metadata": {},
   "source": []
  },
  {
   "cell_type": "code",
   "execution_count": 35,
   "metadata": {},
   "outputs": [],
   "source": [
    "def loan_emi(amount, duration, rate, down_payment=0):\n",
    "    loan_amount = amount - down_payment\n",
    "    emi = loan_amount * rate * ((1+rate)**duration) / (((1+rate)**duration)-1)\n",
    "    emi = math.ceil(emi)\n",
    "    return emi"
   ]
  },
  {
   "cell_type": "code",
   "execution_count": 36,
   "metadata": {},
   "outputs": [],
   "source": [
    "emi1 = loan_emi(\n",
    "    amount=1260000, \n",
    "    duration=8*12, \n",
    "    rate=0.1/12, \n",
    "    down_payment=3e5\n",
    ")"
   ]
  },
  {
   "cell_type": "code",
   "execution_count": 37,
   "metadata": {},
   "outputs": [
    {
     "data": {
      "text/plain": [
       "14568"
      ]
     },
     "execution_count": 37,
     "metadata": {},
     "output_type": "execute_result"
    }
   ],
   "source": [
    "emi1"
   ]
  },
  {
   "cell_type": "code",
   "execution_count": 38,
   "metadata": {},
   "outputs": [],
   "source": [
    "emi2 = loan_emi(amount=1260000, duration=10*12, rate=0.08/12)"
   ]
  },
  {
   "cell_type": "code",
   "execution_count": 39,
   "metadata": {},
   "outputs": [
    {
     "data": {
      "text/plain": [
       "15288"
      ]
     },
     "execution_count": 39,
     "metadata": {},
     "output_type": "execute_result"
    }
   ],
   "source": [
    "emi2"
   ]
  },
  {
   "cell_type": "markdown",
   "metadata": {},
   "source": []
  },
  {
   "cell_type": "markdown",
   "metadata": {},
   "source": [
    "\r\n",
    "EMI 값을 비교하여, 낮은 EMI 값을 가지는 옵션을 메세지로 출력해보겠습니다."
   ]
  },
  {
   "cell_type": "code",
   "execution_count": 40,
   "metadata": {},
   "outputs": [
    {
     "name": "stdout",
     "output_type": "stream",
     "text": [
      "Option 1 has the lower EMI: $14568\n"
     ]
    }
   ],
   "source": [
    "if emi1 < emi2:\n",
    "    print(\"Option 1 has the lower EMI: ${}\".format(emi1))\n",
    "else:\n",
    "    print(\"Option 2 has the lower EMI: ${}\".format(emi2))"
   ]
  },
  {
   "cell_type": "markdown",
   "metadata": {},
   "source": [
    "### 함수의 개선과 재사용성\r\n",
    "\r\n",
    "이제 `Option 1`이 두 옵션 중 낮은 EMI를 가지고 있는 것을 알았습니다. 하지만 더 좋은 것은 이제 우리가 단 몇줄의 코드만으로 비슷한 문제들을 해결할 수 있는 편리한 함수인 `loan_emi`를 가지고 있다는 것 입니다.   \r\n",
    "\r\n",
    "아래에 추가적인 질문에 답해봅시다."
   ]
  },
  {
   "cell_type": "markdown",
   "metadata": {},
   "source": [
    "> **Q**: 숀은 현재 몇 년 전에 구입한 집을 위해 주택 융자를 갚고 있다. 집값은 80만 달러였고 숀은 25%의 계약금을 냈다. 나머지 금액은 연 7%(매월 합산)의 6년 만기 대출로 조달했다. 숀은 연 12%의 금리로 1년 만기 대출을 받아 6만 달러 상당의 자동차를 구입하고 있다. 두 대출 모두 EMI로 상환된다. 숀이 대출 상환을 위해 매달 지불하는 총 금액은 얼마입니까?\r\n",
    "> \r\n",
    "이제 개발한 `loan_emi` 함수를 통해 해당 질문을 해결할 수 있습니다. "
   ]
  },
  {
   "cell_type": "code",
   "execution_count": 41,
   "metadata": {},
   "outputs": [
    {
     "data": {
      "text/plain": [
       "10230"
      ]
     },
     "execution_count": 41,
     "metadata": {},
     "output_type": "execute_result"
    }
   ],
   "source": [
    "cost_of_house = 800000\n",
    "home_loan_duration = 6*12 # months\n",
    "home_loan_rate = 0.07/12 # monthly\n",
    "home_down_payment = .25 * 800000\n",
    "\n",
    "emi_house = loan_emi(amount=cost_of_house,\n",
    "                     duration=home_loan_duration,\n",
    "                     rate=home_loan_rate, \n",
    "                     down_payment=home_down_payment)\n",
    "\n",
    "emi_house"
   ]
  },
  {
   "cell_type": "code",
   "execution_count": 42,
   "metadata": {},
   "outputs": [
    {
     "data": {
      "text/plain": [
       "5331"
      ]
     },
     "execution_count": 42,
     "metadata": {},
     "output_type": "execute_result"
    }
   ],
   "source": [
    "cost_of_car = 60000\n",
    "car_loan_duration = 1*12 # months\n",
    "car_loan_rate = .12/12 # monthly\n",
    "\n",
    "emi_car = loan_emi(amount=cost_of_car, \n",
    "                   duration=car_loan_duration, \n",
    "                   rate=car_loan_rate)\n",
    "\n",
    "emi_car"
   ]
  },
  {
   "cell_type": "code",
   "execution_count": 43,
   "metadata": {},
   "outputs": [
    {
     "name": "stdout",
     "output_type": "stream",
     "text": [
      "Shaun makes a total monthly payment of $15561 towards loan repayments.\n"
     ]
    }
   ],
   "source": [
    "print(\"Shaun makes a total monthly payment of ${} towards loan repayments.\".format(emi_house+emi_car))"
   ]
  },
  {
   "cell_type": "markdown",
   "metadata": {},
   "source": [
    "### 예외처리 와 `try`-`except`\r\n",
    "\r\n",
    "> Q: 연리 9%의 10년 만기 대출로 10만 달러를 빌린다면 이자는 얼마가 됩니까?\r\n",
    "\r\n",
    "이 문제를 해결하는 방법은 두 대출에 대한 EMI를 비교해보는 것이다. 하나는 주어진 이자율이고 다른 하나는 0% 이자율이다. 총 이자는 단순히 대출기간 동안의 월차이의 합계이다."
   ]
  },
  {
   "cell_type": "code",
   "execution_count": 44,
   "metadata": {},
   "outputs": [
    {
     "data": {
      "text/plain": [
       "1267"
      ]
     },
     "execution_count": 44,
     "metadata": {},
     "output_type": "execute_result"
    }
   ],
   "source": [
    "emi_with_interest = loan_emi(amount=100000, duration=10*12, rate=0.09/12)\n",
    "emi_with_interest"
   ]
  },
  {
   "cell_type": "code",
   "execution_count": 12,
   "metadata": {},
   "outputs": [
    {
     "ename": "TypeError",
     "evalue": "loan_emi() got an unexpected keyword argument 'rate'",
     "output_type": "error",
     "traceback": [
      "\u001b[1;31m---------------------------------------------------------------------------\u001b[0m",
      "\u001b[1;31mTypeError\u001b[0m                                 Traceback (most recent call last)",
      "\u001b[1;32m<ipython-input-12-b684ffbee02d>\u001b[0m in \u001b[0;36m<module>\u001b[1;34m\u001b[0m\n\u001b[1;32m----> 1\u001b[1;33m \u001b[0memi_without_interest\u001b[0m \u001b[1;33m=\u001b[0m \u001b[0mloan_emi\u001b[0m\u001b[1;33m(\u001b[0m\u001b[0mamount\u001b[0m\u001b[1;33m=\u001b[0m\u001b[1;36m100000\u001b[0m\u001b[1;33m,\u001b[0m \u001b[0mduration\u001b[0m\u001b[1;33m=\u001b[0m\u001b[1;36m10\u001b[0m\u001b[1;33m*\u001b[0m\u001b[1;36m12\u001b[0m\u001b[1;33m,\u001b[0m \u001b[0mrate\u001b[0m\u001b[1;33m=\u001b[0m\u001b[1;36m0.\u001b[0m\u001b[1;33m/\u001b[0m\u001b[1;36m12\u001b[0m\u001b[1;33m)\u001b[0m\u001b[1;33m\u001b[0m\u001b[1;33m\u001b[0m\u001b[0m\n\u001b[0m\u001b[0;32m      2\u001b[0m \u001b[0memi_without_interest\u001b[0m\u001b[1;33m\u001b[0m\u001b[1;33m\u001b[0m\u001b[0m\n",
      "\u001b[1;31mTypeError\u001b[0m: loan_emi() got an unexpected keyword argument 'rate'"
     ]
    }
   ],
   "source": [
    "emi_without_interest = loan_emi(amount=100000, duration=10*12, rate=0./12)\n",
    "emi_without_interest"
   ]
  },
  {
   "cell_type": "markdown",
   "metadata": {},
   "source": [
    "이따금 `wrong!` 에러메세지가 뜨는데, 주의 깊게 보시면 파이썬이 정확히 어떤 문제가 있는지 알려줍니다.\r\n",
    "Python은 숫자를 `0`으로 나누려고 하면 `ZeroDiveisionError`메세지를 띄웁니다. 해당 에러는 프로그램의 추가 실행을 중지시키는 `예외` 입니다.\r\n",
    "\r\n",
    "> **Exception**: 문법이나 식이 올바르더라도 Python 인터프리터가 실행하려고 할 때 오류가 발생할 수 있습니다.  \r\n",
    "> 예외는 일반적으로 프로그램 내에서 `try`- `except` 구문을 제외하고 처리하지 않는 한 프로그램 실행을 중단합니다.\r\n",
    "\r\n",
    "Python은 기본 연산자, 함수 또는 메서드가 잘못 사용될 때를 위한 기본 예외 처리를 제공합니다.https://docs.python.org/3/library/exceptions.html#built-in-exceptions.  \r\n",
    "또한 사용자가 자체적으로 커스텀 `예외처리`클래스를 정의 할 수도 있습니다.\r\n",
    "\r\n",
    "`try` -  `except`문을 사용하여 예외처리를 할 수 있습니다. 예제는 다음과 같습니다."
   ]
  },
  {
   "cell_type": "code",
   "execution_count": 46,
   "metadata": {},
   "outputs": [
    {
     "name": "stdout",
     "output_type": "stream",
     "text": [
      "Now computing the result..\n",
      "Failed to compute result because you were trying to divide by zero\n",
      "None\n"
     ]
    }
   ],
   "source": [
    "try:\n",
    "    print(\"Now computing the result..\")\n",
    "    result = 5 / 0\n",
    "    print(\"Computation was completed successfully\")\n",
    "except ZeroDivisionError:\n",
    "    print(\"Failed to compute result because you were trying to divide by zero\")\n",
    "    result = None\n",
    "\n",
    "print(result)"
   ]
  },
  {
   "cell_type": "markdown",
   "metadata": {},
   "source": [
    "`try` 문 블럭에서 예외가 발생하면 해당 블럭의 나머지 내용은 건너뜁니다. `except` 블록은 예외 유형이 처리 중인 예외 유형과 일치하는 경우 실행되는 블럭입니다.  \r\n",
    "`except`블럭이 실행된 후 프로그렘은 다시 정상적으로 실행됩니다.\r\n",
    "\r\n",
    "복수의 `except`문을 사용하여 복수의 예외 유형을 처리할 수 있습니다.  예외처리는 다음을 참고하시기 바랍니다.  https://www.w3schools.com/python/python_try_except.asp \r\n",
    "\r\n",
    "\r\n",
    "금리가 0%인 조건에서 `try` - `except`문을 상용할 수 있도록 `loan_emi` 함수를 개선해봅시다.  \r\n",
    "새로운 시나리오와 사용사례가 등장하면 함수를 변경/개선하는 것은 일반적입니다."
   ]
  },
  {
   "cell_type": "code",
   "execution_count": 47,
   "metadata": {},
   "outputs": [],
   "source": [
    "def loan_emi(amount, duration, rate, down_payment=0):\n",
    "    loan_amount = amount - down_payment\n",
    "    try:\n",
    "        emi = loan_amount * rate * ((1+rate)**duration) / (((1+rate)**duration)-1)\n",
    "    except ZeroDivisionError:\n",
    "        emi = loan_amount / duration\n",
    "    emi = math.ceil(emi)\n",
    "    return emi"
   ]
  },
  {
   "cell_type": "markdown",
   "metadata": {},
   "source": [
    "\r\n",
    "> **Q**: 연리 9%의 10년 만기 대출로 10만 달러를 빌린다면 이자는 얼마가 됩니까?"
   ]
  },
  {
   "cell_type": "code",
   "execution_count": 48,
   "metadata": {},
   "outputs": [
    {
     "data": {
      "text/plain": [
       "1267"
      ]
     },
     "execution_count": 48,
     "metadata": {},
     "output_type": "execute_result"
    }
   ],
   "source": [
    "emi_with_interest = loan_emi(amount=100000, duration=10*12, rate=0.09/12)\n",
    "emi_with_interest"
   ]
  },
  {
   "cell_type": "code",
   "execution_count": 49,
   "metadata": {},
   "outputs": [
    {
     "data": {
      "text/plain": [
       "834"
      ]
     },
     "execution_count": 49,
     "metadata": {},
     "output_type": "execute_result"
    }
   ],
   "source": [
    "emi_without_interest = loan_emi(amount=100000, duration=10*12, rate=0)\n",
    "emi_without_interest"
   ]
  },
  {
   "cell_type": "code",
   "execution_count": 50,
   "metadata": {},
   "outputs": [],
   "source": [
    "total_interest = (emi_with_interest - emi_without_interest) * 10*12"
   ]
  },
  {
   "cell_type": "code",
   "execution_count": 51,
   "metadata": {},
   "outputs": [
    {
     "name": "stdout",
     "output_type": "stream",
     "text": [
      "The total interest paid is $51960.\n"
     ]
    }
   ],
   "source": [
    "print(\"The total interest paid is ${}.\".format(total_interest))"
   ]
  },
  {
   "cell_type": "markdown",
   "metadata": {},
   "source": [
    "### Docstring을 사용하여 함수를 문서화 해봅시다..\r\n",
    "\r\n",
    "**docstring**을 사용하여 함수 내에 일부 문서를 추가할 수 있습니다. Docstring은 단순히 기능 본문 내에서 첫 번째 문장으로 나타나는 문자열이며 '도움말' 기능에 사용됩니다. 좋은 문서 문자열은 함수가 수행하는 작업을 설명하고 인수에 대한 설명을 제공합니다."
   ]
  },
  {
   "cell_type": "code",
   "execution_count": 52,
   "metadata": {},
   "outputs": [],
   "source": [
    "def loan_emi(amount, duration, rate, down_payment=0):\n",
    "    \"\"\"Calculates the equal montly installment (EMI) for a loan.\n",
    "    \n",
    "    Arguments:\n",
    "        amount - Total amount to be spent (loan + down payment)\n",
    "        duration - Duration of the loan (in months)\n",
    "        rate - Rate of interest (monthly)\n",
    "        down_payment (optional) - Optional intial payment (deducted from amount)\n",
    "    \"\"\"\n",
    "    loan_amount = amount - down_payment\n",
    "    try:\n",
    "        emi = loan_amount * rate * ((1+rate)**duration) / (((1+rate)**duration)-1)\n",
    "    except ZeroDivisionError:\n",
    "        emi = loan_amount / duration\n",
    "    emi = math.ceil(emi)\n",
    "    return emi"
   ]
  },
  {
   "cell_type": "markdown",
   "metadata": {},
   "source": [
    "위의 Docstring에서 `duration`과 `rate` 이 몇개월 담위로 측정된다는 것인지 몇 가지 추가적인 정볼흘 제공했습니다. 혼동을 피하기 위해 `duration_months` `rate_monthly`라 이름을 변경하는 것도 고려해볼 수 있습니다.  \r\n",
    "함수를 개선할 수 있는 또 다른 방법은 뭐가 있겠습니까?"
   ]
  },
  {
   "cell_type": "code",
   "execution_count": 53,
   "metadata": {},
   "outputs": [
    {
     "name": "stdout",
     "output_type": "stream",
     "text": [
      "Help on function loan_emi in module __main__:\n",
      "\n",
      "loan_emi(amount, duration, rate, down_payment=0)\n",
      "    Calculates the equal montly installment (EMI) for a loan.\n",
      "    \n",
      "    Arguments:\n",
      "        amount - Total amount to be spent (loan + down payment)\n",
      "        duration - Duration of the loan (in months)\n",
      "        rate - Rate of interest (monthly)\n",
      "        down_payment (optional) - Optional intial payment (deducted from amount)\n",
      "\n"
     ]
    }
   ],
   "source": [
    "help(loan_emi)"
   ]
  },
  {
   "cell_type": "markdown",
   "metadata": {},
   "source": [
    "## Exercise - Data Analysis for Vacation Planning\r\n",
    "\r\n",
    "여러분은 휴가를 계획하고 있고, 어느 도시를 방문하고 싶은지 결정해야 해요. 귀하는 4개 도시를 최종 선정했으며 반환 항공편 비용, 일일 호텔 비용 및 주간 렌터카 비용을 확인했습니다. 차를 빌리는 동안, 차를 더 빨리 반납하더라도 일주일 내내 돈을 내야 한다.\r\n",
    "\r\n",
    "\r\n",
    "| City | Return Flight (`$`) | Hotel per day (`$`) | Weekly Car Rental  (`$`) | \r\n",
    "|------|--------------------------|------------------|------------------------|\r\n",
    "| Paris|       200                |       20         |          200           |\r\n",
    "| London|      250                |       30         |          120           |\r\n",
    "| Dubai|       370                |       15         |          80           |\r\n",
    "| Mumbai|      450                |       10         |          70           |         \r\n",
    "\r\n",
    "\r\n",
    "위의 데이터를 보고 질문에 대답하시기 바랍니다.:\r\n",
    "\r\n",
    "1. 만약 여러분이 1주일의 긴 여행을 계획하고 있다면, 돈을 적게 쓰려면 어느 도시를 방문해야 할까요?\r\n",
    "2. 여행 기간을 4일, 10일 또는 2주로 변경하면 이전 질문에 대한 답변이 어떻게 변경됩니까?\r\n",
    "3. 여행의 총예산이 1000달러라면 여행 기간을 극대화하기 위해 어느 도시를 방문해야 하는가? 기간을 최소화하려면 어느 도시를 방문해야 하나요?\r\n",
    "4. 예산이 '600달러', '2000달러', '1500달러'라면 이전 질문에 대한 답은 어떻게 달라집니까?\r\n",
    "\r\n",
    "*Hint: 이에 대한 해답을 드리자면, 항공료, 호텔 요금, 렌터카 요금, 여행 기간 등 관련 정보를 포함한 `cost of trip` 기능을 정의하는 데 도움이 될 것이다. math.ceil 함수는 렌터카 총비용을 계산하는 데 유용할 수 있다.*"
   ]
  },
  {
   "cell_type": "code",
   "execution_count": 57,
   "metadata": {},
   "outputs": [],
   "source": [
    "# Use these cells to answer the question - build the function step-by-step"
   ]
  },
  {
   "cell_type": "code",
   "execution_count": null,
   "metadata": {},
   "outputs": [],
   "source": []
  },
  {
   "cell_type": "code",
   "execution_count": null,
   "metadata": {},
   "outputs": [],
   "source": []
  },
  {
   "cell_type": "code",
   "execution_count": null,
   "metadata": {},
   "outputs": [],
   "source": []
  },
  {
   "cell_type": "markdown",
   "metadata": {},
   "source": [
    "## Summary and Further Reading\r\n",
    "\r\n",
    "이것으로 Python의 기능에 대한 논의를 마칩니다. 이 튜토리얼에서는 다음 주제를 다뤘습니다.:\r\n",
    "\r\n",
    "* 함수를 생성 및 사용하는 법\r\n",
    "* 하나 이상의 인수를 사욯하는 함수\r\n",
    "* 지역 변수 및 범주\r\n",
    "* `return`을 사용하여 값을 반환\r\n",
    "* 기능을 유용하게 만들기 위하여 기본 인자 사용\r\n",
    "* 함수를 호출할 때. 이름지어진 인자 사용\r\n",
    "* 모듈 가져오기 및 라이브러리 사용\r\n",
    "* 새로운 활용 사례 처리를 위한 기능 재사용 및 개선\r\n",
    "* `try`- `exception`으로 예외 처리\r\n",
    "* Docstring 을 이용한 함수 문서 명세\r\n",
    "\r\n",
    "\r\n",
    "Python 함수에 대해 좀 더 알고 싶다면 아래 사이트를 참고하기를 바랍니다.:\r\n",
    "\r\n",
    "* Python Tutorial at W3Schools: https://www.w3schools.com/python/\r\n",
    "* Practical Python Programming: https://dabeaz-course.github.io/practical-python/Notes/Contents.html\r\n",
    "* Python official documentation: https://docs.python.org/3/tutorial/index.html\r\n",
    "\r\n",
    "You are ready to move on to the next tutorial: [\"Reading from and writing to files using Python\"](https://jovian.ml/aakashns/python-os-and-filesystem)."
   ]
  },
  {
   "cell_type": "markdown",
   "metadata": {},
   "source": [
    "## Questions for Revision\n",
    "\n",
    "Try answering the following questions to test your understanding of the topics covered in this notebook:\n",
    "\n",
    "1. What is a function?\n",
    "2. What are the benefits of using functions?\n",
    "3. What are some built-in functions in Python?\n",
    "4. How do you define a function in Python? Give an example.\n",
    "5. What is the body of a function?\n",
    "6. When are the statements in the body of a function executed?\n",
    "7. What is meant by calling or invoking a function? Give an example.\n",
    "8. What are function arguments? How are they useful?\n",
    "9. How do you store the result of a function in a variable?\n",
    "10. What is the purpose of the `return` keyword in Python?\n",
    "11. Can you return multiple values from a function?\n",
    "12. Can a `return` statement be used inside an `if` block or a `for` loop?\n",
    "13. Can the `return` keyword be used outside a function?\n",
    "14. What is scope in a programming region? \n",
    "15. How do you define a variable inside a function?\n",
    "16. What are local & global variables?\n",
    "17. Can you access the variables defined inside a function outside its body? Why or why not?\n",
    "18. What do you mean by the statement \"a function defines a scope within Python\"?\n",
    "19. Do for and while loops define a scope, like functions?\n",
    "20. Do if-else blocks define a scope, like functions?\n",
    "21. What are optional function arguments & default values? Give an example.\n",
    "22. Why should the required arguments appear before the optional arguments in a function definition?\n",
    "23. How do you invoke a function with named arguments? Illustrate with an example.\n",
    "24. Can you split a function invocation into multiple lines?\n",
    "25. Write a function that takes a number and rounds it up to the nearest integer.\n",
    "26. What are modules in Python?\n",
    "27. What is a Python library?\n",
    "28. What is the Python Standard Library?\n",
    "29. Where can you learn about the modules and functions available in the Python standard library?\n",
    "30. How do you install a third-party library?\n",
    "31. What is a module namespace? How is it useful?\n",
    "32. What problems would you run into if Python modules did not provide namespaces?\n",
    "33. How do you import a module?\n",
    "34. How do you use a function from an imported module? Illustrate with an example.\n",
    "35. Can you invoke a function inside the body of another function? Give an example.\n",
    "36. What is the single responsibility principle, and how does it apply while writing functions?\n",
    "37. What some characteristics of well-written functions?\n",
    "38. Can you use if statements or while loops within a function? Illustrate with an example.\n",
    "39. What are exceptions in Python? When do they occur?\n",
    "40. How are exceptions different from syntax errors?\n",
    "41. What are the different types of in-built exceptions in Python? Where can you learn about them?\n",
    "42. How do you prevent the termination of a program due to an exception?\n",
    "43. What is the purpose of the `try`-`except` statements in Python?\n",
    "44. What is the syntax of the `try`-`except` statements? Give an example.\n",
    "45. What happens if an exception occurs inside a `try` block?\n",
    "46. How do you handle two different types of exceptions using `except`? Can you have multiple `except` blocks under a single `try` block?\n",
    "47. How do you create an `except` block to handle any type of exception?\n",
    "48. Illustrate the usage of `try`-`except` inside a function with an example.\n",
    "49. What is a docstring? Why is it useful?\n",
    "50. How do you display the docstring for a function?\n",
    "51. What are *args and **kwargs? How are they useful? Give an example.\n",
    "52. Can you define functions inside functions? \n",
    "53. What is function closure in Python? How is it useful? Give an example.\n",
    "54. What is recursion? Illustrate with an example.\n",
    "55. Can functions accept other functions as arguments? Illustrate with an example.\n",
    "56. Can functions return other functions as results? Illustrate with an example.\n",
    "57. What are decorators? How are they useful?\n",
    "58. Implement a function decorator which prints the arguments and result of wrapped functions.\n",
    "59. What are some in-built decorators in Python?\n",
    "60. What are some popular Python libraries?"
   ]
  },
  {
   "cell_type": "code",
   "execution_count": null,
   "metadata": {},
   "outputs": [],
   "source": []
  }
 ],
 "metadata": {
  "interpreter": {
   "hash": "8378c1c5fd68f61f8c0782b63791a3ac8d651e4bfa45a9534f7a573cbbbb6dd4"
  },
  "kernelspec": {
   "display_name": "Python 3.7.0 64-bit ('mun': conda)",
   "name": "python3"
  },
  "language_info": {
   "name": "python",
   "version": ""
  }
 },
 "nbformat": 4,
 "nbformat_minor": 4
}