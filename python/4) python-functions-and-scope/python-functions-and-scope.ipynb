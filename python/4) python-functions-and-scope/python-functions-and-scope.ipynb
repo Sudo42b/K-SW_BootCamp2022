{
 "cells": [
  {
   "cell_type": "markdown",
   "metadata": {},
   "source": [
    "# Python 함수를 이용한 코드 재사용\n",
    "![](https://i.imgur.com/TvNf5Jp.png)\n",
    "Part 4: Python을 사용한 데이터 분석: 0부터 Pandas까지\n",
    "<!--# Writing Reusable Code using Functions in Python\n",
    "\n",
    "![](https://i.imgur.com/TvNf5Jp.png)\n",
    "\n",
    "### Part 4 of \"Data Analysis with Python: Zero to Pandas\"\n",
    "-->\n"
   ]
  },
  {
   "cell_type": "markdown",
   "metadata": {},
   "source": [
    "다음은 이번 강의에서 다룰 주제입니다:\n",
    "\n",
    "* 함수를 생성 및 사용하는 법\n",
    "* 하나 이상의 인수를 사용하는 함수\n",
    "* 지역 변수 및 범주\n",
    "* `return`을 사용하여 값을 반환\n",
    "* 기능을 유용하게 만들기 위하여 기본 인자 사용\n",
    "* 함수를 호출할 때. 이름지어진 인자 사용\n",
    "* 모듈 가져오기 및 라이브러리 사용\n",
    "* 새로운 활용 사례 처리를 위한 기능 재사용 및 개선\n",
    "* `try`- `exception`으로 예외 처리\n",
    "* Docstring 을 이용한 함수 문서 명세"
   ]
  },
  {
   "cell_type": "markdown",
   "metadata": {},
   "source": [
    "## Creating and using functions\n",
    "함수는 하나 이상의 입력을 사용하고, 작업을 수행하며, 출력을 반환하는 재사용 가능한 명령의 집합입니다.  \n",
    "Python은 `print`,`len` 등과 같은 많은 내장 기능을 포함하며, 새로운 기능을 정의할 수도 있습니다."
   ]
  },
  {
   "cell_type": "code",
   "execution_count": 1,
   "metadata": {},
   "outputs": [
    {
     "name": "stdout",
     "output_type": "stream",
     "text": [
      "Today is Saturday\n"
     ]
    }
   ],
   "source": [
    "today = \"Saturday\"\n",
    "print(\"Today is\", today)"
   ]
  },
  {
   "cell_type": "markdown",
   "metadata": {},
   "source": [
    "\n",
    "`def` 를 사용하여 새로운 함수를 정의할 수 있습니다."
   ]
  },
  {
   "cell_type": "code",
   "execution_count": 2,
   "metadata": {},
   "outputs": [],
   "source": [
    "def say_hello():\n",
    "    print('Hello there!')\n",
    "    print('How are you?')"
   ]
  },
  {
   "cell_type": "markdown",
   "metadata": {},
   "source": [
    "\n",
    "함수 이름 뒤에 대괄호 또는 `()`과 `:`을 붙입니다.  함수의 본문은 들여쓰기로 구분합니다.  \n",
    "기능이 정의 될 때는 기능의 본문 내부에 있는 내용이 실행되지 않습니다. 함수가 호출되게 되면, 해당 내용이 실행됩니다."
   ]
  },
  {
   "cell_type": "code",
   "execution_count": 3,
   "metadata": {},
   "outputs": [
    {
     "name": "stdout",
     "output_type": "stream",
     "text": [
      "Hello there!\n",
      "How are you?\n"
     ]
    }
   ],
   "source": [
    "say_hello()"
   ]
  },
  {
   "cell_type": "markdown",
   "metadata": {},
   "source": [
    "### Function arguments\n",
    "함수는 0개 이상의 값을 입력으로 받을 수 있습니다.(`인자` 혹은 `매개 변수`라고 불립니다.) 인자값은 변수의 값의 따라 다른 연산을 하도록 하는 함수를 작성할수 있게 해줍니다.  \n",
    "함수는 변수의 값을 저장하거나 또 다른 다양한 방식으로 결과를 반환한다.  \n",
    "\n",
    " 다음 함수는 list에서 짝수를 걸러내고 `return` 를 통하여 새로운 만들어진 list를 반환한다.\n"
   ]
  },
  {
   "cell_type": "code",
   "execution_count": 4,
   "metadata": {},
   "outputs": [],
   "source": [
    "def filter_even(number_list):\n",
    "    result_list = []\n",
    "    for number in number_list:\n",
    "        if number % 2 == 0:\n",
    "            result_list.append(number)\n",
    "    return result_list"
   ]
  },
  {
   "cell_type": "code",
   "execution_count": 5,
   "metadata": {},
   "outputs": [],
   "source": [
    "even_list = filter_even([1, 2, 3, 4, 5, 6, 7])"
   ]
  },
  {
   "cell_type": "code",
   "execution_count": 6,
   "metadata": {},
   "outputs": [
    {
     "data": {
      "text/plain": [
       "[2, 4, 6]"
      ]
     },
     "execution_count": 6,
     "metadata": {},
     "output_type": "execute_result"
    }
   ],
   "source": [
    "even_list"
   ]
  },
  {
   "cell_type": "markdown",
   "metadata": {},
   "source": [
    "## Python의 유용한 함수 작성\n",
    "<!--## Writing great functions in Python-->\n",
    "\n",
    "Python은 다양한 함수를 강력하고 유연하게 해주는 기능들을 제공합니다.  \n",
    "몇 가지 문제를 해결하며 자세히 살펴보겠습니다.  \n",
    "\n",
    "\n",
    "> 라다씨는 `$1,260,000`짜리 집을 살 계획이다. 그녀는 구매 자금을 조달하기 위해 두 가지 Option을 고려하고 있다.:\n",
    "\n",
    "> * Option 1: 즉시, 계약금 30만 달러를 내고 나머지 금액에 대해서는 월 10%의 이자율로 8년 만기 대출을 받는다.\n",
    "> * Option 2: 10년 만기 대출은 전체 금액에 대해 이자율 8%(매월 합산)로 받는다.\n",
    ">\n",
    "> 이 두 대출 모두 동일한 월부금 일 때, 둘 중 월부금의 총합이 낮은 대출은 무엇인가?\n",
    "\n",
    "\n",
    "두 가지 대출 옵션에 대한 월부금를 비교할 필요가 있으므로 대출에 대한 월부금를 계산하는 기능을 정의하는 것이 좋을 것입니다.  \n",
    "함수의 입력은 주택 비용, 계약금, 대출 기간, 이자율 등이 될 것입니다.  \n",
    "위 문제를 단계적으로 해결해보도록 하겠습니다.\n",
    "\n",
    "먼저, 대출금을 1년 안에 갚아야 이자나 계약금은 없다고 가정하여 주택 전체 비용에 대한 월 할부금을 계산하는 간단한 함수를 작성해봅시다."
   ]
  },
  {
   "cell_type": "code",
   "execution_count": 7,
   "metadata": {},
   "outputs": [],
   "source": [
    "def loan_emi(amount):\n",
    "    emi = amount / 12\n",
    "    print('The EMI is ${}'.format(emi))"
   ]
  },
  {
   "cell_type": "code",
   "execution_count": 8,
   "metadata": {},
   "outputs": [
    {
     "name": "stdout",
     "output_type": "stream",
     "text": [
      "The EMI is $105000.0\n"
     ]
    }
   ],
   "source": [
    "loan_emi(1260000)"
   ]
  },
  {
   "cell_type": "markdown",
   "metadata": {},
   "source": [
    "### 지역변수 및 볌위\n",
    "\n",
    "대출기간을 고려하기 위해 2번째 인자값을 추가해 봅시다."
   ]
  },
  {
   "cell_type": "code",
   "execution_count": 14,
   "metadata": {},
   "outputs": [],
   "source": [
    "def loan_emi(amount, duration):\n",
    "    emi = amount / duration\n",
    "    print('The EMI is ${}'.format(emi))"
   ]
  },
  {
   "cell_type": "markdown",
   "metadata": {},
   "source": [
    "\n",
    "함수 내부에 정의된 변수 'emi'는 함수의 지역변수이므로 외부에서 액세스할 수 없습니다. 다른 `amount` ,`duration` 매개 변수도 마찬가지입니다.  \n",
    "이러한 모든 `지역변수`는 함수 범위에 존재합니다.\n",
    "\n",
    "> **범위**: 범위는 코드 내에서 특정 변수가 표시되는 영역을 나타냅니다. 모든 함수(혹은 클래스 정의)는 Python 내에서 범위를 정의합니다.  \n",
    "> 이 범위에서 정의된 변수를 `지역변수(Local Variable)`라고 하고, 어디서나 사용할 수 있는 변수를 `전역변수(Global Variable)` 라고 합니다.  \n",
    "범위 규칙에 맞춰 변수를 사용하면, 값을 서로 공유하지 않고 서로 다른 기능에서 동일한 변수의 이름을 사용할 수 있습니다."
   ]
  },
  {
   "cell_type": "code",
   "execution_count": 9,
   "metadata": {},
   "outputs": [
    {
     "ename": "NameError",
     "evalue": "name 'emi' is not defined",
     "output_type": "error",
     "traceback": [
      "\u001b[1;31m---------------------------------------------------------------------------\u001b[0m",
      "\u001b[1;31mNameError\u001b[0m                                 Traceback (most recent call last)",
      "\u001b[1;32mc:\\HCI\\K-SW_BootCamp2022\\python\\4) python-functions-and-scope\\python-functions-and-scope.ipynb 셀 19\u001b[0m in \u001b[0;36m<cell line: 1>\u001b[1;34m()\u001b[0m\n\u001b[1;32m----> <a href='vscode-notebook-cell:/c%3A/HCI/K-SW_BootCamp2022/python/4%29%20python-functions-and-scope/python-functions-and-scope.ipynb#ch0000018?line=0'>1</a>\u001b[0m emi\n",
      "\u001b[1;31mNameError\u001b[0m: name 'emi' is not defined"
     ]
    }
   ],
   "source": [
    "emi"
   ]
  },
  {
   "cell_type": "code",
   "execution_count": 10,
   "metadata": {},
   "outputs": [
    {
     "ename": "NameError",
     "evalue": "name 'amount' is not defined",
     "output_type": "error",
     "traceback": [
      "\u001b[1;31m---------------------------------------------------------------------------\u001b[0m",
      "\u001b[1;31mNameError\u001b[0m                                 Traceback (most recent call last)",
      "\u001b[1;32mc:\\HCI\\K-SW_BootCamp2022\\python\\4) python-functions-and-scope\\python-functions-and-scope.ipynb 셀 20\u001b[0m in \u001b[0;36m<cell line: 1>\u001b[1;34m()\u001b[0m\n\u001b[1;32m----> <a href='vscode-notebook-cell:/c%3A/HCI/K-SW_BootCamp2022/python/4%29%20python-functions-and-scope/python-functions-and-scope.ipynb#ch0000019?line=0'>1</a>\u001b[0m amount\n",
      "\u001b[1;31mNameError\u001b[0m: name 'amount' is not defined"
     ]
    }
   ],
   "source": [
    "amount"
   ]
  },
  {
   "cell_type": "code",
   "execution_count": 11,
   "metadata": {},
   "outputs": [
    {
     "ename": "NameError",
     "evalue": "name 'duration' is not defined",
     "output_type": "error",
     "traceback": [
      "\u001b[1;31m---------------------------------------------------------------------------\u001b[0m",
      "\u001b[1;31mNameError\u001b[0m                                 Traceback (most recent call last)",
      "\u001b[1;32mc:\\HCI\\K-SW_BootCamp2022\\python\\4) python-functions-and-scope\\python-functions-and-scope.ipynb 셀 21\u001b[0m in \u001b[0;36m<cell line: 1>\u001b[1;34m()\u001b[0m\n\u001b[1;32m----> <a href='vscode-notebook-cell:/c%3A/HCI/K-SW_BootCamp2022/python/4%29%20python-functions-and-scope/python-functions-and-scope.ipynb#ch0000020?line=0'>1</a>\u001b[0m duration\n",
      "\u001b[1;31mNameError\u001b[0m: name 'duration' is not defined"
     ]
    }
   ],
   "source": [
    "duration"
   ]
  },
  {
   "cell_type": "markdown",
   "metadata": {},
   "source": [
    "이제 6년 만기 대출과 10년 만기 대출을 비교할 수 있습니다."
   ]
  },
  {
   "cell_type": "code",
   "execution_count": 15,
   "metadata": {},
   "outputs": [
    {
     "name": "stdout",
     "output_type": "stream",
     "text": [
      "The EMI is $13125.0\n"
     ]
    }
   ],
   "source": [
    "loan_emi(1260000, 8*12)"
   ]
  },
  {
   "cell_type": "code",
   "execution_count": 16,
   "metadata": {
    "scrolled": true
   },
   "outputs": [
    {
     "name": "stdout",
     "output_type": "stream",
     "text": [
      "The EMI is $10500.0\n"
     ]
    }
   ],
   "source": [
    "loan_emi(1260000, 10*12)"
   ]
  },
  {
   "cell_type": "markdown",
   "metadata": {},
   "source": [
    "### Return값(반환값)\n",
    "\n",
    "예상할 수 있듯이, 6년 대출의 월 할부금은 10년 대출에 비해 높습니다. \n",
    "비교하기 쉽도록 반환하고 결과를 변수에 저장하는 것이 좋습니다.   \n",
    "`return` 구문를 사용하여 이 작업을 수행할 수 있습니다.\n"
   ]
  },
  {
   "cell_type": "code",
   "execution_count": 15,
   "metadata": {},
   "outputs": [],
   "source": [
    "def loan_emi(amount, duration):\n",
    "    emi = amount / duration\n",
    "    return emi"
   ]
  },
  {
   "cell_type": "code",
   "execution_count": 16,
   "metadata": {},
   "outputs": [],
   "source": [
    "emi1 = loan_emi(1260000, 8*12) "
   ]
  },
  {
   "cell_type": "code",
   "execution_count": 17,
   "metadata": {},
   "outputs": [],
   "source": [
    "emi2 = loan_emi(1260000, 10*12)"
   ]
  },
  {
   "cell_type": "code",
   "execution_count": 18,
   "metadata": {
    "scrolled": true
   },
   "outputs": [
    {
     "data": {
      "text/plain": [
       "13125.0"
      ]
     },
     "execution_count": 18,
     "metadata": {},
     "output_type": "execute_result"
    }
   ],
   "source": [
    "emi1"
   ]
  },
  {
   "cell_type": "code",
   "execution_count": 19,
   "metadata": {},
   "outputs": [
    {
     "data": {
      "text/plain": [
       "10500.0"
      ]
     },
     "execution_count": 19,
     "metadata": {},
     "output_type": "execute_result"
    }
   ],
   "source": [
    "emi2"
   ]
  },
  {
   "cell_type": "markdown",
   "metadata": {},
   "source": [
    "### 선택적 인자값\n",
    "\n",
    "다음으로, 계약금을 고려하기 위해 다른 인자값을 추가해봅시다. 해당 인자값의 초기값은 `0`인 `선택적 인자값`로 정의합니다."
   ]
  },
  {
   "cell_type": "code",
   "execution_count": 20,
   "metadata": {},
   "outputs": [],
   "source": [
    "def loan_emi(amount, duration, down_payment=0):\n",
    "    loan_amount = amount - down_payment\n",
    "    emi = loan_amount / duration\n",
    "    return emi"
   ]
  },
  {
   "cell_type": "code",
   "execution_count": 21,
   "metadata": {},
   "outputs": [],
   "source": [
    "emi1 = loan_emi(1260000, 8*12, 3e5)"
   ]
  },
  {
   "cell_type": "code",
   "execution_count": 22,
   "metadata": {},
   "outputs": [
    {
     "data": {
      "text/plain": [
       "10000.0"
      ]
     },
     "execution_count": 22,
     "metadata": {},
     "output_type": "execute_result"
    }
   ],
   "source": [
    "emi1"
   ]
  },
  {
   "cell_type": "code",
   "execution_count": 23,
   "metadata": {},
   "outputs": [],
   "source": [
    "emi2 = loan_emi(1260000, 10*12)"
   ]
  },
  {
   "cell_type": "code",
   "execution_count": 24,
   "metadata": {},
   "outputs": [
    {
     "data": {
      "text/plain": [
       "10500.0"
      ]
     },
     "execution_count": 24,
     "metadata": {},
     "output_type": "execute_result"
    }
   ],
   "source": [
    "emi2"
   ]
  },
  {
   "cell_type": "markdown",
   "metadata": {},
   "source": [
    "다음으로, 함수에 아래 수식을 추가하려고 합니다. 이 수식은 대출에 대한 월부금을 계산하는데 사용됩니다.\n",
    "\n",
    "<img src=\"https://i.imgur.com/iKujHGK.png\" style=\"width:240px\">\n",
    "\n",
    "* `P` 는 대출금의 총합\n",
    "* `n` 는 개월 수\n",
    "* `r` 는 월 이율"
   ]
  },
  {
   "cell_type": "code",
   "execution_count": 17,
   "metadata": {},
   "outputs": [],
   "source": [
    "def loan_emi(amount, duration, rate, down_payment=0):\n",
    "    loan_amount = amount - down_payment\n",
    "    emi = loan_amount * rate * ((1+rate)**duration) / (((1+rate)**duration)-1)\n",
    "    return emi"
   ]
  },
  {
   "cell_type": "markdown",
   "metadata": {},
   "source": [
    "<!--Note that while defining the function, required arguments like `cost`, `duration` and `rate` must appear before optional arguments like `down_payment`.-->\n",
    "\n",
    "함수를 정의할 때, `cost`, `duration`, `rate` 와 같은 필수적인 인자들은 `down_payment`와 같은 선택적 인자보다 앞에 나타나야합니다.\n",
    "\n",
    "Option 1에 대한 월이율을 계산해보겠습니다."
   ]
  },
  {
   "cell_type": "code",
   "execution_count": 26,
   "metadata": {
    "scrolled": true
   },
   "outputs": [
    {
     "data": {
      "text/plain": [
       "14567.19753389219"
      ]
     },
     "execution_count": 26,
     "metadata": {},
     "output_type": "execute_result"
    }
   ],
   "source": [
    "loan_emi(1260000, 8*12, 0.1/12, 3e5)"
   ]
  },
  {
   "cell_type": "markdown",
   "metadata": {},
   "source": [
    "Option 2에 대한 EMI를 계산할 때, `down_payment` 인자를 포함할 필요가 없기 때문에 함수 호출 시 매개변수로 전달하지 않습니다.\n",
    "<!--While calculating the EMI for Option 2, we need not include the `down_payment` argument.-->"
   ]
  },
  {
   "cell_type": "code",
   "execution_count": 27,
   "metadata": {},
   "outputs": [
    {
     "data": {
      "text/plain": [
       "15287.276888775077"
      ]
     },
     "execution_count": 27,
     "metadata": {},
     "output_type": "execute_result"
    }
   ],
   "source": [
    "loan_emi(1260000, 10*12, 0.08/12)"
   ]
  },
  {
   "cell_type": "markdown",
   "metadata": {},
   "source": [
    "### Named arguments\n",
    "\n",
    "많은 인자값이 필요한 함수는 종종 혼란스러울 수 있습니다. 이 때문에 Python은 명확한 인자의 구별을 위해 **named** 인자를 사용하여 함수를 호춣하는 옵션을 제공합니다.  \n",
    "함수 호출은 여러 줄로 분할할 수도 있습니다.\n"
   ]
  },
  {
   "cell_type": "code",
   "execution_count": 18,
   "metadata": {},
   "outputs": [],
   "source": [
    "emi1 = loan_emi(\n",
    "    amount=1260000, \n",
    "    duration=8*12, \n",
    "    rate=0.1/12, \n",
    "    down_payment=3e5\n",
    ")\n",
    "#emi1에 loan_emi 함수 호출 결과 저장"
   ]
  },
  {
   "cell_type": "code",
   "execution_count": 29,
   "metadata": {},
   "outputs": [
    {
     "data": {
      "text/plain": [
       "14567.19753389219"
      ]
     },
     "execution_count": 29,
     "metadata": {},
     "output_type": "execute_result"
    }
   ],
   "source": [
    "emi1"
   ]
  },
  {
   "cell_type": "code",
   "execution_count": 30,
   "metadata": {},
   "outputs": [],
   "source": [
    "emi2 = loan_emi(amount=1260000, duration=10*12, rate=0.08/12)"
   ]
  },
  {
   "cell_type": "code",
   "execution_count": 31,
   "metadata": {},
   "outputs": [
    {
     "data": {
      "text/plain": [
       "15287.276888775077"
      ]
     },
     "execution_count": 31,
     "metadata": {},
     "output_type": "execute_result"
    }
   ],
   "source": [
    "emi2"
   ]
  },
  {
   "cell_type": "markdown",
   "metadata": {},
   "source": [
    "### Modules and library functions(모듈과 라이브러리 함수)\n",
    "<!--### Modules and library functions-->\n",
    "\n",
    "옵션 1의 월 할부금이 옵션 2의 월 할부금보다 낮다는 것을 알 수 있습니다.  \n",
    "다만 소수점 이하 자릿수보다는 달러화하여 반올림하면 좋을 것 같아, 이를 위해 숫자를 받아 올림할 수 있는 함수를 작성할 것입니다.(예: 1.2는 2까지 올림).\n",
    "\n",
    "Python에서는 올림 기능을 라이브러리 함수로 제공합니다. [Python Standard Library](https://docs.python.org/3/library/).  \n",
    "함수들은 **Modules(모듈)**안에 구성되어있으며 필요할 경우 호출하여 사용할 수 있습니다.\n",
    "\n",
    "> **Modules**: 모듈이란 Python 코드가 있는 파일로, Python 프로젝트의 코드를 파일과 폴더로 구성하는 방법을 제공합니다.  \n",
    "> Python 스크립트 또는 notebook에서 모듈의 함수를 사용하려면 모듈을 import 해야합니다.  \n",
    "> 모듈의 강점은 _namespaces_로, 캡슐화를 통해 코드와 모듈 또는 모듈 간의 이름 충돌을 방지합니다.\n",
    "\n",
    "`math` 모듈을 import하고, `math` 모듈의 `ceil` 함수를 사용하여 올림 기능을 사용할 수 있습니다."
   ]
  },
  {
   "cell_type": "code",
   "execution_count": 19,
   "metadata": {},
   "outputs": [],
   "source": [
    "import math"
   ]
  },
  {
   "cell_type": "code",
   "execution_count": 20,
   "metadata": {},
   "outputs": [
    {
     "name": "stdout",
     "output_type": "stream",
     "text": [
      "Help on built-in function ceil in module math:\n",
      "\n",
      "ceil(x, /)\n",
      "    Return the ceiling of x as an Integral.\n",
      "    \n",
      "    This is the smallest integer >= x.\n",
      "\n"
     ]
    }
   ],
   "source": [
    "help(math.ceil)"
   ]
  },
  {
   "cell_type": "code",
   "execution_count": 22,
   "metadata": {},
   "outputs": [
    {
     "data": {
      "text/plain": [
       "2"
      ]
     },
     "execution_count": 22,
     "metadata": {},
     "output_type": "execute_result"
    }
   ],
   "source": [
    "# 올림 결과\n",
    "math.ceil(1.2)"
   ]
  },
  {
   "cell_type": "markdown",
   "metadata": {},
   "source": [
    "이제 `math.ceil`함수를 사용하여 `home_loan_emi` 함수의 총 EMI값을 올림하는 기능을 완성해봅시다.\n",
    "\n",
    "> 함수를 사용하여 다른 기능을 구축하면 코드를 재사용할 수 있고, 복잡한 논리를 관략하게 구현하고 간편하게 관리 할 수 있습니다.  \n",
    "> 한 개의 함수는 한가지 기능만을 수행하는 것이 이상적입니다. "
   ]
  },
  {
   "cell_type": "code",
   "execution_count": 23,
   "metadata": {},
   "outputs": [],
   "source": [
    "def loan_emi(amount, duration, rate, down_payment=0):\n",
    "    loan_amount = amount - down_payment\n",
    "    emi = loan_amount * rate * ((1+rate)**duration) / (((1+rate)**duration)-1)\n",
    "    emi = math.ceil(emi)\n",
    "    return emi"
   ]
  },
  {
   "cell_type": "code",
   "execution_count": 24,
   "metadata": {},
   "outputs": [],
   "source": [
    "emi1 = loan_emi(\n",
    "    amount=1260000, \n",
    "    duration=8*12, \n",
    "    rate=0.1/12, \n",
    "    down_payment=3e5\n",
    ")"
   ]
  },
  {
   "cell_type": "code",
   "execution_count": 25,
   "metadata": {},
   "outputs": [
    {
     "data": {
      "text/plain": [
       "14568"
      ]
     },
     "execution_count": 25,
     "metadata": {},
     "output_type": "execute_result"
    }
   ],
   "source": [
    "emi1"
   ]
  },
  {
   "cell_type": "code",
   "execution_count": 26,
   "metadata": {},
   "outputs": [],
   "source": [
    "emi2 = loan_emi(amount=1260000, duration=10*12, rate=0.08/12)"
   ]
  },
  {
   "cell_type": "code",
   "execution_count": 27,
   "metadata": {},
   "outputs": [
    {
     "data": {
      "text/plain": [
       "15288"
      ]
     },
     "execution_count": 27,
     "metadata": {},
     "output_type": "execute_result"
    }
   ],
   "source": [
    "emi2"
   ]
  },
  {
   "cell_type": "markdown",
   "metadata": {},
   "source": [
    "\n",
    "EMI 값을 비교하여, 낮은 EMI 값을 가지는 옵션을 메세지로 출력해보겠습니다."
   ]
  },
  {
   "cell_type": "code",
   "execution_count": 40,
   "metadata": {},
   "outputs": [
    {
     "name": "stdout",
     "output_type": "stream",
     "text": [
      "Option 1 has the lower EMI: $14568\n"
     ]
    }
   ],
   "source": [
    "if emi1 < emi2:\n",
    "    print(\"Option 1 has the lower EMI: ${}\".format(emi1))\n",
    "else:\n",
    "    print(\"Option 2 has the lower EMI: ${}\".format(emi2))"
   ]
  },
  {
   "cell_type": "markdown",
   "metadata": {},
   "source": [
    "### 함수의 개선과 재사용성\n",
    "\n",
    "이제 `Option 1`이 두 옵션 중 낮은 EMI를 가지고 있는 것을 알았습니다.  \n",
    "하지만 더 좋은 것은 이제 우리가 단 몇 줄의 코드만으로 비슷한 문제들을 해결할 수 있는 편리한 함수인 `loan_emi`를 가지고 있다는 것 입니다.   \n",
    "\n",
    "아래에 추가적인 질문에 답해봅시다."
   ]
  },
  {
   "cell_type": "markdown",
   "metadata": {},
   "source": [
    "> **Q**: 숀은 현재 몇 년 전에 구입한 집을 위해 주택 융자를 갚고 있다. 집값은 80만 달러였고 숀은 25%의 계약금을 냈다.  \n",
    "나머지 금액은 연 7%(매월 합산)의 6년 만기 대출로 조달했다. 숀은 연 12%의 금리로 1년 만기 대출을 받아 6만 달러 상당의 자동차를 구입하고 있고, 두 대출 모두 EMI로 상환된다.  \n",
    "숀이 대출 상환을 위해 매달 지불하는 총 금액은 얼마인가?\n",
    "> \n",
    "이제 미리 작성해둔 `loan_emi` 함수를 통해 해당 질문을 해결할 수 있습니다. "
   ]
  },
  {
   "cell_type": "code",
   "execution_count": 28,
   "metadata": {},
   "outputs": [
    {
     "data": {
      "text/plain": [
       "10230"
      ]
     },
     "execution_count": 28,
     "metadata": {},
     "output_type": "execute_result"
    }
   ],
   "source": [
    "cost_of_house = 800000\n",
    "home_loan_duration = 6*12 # months\n",
    "home_loan_rate = 0.07/12 # monthly\n",
    "home_down_payment = .25 * 800000\n",
    "\n",
    "emi_house = loan_emi(amount=cost_of_house,\n",
    "                     duration=home_loan_duration,\n",
    "                     rate=home_loan_rate, \n",
    "                     down_payment=home_down_payment)\n",
    "\n",
    "emi_house"
   ]
  },
  {
   "cell_type": "code",
   "execution_count": 29,
   "metadata": {},
   "outputs": [
    {
     "data": {
      "text/plain": [
       "5331"
      ]
     },
     "execution_count": 29,
     "metadata": {},
     "output_type": "execute_result"
    }
   ],
   "source": [
    "cost_of_car = 60000\n",
    "car_loan_duration = 1*12 # months\n",
    "car_loan_rate = .12/12 # monthly\n",
    "\n",
    "emi_car = loan_emi(amount=cost_of_car, \n",
    "                   duration=car_loan_duration, \n",
    "                   rate=car_loan_rate)\n",
    "\n",
    "emi_car"
   ]
  },
  {
   "cell_type": "code",
   "execution_count": 30,
   "metadata": {},
   "outputs": [
    {
     "name": "stdout",
     "output_type": "stream",
     "text": [
      "Shaun makes a total monthly payment of $15561 towards loan repayments.\n"
     ]
    }
   ],
   "source": [
    "print(\"Shaun makes a total monthly payment of ${} towards loan repayments.\".format(emi_house+emi_car))"
   ]
  },
  {
   "cell_type": "markdown",
   "metadata": {},
   "source": [
    "### 예외처리 와 `try`-`except`\n",
    "\n",
    "> Q: 연리 9%의 10년 만기 대출로 10만 달러를 빌린다면 이자는 얼마가 됩니까?\n",
    "\n",
    "이 문제를 해결하는 방법은 두 대출에 대한 EMI를 비교해보는 것입니다. 하나는 주어진 이자율이고 다른 하나는 0% 이자율이고, 총 이자는 단순히 대출기간 동안의 월 차이의 합계입니다."
   ]
  },
  {
   "cell_type": "code",
   "execution_count": 31,
   "metadata": {},
   "outputs": [
    {
     "data": {
      "text/plain": [
       "1267"
      ]
     },
     "execution_count": 31,
     "metadata": {},
     "output_type": "execute_result"
    }
   ],
   "source": [
    "emi_with_interest = loan_emi(amount=100000, duration=10*12, rate=0.09/12)\n",
    "emi_with_interest"
   ]
  },
  {
   "cell_type": "code",
   "execution_count": 32,
   "metadata": {},
   "outputs": [
    {
     "ename": "ZeroDivisionError",
     "evalue": "float division by zero",
     "output_type": "error",
     "traceback": [
      "\u001b[1;31m---------------------------------------------------------------------------\u001b[0m",
      "\u001b[1;31mZeroDivisionError\u001b[0m                         Traceback (most recent call last)",
      "\u001b[1;32mc:\\HCI\\K-SW_BootCamp2022\\python\\4) python-functions-and-scope\\python-functions-and-scope.ipynb 셀 67\u001b[0m in \u001b[0;36m<cell line: 1>\u001b[1;34m()\u001b[0m\n\u001b[1;32m----> <a href='vscode-notebook-cell:/c%3A/HCI/K-SW_BootCamp2022/python/4%29%20python-functions-and-scope/python-functions-and-scope.ipynb#ch0000068?line=0'>1</a>\u001b[0m emi_without_interest \u001b[39m=\u001b[39m loan_emi(amount\u001b[39m=\u001b[39;49m\u001b[39m100000\u001b[39;49m, duration\u001b[39m=\u001b[39;49m\u001b[39m10\u001b[39;49m\u001b[39m*\u001b[39;49m\u001b[39m12\u001b[39;49m, rate\u001b[39m=\u001b[39;49m\u001b[39m0.\u001b[39;49m\u001b[39m/\u001b[39;49m\u001b[39m12\u001b[39;49m)\n\u001b[0;32m      <a href='vscode-notebook-cell:/c%3A/HCI/K-SW_BootCamp2022/python/4%29%20python-functions-and-scope/python-functions-and-scope.ipynb#ch0000068?line=1'>2</a>\u001b[0m emi_without_interest\n",
      "\u001b[1;32mc:\\HCI\\K-SW_BootCamp2022\\python\\4) python-functions-and-scope\\python-functions-and-scope.ipynb 셀 67\u001b[0m in \u001b[0;36mloan_emi\u001b[1;34m(amount, duration, rate, down_payment)\u001b[0m\n\u001b[0;32m      <a href='vscode-notebook-cell:/c%3A/HCI/K-SW_BootCamp2022/python/4%29%20python-functions-and-scope/python-functions-and-scope.ipynb#ch0000068?line=0'>1</a>\u001b[0m \u001b[39mdef\u001b[39;00m \u001b[39mloan_emi\u001b[39m(amount, duration, rate, down_payment\u001b[39m=\u001b[39m\u001b[39m0\u001b[39m):\n\u001b[0;32m      <a href='vscode-notebook-cell:/c%3A/HCI/K-SW_BootCamp2022/python/4%29%20python-functions-and-scope/python-functions-and-scope.ipynb#ch0000068?line=1'>2</a>\u001b[0m     loan_amount \u001b[39m=\u001b[39m amount \u001b[39m-\u001b[39m down_payment\n\u001b[1;32m----> <a href='vscode-notebook-cell:/c%3A/HCI/K-SW_BootCamp2022/python/4%29%20python-functions-and-scope/python-functions-and-scope.ipynb#ch0000068?line=2'>3</a>\u001b[0m     emi \u001b[39m=\u001b[39m loan_amount \u001b[39m*\u001b[39;49m rate \u001b[39m*\u001b[39;49m ((\u001b[39m1\u001b[39;49m\u001b[39m+\u001b[39;49mrate)\u001b[39m*\u001b[39;49m\u001b[39m*\u001b[39;49mduration) \u001b[39m/\u001b[39;49m (((\u001b[39m1\u001b[39;49m\u001b[39m+\u001b[39;49mrate)\u001b[39m*\u001b[39;49m\u001b[39m*\u001b[39;49mduration)\u001b[39m-\u001b[39;49m\u001b[39m1\u001b[39;49m)\n\u001b[0;32m      <a href='vscode-notebook-cell:/c%3A/HCI/K-SW_BootCamp2022/python/4%29%20python-functions-and-scope/python-functions-and-scope.ipynb#ch0000068?line=3'>4</a>\u001b[0m     emi \u001b[39m=\u001b[39m math\u001b[39m.\u001b[39mceil(emi)\n\u001b[0;32m      <a href='vscode-notebook-cell:/c%3A/HCI/K-SW_BootCamp2022/python/4%29%20python-functions-and-scope/python-functions-and-scope.ipynb#ch0000068?line=4'>5</a>\u001b[0m     \u001b[39mreturn\u001b[39;00m emi\n",
      "\u001b[1;31mZeroDivisionError\u001b[0m: float division by zero"
     ]
    }
   ],
   "source": [
    "emi_without_interest = loan_emi(amount=100000, duration=10*12, rate=0./12)\n",
    "emi_without_interest"
   ]
  },
  {
   "cell_type": "markdown",
   "metadata": {},
   "source": [
    "이따금 `wrong!` 에러메세지가 뜨는데, 주의 깊게 보시면 파이썬이 정확히 어떤 문제가 있는지 알려줍니다.  \n",
    "Python은 숫자를 `0`으로 나누려고 하면 `ZeroDiveisionError`메세지를 띄웁니다. 해당 에러는 프로그램의 추가 실행을 중지시키는 `예외` 입니다.\n",
    "\n",
    "> **Exception**: 문법이나 식이 올바르더라도 Python 인터프리터가 실행하려고 할 때 오류가 발생할 수 있습니다.  \n",
    "> 예외는 일반적으로 프로그램 내에서 `try`- `except` 구문을 제외하고 처리하지 않는 한 프로그램 실행을 중단합니다.\n",
    "\n",
    "Python은 기본 연산자, 함수 또는 메서드가 잘못 사용될 때를 위한 기본 예외 처리를 제공합니다.https://docs.python.org/3/library/exceptions.html#built-in-exceptions.  \n",
    "또한 사용자가 자체적으로 커스텀 `예외처리`클래스를 정의 할 수도 있습니다.\n",
    "\n",
    "`try` -  `except`문을 사용하여 예외처리를 할 수 있습니다. 예제는 다음과 같습니다."
   ]
  },
  {
   "cell_type": "code",
   "execution_count": 33,
   "metadata": {},
   "outputs": [
    {
     "name": "stdout",
     "output_type": "stream",
     "text": [
      "Now computing the result..\n",
      "Failed to compute result because you were trying to divide by zero\n",
      "None\n"
     ]
    }
   ],
   "source": [
    "try:\n",
    "    print(\"Now computing the result..\")\n",
    "    result = 5 / 0\n",
    "    print(\"Computation was completed successfully\")\n",
    "except ZeroDivisionError:\n",
    "    print(\"Failed to compute result because you were trying to divide by zero\")\n",
    "    result = None\n",
    "\n",
    "print(result)"
   ]
  },
  {
   "cell_type": "markdown",
   "metadata": {},
   "source": [
    "`try`문에서 예외가 발생하면 해당 블럭의 나머지 내용은 건너뜁니다. `except`문은 작성해둔 예외가 코드 실행 중 발생했을 때 실행됩니다.  \n",
    "`except`문이 실행된 후 프로그렘은 다시 정상적으로 실행됩니다.\n",
    "\n",
    "여러 개의 `except`문을 사용하여 여러 개의 예외 유형을 처리할 수 있습니다.  예외처리는 다음을 참고하시기 바랍니다.  https://www.w3schools.com/python/python_try_except.asp \n",
    "\n",
    "\n",
    "금리가 0%인 조건에서 `try` - `except`문을 실행될 수 있도록 `loan_emi` 함수를 수정 및 개선합니다.  \n",
    "\n",
    "새로운 시나리오와 사용사례가 발생할 경우 함수를 수정 및 개선하는 것이 일반적입니다."
   ]
  },
  {
   "cell_type": "code",
   "execution_count": 34,
   "metadata": {},
   "outputs": [],
   "source": [
    "def loan_emi(amount, duration, rate, down_payment=0):\n",
    "    loan_amount = amount - down_payment\n",
    "    try:\n",
    "        emi = loan_amount * rate * ((1+rate)**duration) / (((1+rate)**duration)-1)\n",
    "    except ZeroDivisionError:\n",
    "        emi = loan_amount / duration\n",
    "    emi = math.ceil(emi)\n",
    "    return emi"
   ]
  },
  {
   "cell_type": "markdown",
   "metadata": {},
   "source": [
    "\n",
    "> **Q**: 연리 9%의 10년 만기 대출로 10만 달러를 빌린다면 이자는 얼마가 되는가?"
   ]
  },
  {
   "cell_type": "code",
   "execution_count": 35,
   "metadata": {},
   "outputs": [
    {
     "data": {
      "text/plain": [
       "1267"
      ]
     },
     "execution_count": 35,
     "metadata": {},
     "output_type": "execute_result"
    }
   ],
   "source": [
    "emi_with_interest = loan_emi(amount=100000, duration=10*12, rate=0.09/12)\n",
    "emi_with_interest"
   ]
  },
  {
   "cell_type": "code",
   "execution_count": 36,
   "metadata": {},
   "outputs": [
    {
     "data": {
      "text/plain": [
       "834"
      ]
     },
     "execution_count": 36,
     "metadata": {},
     "output_type": "execute_result"
    }
   ],
   "source": [
    "emi_without_interest = loan_emi(amount=100000, duration=10*12, rate=0)\n",
    "emi_without_interest"
   ]
  },
  {
   "cell_type": "code",
   "execution_count": 37,
   "metadata": {},
   "outputs": [],
   "source": [
    "total_interest = (emi_with_interest - emi_without_interest) * 10*12"
   ]
  },
  {
   "cell_type": "code",
   "execution_count": 38,
   "metadata": {},
   "outputs": [
    {
     "name": "stdout",
     "output_type": "stream",
     "text": [
      "The total interest paid is $51960.\n"
     ]
    }
   ],
   "source": [
    "print(\"The total interest paid is ${}.\".format(total_interest))"
   ]
  },
  {
   "cell_type": "markdown",
   "metadata": {},
   "source": [
    "### Docstring을 사용하여 함수를 문서화 해봅시다.\n",
    "\n",
    "**docstring**을 사용하여 함수 내에 일부 문서를 추가할 수 있습니다.   \n",
    "Docstring은 단순히 기능 본문 내에서 첫 번째 문장으로 나타나는 문자열이며, '도움말' 기능으로 사용됩니다.  \n",
    "좋은 docstring은 함수가 수행하는 작업을 설명하고 인수에 대한 설명을 제공합니다."
   ]
  },
  {
   "cell_type": "code",
   "execution_count": 39,
   "metadata": {},
   "outputs": [],
   "source": [
    "def loan_emi(amount, duration, rate, down_payment=0):\n",
    "    \"\"\"Calculates the equal montly installment (EMI) for a loan.\n",
    "    \n",
    "    Arguments:\n",
    "        amount - Total amount to be spent (loan + down payment)\n",
    "        duration - Duration of the loan (in months)\n",
    "        rate - Rate of interest (monthly)\n",
    "        down_payment (optional) - Optional intial payment (deducted from amount)\n",
    "    \"\"\"\n",
    "    loan_amount = amount - down_payment\n",
    "    try:\n",
    "        emi = loan_amount * rate * ((1+rate)**duration) / (((1+rate)**duration)-1)\n",
    "    except ZeroDivisionError:\n",
    "        emi = loan_amount / duration\n",
    "    emi = math.ceil(emi)\n",
    "    return emi"
   ]
  },
  {
   "cell_type": "markdown",
   "metadata": {},
   "source": [
    "위의 Docstring에서 `duration`과 `rate` 이 몇개월 담위로 측정되는 것인지 몇 가지 추가적인 정보를 제공했습니다.  \n",
    "혼동을 방지하기 위해, `duration_months` `rate_monthly`라 이름을 변경하는 것도 고려해볼 수 있습니다.  \n",
    "함수를 개선할 수 있는 또 다른 방법은 뭐가 있을까요?"
   ]
  },
  {
   "cell_type": "code",
   "execution_count": 40,
   "metadata": {},
   "outputs": [
    {
     "name": "stdout",
     "output_type": "stream",
     "text": [
      "Help on function loan_emi in module __main__:\n",
      "\n",
      "loan_emi(amount, duration, rate, down_payment=0)\n",
      "    Calculates the equal montly installment (EMI) for a loan.\n",
      "    \n",
      "    Arguments:\n",
      "        amount - Total amount to be spent (loan + down payment)\n",
      "        duration - Duration of the loan (in months)\n",
      "        rate - Rate of interest (monthly)\n",
      "        down_payment (optional) - Optional intial payment (deducted from amount)\n",
      "\n"
     ]
    }
   ],
   "source": [
    "help(loan_emi)"
   ]
  },
  {
   "cell_type": "markdown",
   "metadata": {},
   "source": [
    "## Exercise - 휴가 계획을 위한 데이터 분석\n",
    "<!--## Exercise - Data Analysis for Vacation Planning-->\n",
    "\n",
    "여러분은 휴가를 계획하고 있고, 어느 도시를 방문하고 싶은지 결정해야 합니다.  \n",
    "여러분은 고민 끝에 4개 도시를 최종 선정했으며 회항 항공편 비용, 일일 호텔 비용 및 주간 렌터카 비용을 확인했습니다.   \n",
    "차를 빌리는 동안, 차를 더 빨리 반납하더라도 일주일 내내 돈을 내야 합니다.\n",
    "\n",
    "\n",
    "| City | Return Flight (`$`) | Hotel per day (`$`) | Weekly Car Rental  (`$`) | \n",
    "|------|--------------------------|------------------|------------------------|\n",
    "| Paris|       200                |       20         |          200           |\n",
    "| London|      250                |       30         |          120           |\n",
    "| Dubai|       370                |       15         |          80           |\n",
    "| Mumbai|      450                |       10         |          70           |         \n",
    "\n",
    "\n",
    "위의 데이터를 보고 질문에 대답하시기 바랍니다.:\n",
    "\n",
    "1. 여러분이 1주일의 긴 여행을 계획하고 있다고 가정했을 때, 돈을 적게 쓰려면 어느 도시를 방문해야 할까요?\n",
    "2. 여행 기간을 4일, 10일 또는 2주로 변경하면 이전 질문에 대한 답변이 어떻게 변경되나요?\n",
    "3. 여행의 총 예산이 1000달러라면 여행 기간을 최대화 하기 위해서 어느 도시를 방문해야 하나요? 반대로 기간을 최소화하려면 어느 도시를 방문해야 하나요?\n",
    "4. 예산이 '600달러', '2000달러', '1500달러'라면 이전 질문에 대한 답은 어떻게 달라집니까?\n",
    "\n",
    "*Hint: 항공료, 호텔 요금, 렌터카 요금, 여행 기간 등 관련 정보를 포함한 `cost of trip` 함수를 정의하는 것이 도움이 될 것이다. math.ceil 함수는 렌터카 총비용을 계산하는 데 유용할 수 있다.*"
   ]
  },
  {
   "cell_type": "code",
   "execution_count": 57,
   "metadata": {},
   "outputs": [],
   "source": [
    "# 단계별로 실습 코드 작성"
   ]
  },
  {
   "cell_type": "code",
   "execution_count": null,
   "metadata": {},
   "outputs": [],
   "source": [
    "# 단계별로 실습 코드 작성"
   ]
  },
  {
   "cell_type": "code",
   "execution_count": null,
   "metadata": {},
   "outputs": [],
   "source": [
    "# 단계별로 실습 코드 작성"
   ]
  },
  {
   "cell_type": "code",
   "execution_count": null,
   "metadata": {},
   "outputs": [],
   "source": [
    "# 단계별로 실습 코드 작성"
   ]
  },
  {
   "cell_type": "markdown",
   "metadata": {},
   "source": [
    "## Summary and Further Reading\n",
    "\n",
    "이것으로 Python의 함수에 대한 설명을 마칩니다. 본 튜토리얼에서는 다음 주제를 다뤘습니다.:\n",
    "\n",
    "* 함수를 생성 및 사용하는 법\n",
    "* 하나 이상의 인수를 사욯하는 함수\n",
    "* 지역 변수 및 범주\n",
    "* `return`을 사용하여 값을 반환\n",
    "* 기능을 유용하게 만들기 위하여 기본 인자 사용\n",
    "* 함수를 호출할 때 명명된 인자 사용\n",
    "* 모듈 import 및 라이브러리 사용\n",
    "* 새로운 활용 사례 처리를 위한 기능 재사용 및 개선\n",
    "* `try`- `exception`으로 예외 처리\n",
    "* Docstring 을 이용한 함수 문서 명세\n",
    "\n",
    "\n",
    "Python 함수에 대해 좀 더 알고 싶다면 아래 사이트를 참고하기를 바랍니다.:\n",
    "\n",
    "* Python Tutorial at W3Schools: https://www.w3schools.com/python/\n",
    "* Practical Python Programming: https://dabeaz-course.github.io/practical-python/Notes/Contents.html\n",
    "* Python official documentation: https://docs.python.org/3/tutorial/index.html\n"
   ]
  }
 ],
 "metadata": {
  "kernelspec": {
   "display_name": "Python 3.10.5 64-bit",
   "language": "python",
   "name": "python3"
  },
  "language_info": {
   "codemirror_mode": {
    "name": "ipython",
    "version": 3
   },
   "file_extension": ".py",
   "mimetype": "text/x-python",
   "name": "python",
   "nbconvert_exporter": "python",
   "pygments_lexer": "ipython3",
   "version": "3.10.5"
  },
  "vscode": {
   "interpreter": {
    "hash": "899e84f82eb8c5243d1ec1afc30efed10c71ebc54352d99b2156ff6f253759ba"
   }
  }
 },
 "nbformat": 4,
 "nbformat_minor": 4
}
