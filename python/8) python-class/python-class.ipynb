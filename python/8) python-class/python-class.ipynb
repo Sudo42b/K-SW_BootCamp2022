{
 "cells": [
  {
   "cell_type": "markdown",
   "metadata": {},
   "source": [
    "# Python Class\n",
    "![](https://i.imgur.com/6cg2E9Q.png)\n",
    "\n",
    "## Part 8: Python을 사용한 데이터 분석: 0부터 Pandas까지\n",
    "\n",
    "본 튜토리얼 시리즈는 초보자를 위한 Python을 이용한 프로그래밍과 데이터 분석을 소개합니다.   \n",
    "이 튜토리얼은 실용적이고 코딩 중심적인 접근으로 진행됩니다.\n",
    "본 튜토리얼을 효율적으로 학습하는 가장 좋은 방법은 코드를 실행하고 직접 사용해 보는 것입니다.\n",
    "\n",
    "<!--# A Quick Tour of Variables and Data Types in Python\n",
    "\n",
    "![](https://i.imgur.com/6cg2E9Q.png)\n",
    "\n",
    "### Part 2 of \"Data Analysis with Python: Zero to Pandas\"\n",
    "\n",
    "이 튜토리얼 시리즈는 Python 프로그래밍 언어를 사용한 프로그래밍 및 데이터 분석에 대한 초보자 친화적인 소개입니다.\n",
    "이러한 튜토리얼은 실용적이고 코딩 중심의 접근 방식을 취합니다. 자료를 배우는 가장 좋은 방법은 코드를 실행하고 직접 사용해 보는 것입니다.-->"
   ]
  },
  {
   "cell_type": "markdown",
   "metadata": {},
   "source": [
    "이 장은 다음과 같은 주제를 다룹니다:\n",
    "- `class`를 이용한~"
   ]
  },
  {
   "cell_type": "markdown",
   "metadata": {},
   "source": [
    "## Class란\n",
    "Python은 객체지향 프로그래밍(OOP, Object Oriented programming)을 기본적으로 지원하고 있습니다.  \n",
    "Python에서 객체지향 프로그래밍의 기본 단위인 클래스를 만들기 위해서는, 아래와 같이 **`class 클래스명`** 을 사용하여 정의합니다.  \n",
    "클래스명은 PEP 8 Coding Convention에 가이드된 대로 각 단어의 첫 문자를 대문자로 하는 CapWords 방식으로 명명합니다.\n"
   ]
  },
  {
   "cell_type": "code",
   "execution_count": 2,
   "metadata": {},
   "outputs": [],
   "source": [
    "class MyClass: # 별도의 클래스 멤버를 정의하지 않은 가장 간단한 빈 클래스\n",
    "    pass"
   ]
  },
  {
   "cell_type": "markdown",
   "metadata": {},
   "source": [
    "`class`는 데이터를 포함하는 속성(attribute)과 행위를 표현하는 메서드(method)를 포함하는 논리적인 컨테이너입니다.  \n",
    "`class`는 세부적으로 아래와 같은 다양한 종류의 멤버들로 구분할 수 있습니다.\n",
    "- 메서드(method) \n",
    "- 프로퍼티(property) \n",
    "- 클래스 변수(class variable)\n",
    "- 인스턴스 변수(instance variable)\n",
    "- 초기자(initializer)\n",
    "- 소멸자(destructor) \n",
    "\n",
    "Python에서 `class`는 전통적으로 크게 속성(attribute)과 메서드(method)를 갖는 논리적 단위이지만,   \n",
    "메서드를 특히 Callable attribute로 볼 수도 있기 때문에 속성과 메서드 그 모두를 그 클래스의 attribute라고 생각할 수도 있습니다.\n",
    "\n",
    "또한, 다른 OOP 언어와 달리 Python은 동적 언어(Dynamic Language)로서 새로운 attribute를 실행 중 동적으로 추가할 수 있습니다."
   ]
  },
  {
   "cell_type": "markdown",
   "metadata": {},
   "source": [
    "> `메서드(Method)`: 클래스의 행위를 표현하는 것으로, 클래스 내의 함수로 볼 수 있습니다. Python에서 메서드는 크게 인스턴스 메서드(instance method), 클래스 메서드(class method), 정적 메서드(static method)가 있습니다.\n",
    "\n",
    "가장 흔히 쓰이는 instance method는 인스턴스 변수에 액세스 할 수 있도록 메서드의 첫번째 파라미터에 항상 객체 자신을 의미하는 \"self\" 라는 파라미터를 갖습니다.   \n",
    "아래 예제에서 calcArea()가 인스턴스 메서드에 해당됩니다. 인스턴스 메서드는 여러 파라미터를 가질 수 있지만, 첫번째 파라미터는 항상 \"self\"를 갖습니다.\n",
    "\n",
    "> `클래스 변수(Class Variable)`: 클래스 정의에서 메서드 밖에 존재하는 변수를 클래스 변수라고 하는데, 이는 해당 클래스를 사용하는 모두에게 공용으로 사용되는 변수입니다.\n",
    "\n",
    "클래스 변수는 클래스 내외부에서 \"클래스명.변수명\"으로 액세스 할 수 있습니다. 아래 예제의 \"Rectangle.count\"에 해당합니다.\n",
    "\n",
    "> `클래스 인스턴스 변수(Class Instance Variable)`:클래스 정의에서 메서드 안에서 사용되면서 \"self.변수명\"처럼 사용되는 변수를 인스턴스 변수라고 하는데, 이는 각 객체별로 서로 다른 값을 갖는 변수입니다.\n",
    "\n",
    " 하나의 클래스로부터 여러 객체 인스턴스를 생성해서 사용할 수 있습니다. 클래스 변수가 하나의 클래스에만 존재하는 반면, 인스턴스 변수는 각 객체 인스턴스마다 별도로 존재합니다. "
   ]
  },
  {
   "cell_type": "code",
   "execution_count": 3,
   "metadata": {},
   "outputs": [],
   "source": [
    "class Rectangle:\n",
    "    count = 0 # 클래스 변수\n",
    "\n",
    "    #초기자(initializer)\n",
    "    def __init__(self, width, height):\n",
    "        # self.*: 인스턴스 변수\n",
    "        self.width = width\n",
    "        self. height = height\n",
    "        Rectangle.count += 1\n",
    "\n",
    "    # 메서드 (method)\n",
    "    def calcArea(self):\n",
    "        area = self.width * self.height\n",
    "        return area    "
   ]
  },
  {
   "cell_type": "code",
   "execution_count": null,
   "metadata": {},
   "outputs": [],
   "source": []
  }
 ],
 "metadata": {
  "kernelspec": {
   "display_name": "Python 3.10.5 64-bit",
   "language": "python",
   "name": "python3"
  },
  "language_info": {
   "codemirror_mode": {
    "name": "ipython",
    "version": 3
   },
   "file_extension": ".py",
   "mimetype": "text/x-python",
   "name": "python",
   "nbconvert_exporter": "python",
   "pygments_lexer": "ipython3",
   "version": "3.10.5"
  },
  "orig_nbformat": 4,
  "vscode": {
   "interpreter": {
    "hash": "dc6e2ecef4fbfb06d9e31a0bc478c6e4af8bafc1790a9f3fa3ccd4d0647f3345"
   }
  }
 },
 "nbformat": 4,
 "nbformat_minor": 2
}
