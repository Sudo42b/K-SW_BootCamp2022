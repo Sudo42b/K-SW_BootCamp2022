{
 "cells": [
  {
   "cell_type": "markdown",
   "metadata": {},
   "source": [
    "# Python Class\n",
    "![](https://i.imgur.com/6cg2E9Q.png)\n",
    "\n",
    "## Part 8: Python을 사용한 데이터 분석: 0부터 Pandas까지\n",
    "\n",
    "본 튜토리얼 시리즈는 초보자를 위한 Python을 이용한 프로그래밍과 데이터 분석을 소개합니다.   \n",
    "이 튜토리얼은 실용적이고 코딩 중심적인 접근으로 진행됩니다.\n",
    "본 튜토리얼을 효율적으로 학습하는 가장 좋은 방법은 코드를 실행하고 직접 사용해 보는 것입니다.\n",
    "\n",
    "<!--# A Quick Tour of Variables and Data Types in Python\n",
    "\n",
    "![](https://i.imgur.com/6cg2E9Q.png)\n",
    "\n",
    "### Part 2 of \"Data Analysis with Python: Zero to Pandas\"\n",
    "\n",
    "이 튜토리얼 시리즈는 Python 프로그래밍 언어를 사용한 프로그래밍 및 데이터 분석에 대한 초보자 친화적인 소개입니다.\n",
    "이러한 튜토리얼은 실용적이고 코딩 중심의 접근 방식을 취합니다. 자료를 배우는 가장 좋은 방법은 코드를 실행하고 직접 사용해 보는 것입니다.-->"
   ]
  },
  {
   "cell_type": "markdown",
   "metadata": {},
   "source": [
    "이 장은 다음과 같은 주제를 다룹니다:\n",
    "- `class`를 이용한~"
   ]
  },
  {
   "cell_type": "markdown",
   "metadata": {},
   "source": [
    "## <span style='color:black; background-color:#fff5b1;'>Class란</sapn>\n",
    "Python은 객체지향 프로그ㅁ래밍(OOP, Object Oriented programming)을 기본적으로 지원하고 있습니다.  \n",
    "Python에서 객체지향 프로그래밍의 기본 단위인 클래스를 만들기 위해서는, 아래와 같이 <span style = \"color:yellow\">**class 클래스명**</span> 을 사용하여 정의합니다.  \n",
    "클래스명은 PEP 8 Coding Convention에 가이드된 대로 각 단어의 첫 문자를 대문자로 하는 CapWords 방식으로 명명합니다.\n"
   ]
  },
  {
   "cell_type": "code",
   "execution_count": 2,
   "metadata": {},
   "outputs": [],
   "source": [
    "class MyClass: # 별도의 클래스 멤버를 정의하지 않은 가장 간단한 빈 클래스\n",
    "    pass"
   ]
  },
  {
   "cell_type": "markdown",
   "metadata": {},
   "source": [
    "`class`는 데이터를 포함하는 속성(attribute)과 행위를 표현하는 메서드(method)를 포함하는 논리적인 컨테이너입니다.  \n",
    "`class`는 세부적으로 아래와 같은 다양한 종류의 멤버들로 구분할 수 있습니다.\n",
    "- 메서드(method) \n",
    "- 프로퍼티(property) \n",
    "- 클래스 변수(class variable)\n",
    "- 인스턴스 변수(instance variable)\n",
    "- 초기자(initializer)\n",
    "- 소멸자(destructor) \n",
    "\n",
    "Python에서 `class`는 전통적으로 크게 속성(attribute)과 메서드(method)를 갖는 논리적 단위이지만,   \n",
    "메서드를 특히 Callable attribute로 볼 수도 있기 때문에 속성과 메서드 그 모두를 그 클래스의 attribute라고 생각할 수도 있습니다.\n",
    "\n",
    "또한, 다른 OOP 언어와 달리 Python은 동적 언어(Dynamic Language)로서 새로운 attribute를 실행 중 동적으로 추가할 수 있습니다."
   ]
  },
  {
   "cell_type": "markdown",
   "metadata": {},
   "source": [
    "> `메서드(Method)`: 클래스의 행위를 표현하는 것으로, 클래스 내의 함수로 볼 수 있습니다. Python에서 메서드는 크게 인스턴스 메서드(instance method), 클래스 메서드(class method), 정적 메서드(static method)가 있습니다.\n",
    "\n",
    "가장 흔히 쓰이는 instance method는 인스턴스 변수에 액세스 할 수 있도록 메서드의 첫번째 파라미터에 항상 객체 자신을 의미하는 \"self\" 라는 파라미터를 갖습니다.   \n",
    "아래 예제에서 calcArea()가 인스턴스 메서드에 해당됩니다. 인스턴스 메서드는 여러 파라미터를 가질 수 있지만, 첫번째 파라미터는 항상 \"self\"를 갖습니다.\n",
    "\n",
    "> `클래스 변수(Class Variable)`: 클래스 정의에서 메서드 밖에 존재하는 변수를 클래스 변수라고 하는데, 이는 해당 클래스를 사용하는 모두에게 공용으로 사용되는 변수입니다.\n",
    "\n",
    "클래스 변수는 **클래스 내외부에서 \"클래스명.변수명\"으로 액세스** 할 수 있습니다. 아래 예제의 \"Rectangle.count\"에 해당합니다.\n",
    "\n",
    "> `클래스 인스턴스 변수(Class Instance Variable)`:클래스 정의에서 메서드 안에서 사용되면서 \"self.변수명\"처럼 사용되는 변수를 인스턴스 변수라고 하는데, 이는 각 객체별로 서로 다른 값을 갖는 변수입니다.\n",
    "\n",
    " 하나의 클래스로부터 여러 객체 인스턴스를 생성해서 사용할 수 있습니다. 클래스 변수가 하나의 클래스에만 존재하는 반면, 인스턴스 변수는 각 객체 인스턴스마다 별도로 존재합니다.  \n",
    " 인스턴스 변수는 클래스 내부에서는 self.width와 같이 \"self.\"를 사용하여 액세스하고, 클래스 밖에서는 \"객체변수.인스턴스변수\"와 같이 액세스 합니다."
   ]
  },
  {
   "cell_type": "code",
   "execution_count": 4,
   "metadata": {},
   "outputs": [],
   "source": [
    "class Rectangle:\n",
    "    count = 0 # 클래스 변수\n",
    "\n",
    "    #초기자(initializer)\n",
    "    def __init__(self, width, height):\n",
    "        # self.*: 인스턴스 변수\n",
    "        self.width = width\n",
    "        self. height = height\n",
    "        Rectangle.count += 1\n",
    "\n",
    "    # 메서드 (method)\n",
    "    def calcArea(self):\n",
    "        area = self.width * self.height\n",
    "        return area    "
   ]
  },
  {
   "cell_type": "markdown",
   "metadata": {},
   "source": [
    "### <span style='color:black; background-color:#dcffe4;'>Public/Private/Protection</sapn>\n",
    "Python은 다른 언어에서 흔히 사용하는 *public, protected, private 등의 접근 제한자 (Access Modifier)를 갖지 않습니다.*  \n",
    "Python 클래스는 기본적으로 모든 멤버가 public이라고 할 수 있습니다.  \n",
    "만약 특정 변수명이나 메서드를 private로 만들어야 한다면, 두 개의 밑줄 (__)을 이름 앞에 붙이면 되고, protection은 한 개의 밑줄(_)을 붙이면 됩니다."
   ]
  },
  {
   "cell_type": "code",
   "execution_count": 5,
   "metadata": {},
   "outputs": [],
   "source": [
    "def __init__(self, width, height):\n",
    "    self.width = width\n",
    "    self.height = height\n",
    "\n",
    "    # private 변수 __area\n",
    "    self.__area = width * height\n",
    "\n",
    "# private 메서드\n",
    "def __internalRun(self):\n",
    "    pass    "
   ]
  },
  {
   "cell_type": "markdown",
   "metadata": {},
   "source": [
    "> `Initializer(초기자)`: 클래스로부터 새 객체를 생성할 때마다 실행되는 특별한 메서드로 __init__()이라는 메서드가 있는데, 이를 흔히 클래스 Initializer라 부릅니다.  \n",
    "Initializer는 클래스로부터 객체를 만들 때, 인스턴스 변수를 초기화하거나 객체의 초기상태를 만들기 위한 문장들을 실행하는 곳입니다.\n",
    "\n",
    "위의 __init__() 예제를 보면, width와 height라는 입력 파라미터들을 각각 self.width와 self.height라는 인스턴스 변수에 할당하여 객체 내에서 계속 사용할 수 있도록 준비하고 있는 것입니다."
   ]
  },
  {
   "cell_type": "markdown",
   "metadata": {},
   "source": [
    "### <span style='color:black; background-color:#dcffe4;'>정적 메서드와 클래스 메서드</sapn>\n",
    "\n",
    "> `정적 메서드`: 인스턴스 메서드가 객체의 인스턴스 필드를 self를 통해 액세스할 수 있는 반면, `정적 메서드`는 이러한 self 파라미터를 갖지 않고 인스턴스 변수에 액세스할 수 없습니다.  \n",
    "따라서, 정적 메서드는 보통 객체 필드와 독립적이지만 로직상 클래스 내에 포함되는 메서드에 사용되며, 메서드 앞에 `@staticmethod`라는 Decorator를 표시하여 해당 메서드가 정적 메서드임을 표시합니다. \n",
    "\n",
    "> `클래스 메서드`: 클래스 메서드는 메서드 앞에 `@classmethod`라는 Decorator를 표시하여 해당 메서드가 클래스 메서드임을 표시합니다.  \n",
    "클래스 메서드는 정적 메서드와 비슷한데, 객체 인스턴스를 의미하는 self 대신 cls라는 클래스를 의미하는 파라미터를 전달받습니다.  \n",
    "정적 메서드는 이러한 cls 파라미터를 전달받지 않고, 클래스 메서드는 이렇게 전달받은 cls 파라미터를 통해 클래스 변수 등에 액세스할 수 있습니다."
   ]
  },
  {
   "cell_type": "code",
   "execution_count": 11,
   "metadata": {},
   "outputs": [],
   "source": [
    "class Rectangle:\n",
    "    count = 0 #클래스 변수\n",
    "    \n",
    "    def __init__(self, width, height):\n",
    "        self.width = width\n",
    "        self.height = height\n",
    "        Rectangle.count += 1\n",
    "\n",
    "    # 인스턴스 메서드\n",
    "    def calcArea(self):\n",
    "        area = self.width * self.height\n",
    "        return area\n",
    "    \n",
    "    # 정적 메서드\n",
    "    @staticmethod\n",
    "    def isSquare(rectWidth, rectHeight):\n",
    "        return rectWidth == rectHeight\n",
    "\n",
    "    # 클래스 메서드\n",
    "    @classmethod    \n",
    "    def printCount(cls):\n",
    "        print(cls.count)\n",
    "    "
   ]
  },
  {
   "cell_type": "markdown",
   "metadata": {},
   "source": [
    "일반적으로 인스턴스 데이터에 액세스 할 필요가 없는 경우, 클래스 메서드나 정적 메스드를 사용합니다.  \n",
    "이 때, 보통 클래스 변수를 액세스할 필요가 있을 때는 클래스 메서드를, 이를 액세스할 필요가 없을 때는 정적 메스드를 이용합니다.\n",
    "\n",
    "위 예제에서 isSquare() 메서드는 정적 메서드로 cls 파라미터를 전달받지 않고 메서드 내에서 클래스 변수를 사용하지 않고 있습니다.  \n",
    "반면, printCount() 메서드는 클래스 메서드로 cls 파라미터를 전달받고 메서드 내에서 클래스 변수 count를 사용하고 있습니다."
   ]
  },
  {
   "cell_type": "code",
   "execution_count": 12,
   "metadata": {},
   "outputs": [
    {
     "name": "stdout",
     "output_type": "stream",
     "text": [
      "True\n",
      "2\n"
     ]
    }
   ],
   "source": [
    "# 테스트\n",
    "square = Rectangle.isSquare(5,5)\n",
    "print(square) # True\n",
    "\n",
    "rect1 = Rectangle(5,5)\n",
    "rect2 = Rectangle(2,5)\n",
    "rect1.printCount() # 2"
   ]
  },
  {
   "cell_type": "markdown",
   "metadata": {},
   "source": [
    "### <span style='color:black; background-color:#dcffe4;'>Special Method(Magic Mathod) </sapn>\n",
    "\n",
    "Python에는 Initializer 이외에도 많은 특별한 용도의 메서드들이 있는데, 이러한 메서드들을 Special Method 혹은 매직메서드(Magic Method)라고 부릅니다.  \n",
    "- `__del__`: 객체가 소멸될 때(Garbage Colleciton 될 때) 실행되는 소멸자 메서드\n",
    "- `__add__`: 두 개의 객체를 (+ 기호로) 더하는 메서드\n",
    "- `__sub__`: 두 개의 객체를 (- 기호로) 빼는 메서드\n",
    "- `__cmp__`: 두 개의 객체를 비교하는 메서드\n",
    "- `__str__`: 문자열로 객체를 표현할 때 사용하는 메서드  \n",
    "\n",
    "등이 있습니다.  \n",
    "\n",
    "아래는 이 중 `__add__()` 메서드에 대한 예입니다."
   ]
  },
  {
   "cell_type": "code",
   "execution_count": 24,
   "metadata": {},
   "outputs": [],
   "source": [
    "class Rectangle:\n",
    "    count = 0 #클래스 변수\n",
    "    \n",
    "    def __init__(self, width, height):\n",
    "        self.width = width\n",
    "        self.height = height\n",
    "        Rectangle.count += 1\n",
    "\n",
    "    # 인스턴스 메서드\n",
    "    def calcArea(self):\n",
    "        area = self.width * self.height\n",
    "        return area\n",
    "    \n",
    "    # 정적 메서드\n",
    "    @staticmethod\n",
    "    def isSquare(rectWidth, rectHeight):\n",
    "        return rectWidth == rectHeight\n",
    "\n",
    "    # 클래스 메서드\n",
    "    @classmethod    \n",
    "    def printCount(cls):\n",
    "        print(cls.count)\n",
    "    \n",
    "    # __add__() Magic Method 추가\n",
    "    def __add__(self, other):\n",
    "        obj = Rectangle(self.width + other.width, self.height + other.height)\n",
    "        return obj"
   ]
  },
  {
   "cell_type": "code",
   "execution_count": 25,
   "metadata": {},
   "outputs": [],
   "source": [
    "# 사용 예\n",
    "r1 = Rectangle(10,5)\n",
    "r2 = Rectangle(20,15)\n",
    "r3 = r1 + r2 # __add__()가 호출됨"
   ]
  },
  {
   "cell_type": "markdown",
   "metadata": {},
   "source": [
    "### <span style='color:black; background-color:#dcffe4;'>클래스 인스턴스의 생성과 사용</sapn>\n",
    "\n",
    "**클래스를 사용하기 위해서는 먼저 클래스로부터 인스턴스(객체)를 생성해야 합니다.**  \n",
    "Python에서 인스턴스를 생성하기 위해서는 \"객체변수명 = 클래스명()\"과 같이 클래스명을 함수 호출하는 것처럼 사용하면 됩니다.  \n",
    "만약 __init__() 함수가 있고, 그곳에 입력 파라미터들이 지정되어 있다면, \"클래스명(입력파라미터들)\"과 같이 파라미터를 괄호 안에 전달합니다.  \n",
    "이렇게 전달된 파라미터들은 Initializer 에서 사용됩니다.  \n",
    "\n",
    "아래 예제를 보면, Rectangle 클래스로부터 r이라는 클래스 인스턴스를 생성하고 있는데, Rectangle(2,3)과 같이 2개의 파라미터를 전달하고 있습니다.  \n",
    "이는 Rectangle 초기자에서 각각 width와 height 인스턴스 변수를 초기화 하는데 사용됩니다."
   ]
  },
  {
   "cell_type": "markdown",
   "metadata": {},
   "source": [
    "||`클래스 변수`|`인스턴스 변수`|\n",
    "|:---:|:---:|:---:|\n",
    "|무엇인가?|클래스 내부에 선언된 변수|self가 붙어있는 변수. 클래스의 인스턴스가 생성될 때 생성|\n",
    "|변수의 존재 위치|class의 namespace에 위치|instance의 namespace에 위치|\n",
    "|언제 사용?|인스턴스 간에 서로 공유해야 하는 값. 클래스 변수는 모든 인스턴스에 공유된다.<br>(e.g. 현재 은행에 총 개설된 계좌의 개수)|인스턴스 간 고유한 값. 다른 인스턴스에 공유되면 안 되는 값<br>(e.g.이름)|"
   ]
  },
  {
   "cell_type": "code",
   "execution_count": 26,
   "metadata": {},
   "outputs": [
    {
     "name": "stdout",
     "output_type": "stream",
     "text": [
      "area =  6\n",
      "width =  10\n",
      "4\n",
      "4\n"
     ]
    }
   ],
   "source": [
    "# 인스턴스 생성\n",
    "r = Rectangle(2,3)\n",
    "\n",
    "# 메서드 호출\n",
    "area = r.calcArea()\n",
    "print(\"area = \", area)\n",
    "\n",
    "# 인스턴스 변수 액세스\n",
    "r.width = 10\n",
    "print(\"width = \", r.width)\n",
    "\n",
    "# 클래스 변수 액세스\n",
    "print(Rectangle.count)\n",
    "print(r.count)"
   ]
  },
  {
   "cell_type": "markdown",
   "metadata": {},
   "source": [
    "### <span style='color:black; background-color:#dcffe4;'>클래스 상속과 다형성</sapn>\n",
    "\n",
    "Python은 객체지향 프로그래밍의 상속(Inheritance)를 지원하고 있습니다.  \n",
    "클래스를 상속받기 위해서는 파생 클래스(자식 클래스)에서 클래스명 뒤에 베이스 클래스(부모 클래스) 이름을 괄호와 함께 넣어주면 됩니다.  \n",
    "즉, 아래 예제에서 Dog 클래스는 Animal 클래스로부터 파생된 파생 클래스이며, Duck 클래스도 역시 Animal 베이스 클래스로부터 파생되고 있음을 알 수 있습니다.\n",
    "\n",
    "Python은 복수의 부모 클래스로부터 상속 받을 수 있는 Multiple Inheritance를 지원하고 있습니다."
   ]
  },
  {
   "cell_type": "code",
   "execution_count": 27,
   "metadata": {},
   "outputs": [],
   "source": [
    "class Animal:\n",
    "    def __init__(self, name):\n",
    "        self.name = name\n",
    "    def move(self):\n",
    "        print(\"move\")\n",
    "    def speak(self):\n",
    "        pass\n",
    "\n",
    "class Dog(Animal):\n",
    "    def speak(self):\n",
    "        print(\"bark\")\n",
    "\n",
    "class Duck(Animal):\n",
    "    def speak(self):\n",
    "        print(\"quack\")"
   ]
  },
  {
   "cell_type": "markdown",
   "metadata": {},
   "source": [
    "파생 클래스는 베이스 클래스의 멤버들을 호출하거나 사용할 수 있으며, 물론 파생클래스 자신의 멤버들을 사용할 수 있습니다."
   ]
  },
  {
   "cell_type": "code",
   "execution_count": 30,
   "metadata": {},
   "outputs": [
    {
     "name": "stdout",
     "output_type": "stream",
     "text": [
      "move\n",
      "bark\n"
     ]
    }
   ],
   "source": [
    "dog = Dog(\"Doggy\") # 부모 클래스의 생성자\n",
    "n = dog.name # 부모 클래스의 인스턴스 변수\n",
    "dog.move() # 부모 클래스의 메서드\n",
    "dog.speak() # 파생 클래스의 멤버\n"
   ]
  },
  {
   "cell_type": "markdown",
   "metadata": {},
   "source": [
    "Python은 객체지향 프로그래밍의 다형성(Polymorphism)을 또한 지원하고 있습니다.  \n",
    "아래 예제는 animals라는 리스트에 Dog 객체와 Duck 객체를 넣고 이들의 speak() 메서드를 호출한 예시입니다.  \n",
    "코드 실행 결과를 보면 **객체의 타입에 따라 서로 다른 speak() 메서드가 호출됨**을 알 수 있습니다."
   ]
  },
  {
   "cell_type": "code",
   "execution_count": 31,
   "metadata": {},
   "outputs": [
    {
     "name": "stdout",
     "output_type": "stream",
     "text": [
      "bark\n",
      "quack\n"
     ]
    }
   ],
   "source": [
    "animals = [Dog('doggy'), Duck('duck')]\n",
    "\n",
    "for a in animals:\n",
    "    a.speak()"
   ]
  },
  {
   "cell_type": "markdown",
   "metadata": {},
   "source": [
    "### <span style='color:black; background-color:#dcffe4;'>추상 클래스(Abstract Class)</sapn>\n",
    "\n",
    "추상 클래스란 미구현 추상 메서드를 한 개 이상 가지며, 자식 크래스에서 해당 추상 메서드를 반드시 구현하도록 요구합니다.  \n",
    "상속받은 클래스는 추상 메서드를 구현하지 않아도 에러가 발생하지 않으나, 객체를 생성할 시 에러가 발생합니다.  \n",
    "추상 클래스를 만들기 위한 형식은 <span style = \"color:yellow\">**반드시 abc 모듈을 import**</span>하는 것 입니다.  \n",
    "추상 메서드는 생략하면 기본적인 클래스 기능은 동작하지만, 추상 메서드를 추가한 후에는 객체 생성 시 에러가 발생합니다."
   ]
  },
  {
   "cell_type": "code",
   "execution_count": 34,
   "metadata": {},
   "outputs": [
    {
     "name": "stdout",
     "output_type": "stream",
     "text": [
      "국가 이름은: 한국, \n",
      "국가 인구는: 50000000,\n",
      "국가 수도는 : 서울\n"
     ]
    }
   ],
   "source": [
    "from abc import ABCMeta, abstractclassmethod\n",
    "\n",
    "class AbstractCountry(metaclass=ABCMeta):\n",
    "    name = '국가명'\n",
    "    population = '인구'\n",
    "    capital = '수도'\n",
    "\n",
    "    #abstractmethod\n",
    "    def show(self):\n",
    "        print('국가 클래스의 메서드 입니다.')\n",
    "\n",
    "class Korea(AbstractCountry):\n",
    "    def __init__(self, name:str, population:int, capital:str):\n",
    "        \"\"\"[Korea Class]\n",
    "        Args:\n",
    "            name (str): [국가 이름]\n",
    "            population (int): [인구]\n",
    "            capital (str): [수도]\n",
    "        \"\"\"\n",
    "\n",
    "        self.name = name\n",
    "        self.population = population\n",
    "        self.capital = capital\n",
    "\n",
    "    def __repr__(self):\n",
    "        return f'국가 이름은: {self.name}, \\n국가 인구는: {self.population},\\n국가 수도는 : {self.capital}'\n",
    "\n",
    "if __name__ == '__main__':\n",
    "    ko = Korea('한국', 50000000, '서울')\n",
    "    print(ko)\n"
   ]
  },
  {
   "cell_type": "markdown",
   "metadata": {},
   "source": [
    "### <span style = \"color:pink\">Quiz</span>\n",
    "- 다음 구현이 가능한 클래스를 구현하세요.\n",
    "- 클래스명: Calculator\n",
    "- 아래 Magic Method를 이용하여 아래의 기능이 가능하고, Calculator 연산자 기능이 가능한 클래스를 구현하세요.\n",
    "- 덧셈(+), 뺄셈(-), 곱셉(*), 나눗셈(/)\n",
    "- Python3: `__div__` -> `__truediv__` \n",
    "- Magic manager context manager를 이용하여 저장이 가능하도록 구현\n",
    "\n",
    "<p align=\"center\"><img src=\"Quiz1.png\"></p>\n",
    "\n",
    "<!--![Quiz#1](./Quiz1.png)-->"
   ]
  },
  {
   "cell_type": "code",
   "execution_count": 35,
   "metadata": {},
   "outputs": [],
   "source": [
    "# 실습 코드 작성(부족할 경우 추가, 남을 경우 삭제)"
   ]
  },
  {
   "cell_type": "code",
   "execution_count": null,
   "metadata": {},
   "outputs": [],
   "source": [
    "# 실습 코드 작성(부족할 경우 추가, 남을 경우 삭제)"
   ]
  }
 ],
 "metadata": {
  "kernelspec": {
   "display_name": "Python 3.10.5 64-bit",
   "language": "python",
   "name": "python3"
  },
  "language_info": {
   "codemirror_mode": {
    "name": "ipython",
    "version": 3
   },
   "file_extension": ".py",
   "mimetype": "text/x-python",
   "name": "python",
   "nbconvert_exporter": "python",
   "pygments_lexer": "ipython3",
   "version": "3.10.5"
  },
  "orig_nbformat": 4,
  "vscode": {
   "interpreter": {
    "hash": "dc6e2ecef4fbfb06d9e31a0bc478c6e4af8bafc1790a9f3fa3ccd4d0647f3345"
   }
  }
 },
 "nbformat": 4,
 "nbformat_minor": 2
}
