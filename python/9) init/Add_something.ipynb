{
 "cells": [
  {
   "cell_type": "markdown",
   "metadata": {},
   "source": [
    "### 여러 경로의 모듈 import 하기\n",
    "#### **동일/하위 폴더(경로)의 모듈을 from, import 하는법**\n",
    "\n",
    "1. 필요성  \n",
    "<img src = import1.png width = 500 height = 500>  \n",
    "Python에서 위와 같이 game이란 project를 진행한다고 가정해 보겠습니다. main.py에서 여러 패키지(폴더) 안의 다른 모듈(##.py)을 import 할 수 있어야만 프로젝트를 완성할 수 있습니다.  \n",
    "이번에는 import에 관해 다뤄보겠습니다. (ex. package1 패키지 안에 있는 module1_1.py 모듈을 불러와!)\n",
    "\n",
    "2. main.py에서 동일/하위 폴더(경로) 내 \"모듈\" 호출하기  \n",
    "<img src = import2.png width = 500 height = 500>   \n",
    "같은 경로, 즉 같은 패키지에서 모듈을 가져오거나(main.py→moudle0.py) 하위 경로에서 모듈을 가져오는 방법(main.py→package1.module1_1.py)을 아래 표에 모두 정리하였습니다.  \n",
    "아래와 같은 방법 중 어떤 걸 사용하여도 동일/하위 패키지의 모듈을 불러올 수 있습니다. 하지만, 가독성을 높여주기 위해서는 PEP8(Python Coding Style Guideline)에서 추천하는 방식을 추천드립니다.   \n",
    "**아래 표에 ※로 표시된 스타일의 경우 PEP8에서 쓰지 않길 권장하는 방식입니다.**"
   ]
  },
  {
   "cell_type": "markdown",
   "metadata": {},
   "source": [
    "<style type=\"text/css\">\n",
    ".tg  {border-collapse:collapse;border-spacing:0;}\n",
    ".tg td{border-color:black;border-style:solid;border-width:1px;font-family:Arial, sans-serif;font-size:14px;\n",
    "  overflow:hidden;padding:10px 5px;word-break:normal;}\n",
    ".tg th{border-color:black;border-style:solid;border-width:1px;font-family:Arial, sans-serif;font-size:14px;\n",
    "  font-weight:normal;overflow:hidden;padding:10px 5px;word-break:normal;}\n",
    ".tg .tg-0pky{border-color:inherit;text-align:left;vertical-align:top}\n",
    "</style>\n",
    "\n",
    "<table class=\"tg\">\n",
    "<thead>\n",
    "  <tr>\n",
    "    <th class=\"tg-0pky\">경로</th>\n",
    "    <th class=\"tg-0pky\">호출 방식</th>\n",
    "    <th class=\"tg-0pky\">사용 방법</th>\n",
    "  </tr>\n",
    "</thead>\n",
    "<tbody>\n",
    "  <tr>\n",
    "    <td class=\"tg-0pky\" rowspan=\"5\"><br><br><br><br><br><br><br><br><br><br>동일 경로<br>(동일 폴더)</td>\n",
    "    <td class=\"tg-0pky\">import 모듈<br>※ import 모듈1, 모듈2</td>\n",
    "    <td class=\"tg-0pky\">모듈.변수<br>모듈.함수<br>객체=모듈.클래스()</td>\n",
    "  </tr>\n",
    "  <tr>\n",
    "    <td class=\"tg-0pky\"><br>import 모듈 as 별칭</td>\n",
    "    <td class=\"tg-0pky\">별칭.변수<br>별칭.함수<br>별칭.클래스()</td>\n",
    "  </tr>\n",
    "  <tr>\n",
    "    <td class=\"tg-0pky\">from 모듈 import 변수<br>from 모듈 import 함수<br>from 모듈 import 클래스<br>from 모듈 import 변수, 함수, 클래스</td>\n",
    "    <td class=\"tg-0pky\">변수<br>함수()<br>객체=클래스()</td>\n",
    "  </tr>\n",
    "  <tr>\n",
    "    <td class=\"tg-0pky\"><br>※ from 모듈 import*</td>\n",
    "    <td class=\"tg-0pky\">변수<br>함수()<br>객체=클래스()</td>\n",
    "  </tr>\n",
    "  <tr>\n",
    "    <td class=\"tg-0pky\">from 모듈 import 변수 as 별칭1<br>from 모듈 import 변수 as 별칭2<br>from 모듈 import 변수 as 별칭3<br>from 모듈 import 변수 as 별칭4, 함수 as 별칭 5, 클래스 as 별칭6</td>\n",
    "    <td class=\"tg-0pky\">별칭1, 별칭4<br>별칭2(),별칭5()<br>객체=별칭3()<br>객체=별칭6()</td>\n",
    "  </tr>\n",
    "</tbody>\n",
    "</table>"
   ]
  },
  {
   "cell_type": "markdown",
   "metadata": {},
   "source": [
    "<style type=\"text/css\">\n",
    ".tg  {border-collapse:collapse;border-spacing:0;}\n",
    ".tg td{border-color:black;border-style:solid;border-width:1px;font-family:Arial, sans-serif;font-size:14px;\n",
    "  overflow:hidden;padding:10px 5px;word-break:normal;}\n",
    ".tg th{border-color:black;border-style:solid;border-width:1px;font-family:Arial, sans-serif;font-size:14px;\n",
    "  font-weight:normal;overflow:hidden;padding:10px 5px;word-break:normal;}\n",
    ".tg .tg-0pky{border-color:inherit;text-align:left;vertical-align:top}\n",
    "</style>\n",
    "\n",
    "<table class=\"tg\">\n",
    "<thead>\n",
    "  <tr>\n",
    "    <th class=\"tg-0pky\">경로</th>\n",
    "    <th class=\"tg-0pky\">호출 방식</th>\n",
    "    <th class=\"tg-0pky\">사용 방법</th>\n",
    "  </tr>\n",
    "</thead>\n",
    "<tbody>\n",
    "  <tr>\n",
    "    <td class=\"tg-0pky\" rowspan=\"5\"><br><br><br><br><br><br><br><br><br><br>하위 경로<br>(하위 폴더)</td>\n",
    "    <td class=\"tg-0pky\">import 패키지.모듈<br>import 패키지.모듈1, 패키지.모듈2</td>\n",
    "    <td class=\"tg-0pky\">패키지.모듈.변수<br>패키지.모듈.함수<br>객체=패키지.모듈.클래스()</td>\n",
    "  </tr>\n",
    "  <tr>\n",
    "    <td class=\"tg-0pky\"><br>import 패키지.모듈 as 별칭</td>\n",
    "    <td class=\"tg-0pky\">별칭.변수<br>별칭.함수<br>별칭.클래스()</td>\n",
    "  </tr>\n",
    "  <tr>\n",
    "    <td class=\"tg-0pky\">from 패키지.모듈 import 변수<br>from 패키지.모듈 import 함수<br>from 패키지.모듈 import 클래스<br>from 패키지.모듈 import 변수, 함수, 클래스</td>\n",
    "    <td class=\"tg-0pky\">변수<br>함수()<br>객체=클래스()</td>\n",
    "  </tr>\n",
    "  <tr>\n",
    "    <td class=\"tg-0pky\"><br>※ from 패키지.모듈 import*</td>\n",
    "    <td class=\"tg-0pky\">변수<br>함수()<br>객체=클래스()</td>\n",
    "  </tr>\n",
    "  <tr>\n",
    "    <td class=\"tg-0pky\">from 패키지.모듈 import 변수 as 별칭1<br>from 패키지.모듈 import 변수 as 별칭2, 함수 as 별칭3, 클래스 as 별칭4</td>\n",
    "    <td class=\"tg-0pky\">별칭1, 별칭2<br>별칭3()<br>객체=별칭4()</td>\n",
    "  </tr>\n",
    "</tbody>\n",
    "</table>"
   ]
  },
  {
   "cell_type": "markdown",
   "metadata": {},
   "source": [
    "3. main.py에서 하위 폴더(패키지) 직접 불러오기  \n",
    "<img src = import3.png width = 500 height = 500>  \n",
    "하위 패키지의 모듈을 직접 불러오기보단, 패키지를 한 번 거쳐서 불러오는 방법도 있습니다.  \n",
    "여기서 조심해야 할 점은 import 패키지와 from  패키지 import *를 하면, 패키지의 `__init__.py`만 가져올뿐, 나머지 모듈은 가져오지 않는다는 것입니다."
   ]
  },
  {
   "cell_type": "markdown",
   "metadata": {},
   "source": [
    "<style type=\"text/css\">\n",
    ".tg  {border-collapse:collapse;border-spacing:0;}\n",
    ".tg td{border-color:black;border-style:solid;border-width:1px;font-family:Arial, sans-serif;font-size:14px;\n",
    "  overflow:hidden;padding:10px 5px;word-break:normal;}\n",
    ".tg th{border-color:black;border-style:solid;border-width:1px;font-family:Arial, sans-serif;font-size:14px;\n",
    "  font-weight:normal;overflow:hidden;padding:10px 5px;word-break:normal;}\n",
    ".tg .tg-73oq{border-color:inherit;text-align:left;vertical-align:top}\n",
    "</style>\n",
    "\n",
    "<table class=\"tg\">\n",
    "<thead>\n",
    "  <tr>\n",
    "    <th class=\"tg-73oq\">경로</th>\n",
    "    <th class=\"tg-73oq\">호출방식</th>\n",
    "    <th class=\"tg-73oq\">사용 방법</th>\n",
    "  </tr>\n",
    "</thead>\n",
    "<tbody>\n",
    "  <tr>\n",
    "    <td class=\"tg-73oq\" rowspan=\"4\">하위 패키지 호출<br>main ▶ package1</td>\n",
    "    <td class=\"tg-73oq\">from 패키지 import 모듈<br>※ from 패키지 import 모듈1, 모듈2</td>\n",
    "    <td class=\"tg-73oq\">모듈.변수<br>모듈.함수()<br>객체=모듈.클래스()</td>\n",
    "  </tr>\n",
    "  <tr>\n",
    "    <td class=\"tg-73oq\">from 패키지 import 모듈 as 별칭1<br>from 패키지 import 모듈2 as 별칭2, 모듈3 as 별칭3</td>\n",
    "    <td class=\"tg-73oq\">별칭.변수<br>별칭.함수()<br>객체=별칭.클래스()</td>\n",
    "  </tr>\n",
    "  <tr>\n",
    "    <td class=\"tg-73oq\">import 패키지</td>\n",
    "    <td class=\"tg-73oq\" rowspan=\"2\">__init__.py 사용</td>\n",
    "  </tr>\n",
    "  <tr>\n",
    "    <td class=\"tg-73oq\">※ from 패키지 import *</td>\n",
    "  </tr>\n",
    "</tbody>\n",
    "</table>"
   ]
  },
  {
   "cell_type": "markdown",
   "metadata": {},
   "source": [
    "<style type=\"text/css\">\n",
    ".tg  {border-collapse:collapse;border-spacing:0;}\n",
    ".tg td{border-color:black;border-style:solid;border-width:1px;font-family:Arial, sans-serif;font-size:14px;\n",
    "  overflow:hidden;padding:10px 5px;word-break:normal;}\n",
    ".tg th{border-color:black;border-style:solid;border-width:1px;font-family:Arial, sans-serif;font-size:14px;\n",
    "  font-weight:normal;overflow:hidden;padding:10px 5px;word-break:normal;}\n",
    ".tg .tg-0pky{border-color:inherit;text-align:left;vertical-align:top}\n",
    "</style>\n",
    "<table class=\"tg\">\n",
    "<thead>\n",
    "  <tr>\n",
    "    <td class=\"tg-0pky\" rowspan=\"6\">__init__.py 사용법</td>\n",
    "    <td class=\"tg-0pky\">__init__.py 내부 내용</td>\n",
    "    <td class=\"tg-0pky\">main.py에서 import 방법</td>\n",
    "  </tr>\n",
    "  <tr>\n",
    "    <td class=\"tg-0pky\">import 패키지.모듈</td>\n",
    "    <td class=\"tg-0pky\" rowspan=\"3\">[main.py]<br>import 패키지<br><br>패키지.모듈.변수<br>패키지.모듈.함수()<br>객체=패키지.모듈.함수()</td>\n",
    "  </tr>\n",
    "  <tr>\n",
    "    <td class=\"tg-0pky\">from 패키지 import 모듈</td>\n",
    "  </tr>\n",
    "  <tr>\n",
    "    <td class=\"tg-0pky\">from.import 모듈</td>\n",
    "  </tr>\n",
    "  <tr>\n",
    "    <td class=\"tg-0pky\"><br><br><br>from.모듈 import *</td>\n",
    "    <td class=\"tg-0pky\">[main.py]<br>import 패키지<br><br>패키지.변수<br>패키지.함수()<br>객체=패키지.클래스()</td>\n",
    "  </tr>\n",
    "  <tr>\n",
    "    <td class=\"tg-0pky\">from ..패키지 import 모듈<br>from ..패키지 import 변수,함수,클래스<br>from ..패키지 import *</td>\n",
    "    <td class=\"tg-0pky\"><br>패키지 안에 하위 패키지</td>\n",
    "  </tr>\n",
    "</thead>\n",
    "</table>"
   ]
  },
  {
   "cell_type": "markdown",
   "metadata": {},
   "source": [
    "#### [참고]`__init__.py`의 사용법\n",
    "<img src = init.png width = 500 height = 500>   \n",
    "\n",
    "* 폴더 안에 `__init__.py`가 있으면 이 폴더는 \"패키지\"로 인식되는데, 보통 `__init__.py`는 비워져 있습니다.  \n",
    "(참고로 Python 버전 3.3 이상부터는 `__init__.py`가 없어도 패키지로 자동 인식되지만, 하위 버전에서도 호환되도록 두는 것이 좋습니다.)\n",
    "\n",
    "> 주의할 점은, 패키지 상위 경로의 모듈(ex.`main.py`)에서 `import 패키지` 또는 `from 패키지 import *`로 불러올 시, `__init__.py`가 아닌 다른 모듈은 가져오지 않는다는 점을 알아야 합니다."
   ]
  },
  {
   "cell_type": "code",
   "execution_count": 1,
   "metadata": {},
   "outputs": [
    {
     "name": "stdout",
     "output_type": "stream",
     "text": [
      "7\n",
      "더할수 있는 것이 아닙니다.\n",
      "None\n"
     ]
    }
   ],
   "source": [
    "import mod1\n",
    "print(mod1.sum(3,4))\n",
    "print(mod1.safe_sum(1, 'a'))"
   ]
  },
  {
   "cell_type": "markdown",
   "metadata": {},
   "source": [
    "모듈을 `import` 해서 불러오기 위해서는 작업공간이 `mod1.py`모듈이 저장된 디렉토리로 이동해야 가능합니다.<br>\n",
    "즉, `import 모듈이름`은 현재 디렉터리에 있는 파일이나 파이썬 라이브러리가 저장된 디렉터리에 있는 모듈만 불러올 수 있습니다.<br>\n",
    "또한 `mod1.py`의 `sum`함수를 이용하기 위해서는 `mod1.sum`의 형태로 도트연산자를 이용해야 합니다."
   ]
  },
  {
   "cell_type": "markdown",
   "metadata": {},
   "source": [
    "### 모듈이 있는 디렉토리로 이동하지 않고 사용하는 방법\n",
    "*sys.path.append(모듈을 저장한 디렉터리) 사용하기*\n",
    "\n",
    "* `sys` 모듈은 파이썬을 설치할 때 함께 설치되는 라이브러리로, 이를 이용해 파이썬 라이브러리가 설치되어 있는 디렉터리를 확인할 수 있습니다."
   ]
  },
  {
   "cell_type": "code",
   "execution_count": 3,
   "metadata": {},
   "outputs": [
    {
     "name": "stdout",
     "output_type": "stream",
     "text": [
      "['f:\\\\SW인재양성_강의자료\\\\K-SW_BootCamp2022\\\\python\\\\9) init', 'c:\\\\Miniconda3\\\\envs\\\\aicity\\\\python39.zip', 'c:\\\\Miniconda3\\\\envs\\\\aicity\\\\DLLs', 'c:\\\\Miniconda3\\\\envs\\\\aicity\\\\lib', 'c:\\\\Miniconda3\\\\envs\\\\aicity', '', 'c:\\\\Miniconda3\\\\envs\\\\aicity\\\\lib\\\\site-packages', 'c:\\\\Miniconda3\\\\envs\\\\aicity\\\\lib\\\\site-packages\\\\win32', 'c:\\\\Miniconda3\\\\envs\\\\aicity\\\\lib\\\\site-packages\\\\win32\\\\lib', 'c:\\\\Miniconda3\\\\envs\\\\aicity\\\\lib\\\\site-packages\\\\Pythonwin']\n"
     ]
    }
   ],
   "source": [
    "import sys\n",
    "\n",
    "print(sys.path)"
   ]
  },
  {
   "cell_type": "markdown",
   "metadata": {},
   "source": [
    "즉, 어떤 모듈이 이 경로안에 포함되어 있다면 디렉터리의 이동 없이 해당 모듈을 사용할 수 있다."
   ]
  },
  {
   "cell_type": "code",
   "execution_count": 6,
   "metadata": {},
   "outputs": [
    {
     "name": "stdout",
     "output_type": "stream",
     "text": [
      "['f:\\\\SW인재양성_강의자료\\\\K-SW_BootCamp2022\\\\python\\\\9) init', 'c:\\\\Miniconda3\\\\envs\\\\aicity\\\\python39.zip', 'c:\\\\Miniconda3\\\\envs\\\\aicity\\\\DLLs', 'c:\\\\Miniconda3\\\\envs\\\\aicity\\\\lib', 'c:\\\\Miniconda3\\\\envs\\\\aicity', '', 'c:\\\\Miniconda3\\\\envs\\\\aicity\\\\lib\\\\site-packages', 'c:\\\\Miniconda3\\\\envs\\\\aicity\\\\lib\\\\site-packages\\\\win32', 'c:\\\\Miniconda3\\\\envs\\\\aicity\\\\lib\\\\site-packages\\\\win32\\\\lib', 'c:\\\\Miniconda3\\\\envs\\\\aicity\\\\lib\\\\site-packages\\\\Pythonwin', 'f:\\\\SW인재양성_강의자료\\\\K-SW_BootCamp2022\\\\python\\\\9) init', 'f:\\\\SW인재양성_강의자료\\\\K-SW_BootCamp2022\\\\python\\\\9) init']\n"
     ]
    }
   ],
   "source": [
    "import os\n",
    "sys.path.append(os.getcwd())\n",
    "print(sys.path)"
   ]
  },
  {
   "cell_type": "markdown",
   "metadata": {},
   "source": [
    "`sys.path`의 결과값이 리스트 자료형이므로 `append`함수를 이용해 경로를 추가해주면 됩니다. <br>\n",
    "`append`함수는 리스트 자료형 포스팅의 리스트 관련함수에서 언급했던 적이 있습니다."
   ]
  },
  {
   "cell_type": "code",
   "execution_count": 4,
   "metadata": {},
   "outputs": [],
   "source": [
    "import mod1"
   ]
  },
  {
   "cell_type": "markdown",
   "metadata": {},
   "source": [
    "즉, `from .. import mod1` 와 같은 상대경로를 써주지 않아도, 패키지.변수, 패키지.함수, 패키지.클래스로 바로 접속이 가능하게 됩니다."
   ]
  },
  {
   "cell_type": "markdown",
   "metadata": {},
   "source": [
    "### PYTHONPATH 환경 변수 이용하기"
   ]
  },
  {
   "cell_type": "markdown",
   "metadata": {},
   "source": [
    "비슷한 방법으로 커맨드 창에 `set PYTHONPATH=경로`룰 입력해 새로운 디렉터리를 설정해 주면, 별도의 작업 필요 없이 mod1.py모듈을 이용 할 수 있습니다."
   ]
  }
 ],
 "metadata": {
  "kernelspec": {
   "display_name": "Python 3.9.12 ('aicity')",
   "language": "python",
   "name": "python3"
  },
  "language_info": {
   "codemirror_mode": {
    "name": "ipython",
    "version": 3
   },
   "file_extension": ".py",
   "mimetype": "text/x-python",
   "name": "python",
   "nbconvert_exporter": "python",
   "pygments_lexer": "ipython3",
   "version": "3.9.12"
  },
  "orig_nbformat": 4,
  "vscode": {
   "interpreter": {
    "hash": "fafe7e8cba34e0f5b136f60d0c03844d601426804fd31a55bd9222d9c9920ec4"
   }
  }
 },
 "nbformat": 4,
 "nbformat_minor": 2
}
