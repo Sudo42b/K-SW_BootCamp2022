{
 "cells": [
  {
   "cell_type": "markdown",
   "metadata": {},
   "source": [
    "## <span style='color:black; background-color:#dcffe4'> Air Quality Dataset을 이용한 프로젝트 </span>\n",
    "**\"Air Quality\"** dataset은 이탈리아의 한 도시에서 현장에 배치된 가스 멀티센서 장치의 응답을 포함하고 있습니다.  \n",
    "시간당 센서 응답 평균은 인증된 분석기의 가스 농도 기준과 함께 기록됩니다.\n",
    "\n",
    "> source: Saverio De Vito (saverio.devito '@' enea.it), ENEA - 국가 신기술, 에너지 및 지속 가능한 경제 개발 기관\n",
    "\n",
    "본 Dataset에는 대기질 화학 다중센서 장치에 내장된 5개의 금속 산화물 화학 센서에서 시간당 평균 응답의 9358개의 인스턴스가 포함되어 있습니다.  \n",
    "이 장치는 이탈리아의 한 도시 내 도로 수준에서 상당히 오염된 지역의 현장에 있었으며, 데이터는 2004년 3월부터 2005년 2월까지 약 1년간 기록되었습니다.  \n",
    "\n",
    "`CO`, ``"
   ]
  }
 ],
 "metadata": {
  "language_info": {
   "name": "python"
  },
  "orig_nbformat": 4
 },
 "nbformat": 4,
 "nbformat_minor": 2
}
