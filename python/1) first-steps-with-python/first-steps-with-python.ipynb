{
 "cells": [
  {
   "cell_type": "markdown",
   "metadata": {},
   "source": [
    "# Python과 Jupyter의 기초\n",
    "\n",
    "![](https://i.imgur.com/gvSnw4A.png)\n",
    "\n",
    "### Part 1 of \"Python을 사용한 데이터 분석: 0부터 Pandas까지\"\n",
    "\n",
    "본 튜토리얼 시리즈는 초보자를 위한 Python을 이용한 프로그래밍과 데이터 분석을 소개합니다.   \n",
    "이 튜토리얼은 실용적이고 코딩 중심적인 접근으로 진행됩니다.\n",
    "본 튜토리얼을 효율적으로 학습하는 가장 좋은 방법은 코드를 실행하고 직접 사용해 보는 것입니다.\n",
    "\n",
    "<!--This tutorial series is a beginner-friendly introduction to programming and data analysis using the Python programming language. \n",
    "These tutorials take a practical and coding-focused approach. \n",
    "The best way to learn the material is to execute the code and experiment with it yourself. Check out the full series here:-->\n",
    "\n",
    "1. [Python과 Jupyter 기초]\n",
    "2. [변수 및 데이터 유형 요약 알아보기]\n",
    "3. [조건문 및 루프를 사용한 분기]\n",
    "4. [함수를 이용한 재사용 가능한 코드 작성]\n",
    "5. [파일 읽기 및 쓰기]\n",
    "6. [Python과 Numpy를 이용한 수치형 연산]\n",
    "7. [Pandas를 이용한 데이터 표 분석]\n",
    "8. [Matplotlib와 Seaborn을 사용한 데이터 시각화]\n",
    "9. [탐색적 데이터 분석 - 사례 연구]\n",
    "<!--\n",
    "1. [First Steps with Python and Jupyter](https://jovian.ai/aakashns/first-steps-with-python)\n",
    "2. [A Quick Tour of Variables and Data Types](https://jovian.ai/aakashns/python-variables-and-data-types)\n",
    "3. [Branching using Conditional Statements and Loops](https://jovian.ai/aakashns/python-branching-and-loops)\n",
    "4. [Writing Reusable Code Using Functions](https://jovian.ai/aakashns/python-functions-and-scope)\n",
    "5. [Reading from and Writing to Files](https://jovian.ai/aakashns/python-os-and-filesystem)\n",
    "6. [Numerical Computing with Python and Numpy](https://jovian.ai/aakashns/python-numerical-computing-with-numpy)\n",
    "7. [Analyzing Tabular Data using Pandas](https://jovian.ai/aakashns/python-pandas-data-analysis)\n",
    "8. [Data Visualization using Matplotlib & Seaborn](https://jovian.ai/aakashns/python-matplotlib-data-visualization)\n",
    "9. [Exploratory Data Analysis - A Case Study](https://jovian.ai/aakashns/python-eda-stackoverflow-survey)\n",
    "-->"
   ]
  },
  {
   "cell_type": "markdown",
   "metadata": {},
   "source": [
    "이번 튜토리얼에서 다루는 항목 :\n",
    "<!--This tutorial covers the following topics:-->\n",
    "* Python을 사용하여 산술 연산 수행\n",
    "* 변수를 사용한 multi-step 문제 해결\n",
    "* Python을 사용한 조건의 참/거짓 판단\n",
    "* 조건과 논리연산자의 결합\n",
    "* Markdown을 사용한 텍스트 스타일 추가\n",
    "<!--\n",
    "* Performing arithmetic operations using Python\n",
    "* Solving multi-step problems using variables\n",
    "* Evaluating conditions using Python\n",
    "* Combining conditions with logical operators\n",
    "* Adding text styles using Markdown-->"
   ]
  },
  {
   "cell_type": "markdown",
   "metadata": {},
   "source": [
    "### 코드 실행 방법\n",
    "<!--### How to run the code\n",
    "\n",
    "This tutorial is an executable [Jupyter notebook](https://jupyter.org) hosted on [Jovian](https://www.jovian.ai) (don't worry if these terms seem unfamiliar; we'll learn more about them soon). You can _run_ this tutorial and experiment with the code examples in a couple of ways: *using free online resources* (recommended) or *on your computer*.\n",
    "\n",
    "<!--#### Option 1: Running using free online resources (1-click, recommended)-->\n",
    "### Option 1: 무료 온라인 리소스를 사용하여 실행\n",
    "<!--The easiest way to start executing the code is to click the **Run** button at the top of this page and select **Run on Binder**. You can also select \"Run on Colab\" or \"Run on Kaggle\", but you'll need to create an account on [Google Colab](https://colab.research.google.com) or [Kaggle](https://kaggle.com) to use these platforms.-->\n",
    "무료로 제공되는 온라인 리소스를 사용하여 실행하는 방법입니다.  \n",
    "**Run** 버튼을 클릭한 뒤 **Run on Binder**를 선택하여 해당코드를 실행시킬수 있습니다.  \n",
    "\n",
    "\"Run on Colab\" 혹은 \"Run on Kaggle\"을 선택하여 [Google Colab](https://colab.research.google.com) 혹은[Kaggle](https://kaggle.com) 이 플랫폼에서도 해당코드를 실행시킬 수 있지만,  \n",
    "이러한 플랫폼을 사용하려면 [Google Colab](https://colab.research.google.com) 또는 [Kaggle](https://kaggle.com)에서 계정을 생성해야 합니다.\n",
    "\n",
    "<!--#### Option 2: Running on your computer locally-->\n",
    "### Option 2: 컴퓨터에서 로컬로 실행\n",
    "로컬 환경에서 해당코드를 실행시키려면 [Python](https://www.python.org)이 필요하고, Jupyter Notebooks을 다운로드 한 후 필요한 라이브러리를 설치해야 합니다.  \n",
    "Python 환경을 분리시켜 관리해주는 [Conda](https://docs.conda.io/projects/conda/en/latest/user-guide/install/)를 활용하여 환경설정을 하는 것을 추천합니다.\n",
    "\n",
    "<!--To run the code on your computer locally, you'll need to set up [Python](https://www.python.org), download the notebook and install the required libraries. We recommend using the [Conda](https://docs.conda.io/projects/conda/en/latest/user-guide/install/) distribution of Python. Click the **Run** button at the top of this page, select the **Run Locally** option, and follow the instructions.-->\n",
    "\n",
    "> **Jypyter Notebooks** : 이 튜토리얼은 [Jupyter notebook](https://jupyter.org)으로 만들었습니다.\n",
    "각 셀은 Python으로 작성된 코드나 간단한 설명을 포함할 수 있습니다.\n",
    "코드 셀을 실행하고, 실행결과(숫자, 문자, 그래프, 테이블, 파일 등)를 Jupyter Notebook 내에서 즉시 볼 수 있습니다.\n",
    "Jupyter는 실험과 분석을 위한 플랫폼이므로, 코드가 지저분하게 작성되어있거나 여러 셀에 나뉘어진 상태에서 문제를 해결하는 것을 절대 두려워하지 마십시오.\n",
    "오류를 발견하고 수정하는 과정에서 많은 것을 배울 수 있으며, 상단의 \"모든 셀의 출력 지우기\" 옵션을 사용하여 모든 출력을 지우고 위에서부터 다시 시작할 수 있습니다.\n",
    "<!--\n",
    "  **Jupyter Notebooks**: This tutorial is a [Jupyter notebook](https://jupyter.org) - a document made of _cells_. Each cell can contain code written in Python or explanations in plain English. You can execute code cells and view the results, e.g., numbers, messages, graphs, tables, files, etc. instantly within the notebook. Jupyter is a powerful platform for experimentation and analysis. Don't be afraid to mess around with the code & break things - you'll learn a lot by encountering and fixing errors. You can use the \"Kernel > Restart & Clear Output\" menu option to clear all outputs and start again from the top.-->"
   ]
  },
  {
   "cell_type": "markdown",
   "metadata": {},
   "source": [
    "## Python을 사용한 산술 연산 수행\n",
    "\n",
    "먼저, Python을 계산기로 사용해보겠습니다. Jupyter 내에서 코드 셀을 사용하여 Python을 작성하고 실행할 수 있습니다.\n",
    "\n",
    "> **셀 작업** : Jupyter 내에 새로운 셀을 생성하려면 메뉴 모음에서 \"삽입 > 아래에 셀 삽입\"을 선택하거나, 도구 모음에서 \"+\" 버튼을 누르면 됩니다.  \n",
    "또한 단축키 Esc+B를 사용하여 새로운 셀을 생성할 수 있습니다.   \n",
    "셀이 만들어지면 셀을 클릭하여 선택하고, 그런 다음 \"셀 > 셀 유형\" 메뉴 선택사항을 사용하여 셀 유형을 코드 또는 Markdown(텍스트)로 변경할 수 있습니다.  \n",
    "또한 단축키인 Esc+Y와 Esc+M을 사용할 수 있으며, 셀을 두 번 클릭하여 셀 내의 내용을 편집할 수 있습니다.  \n",
    "변경사항을 적용하고 셀을 실행하려면 \"셀 > 셀 실행\" 메뉴 옵션을 사용하거나, 도구 모음에서 \"실행\" 단추를 클릭하거나 \"Shift+Enter\"를 사용하면 됩니다.\n",
    "\n",
    "\n",
    "아래의 코드 셀을 실행하여 계산을 수행하고, 결과를 확인하세요.  \n",
    "그런 다음, 본인의 생각에 따라 숫자를 변경하고 수정된 셀을 다시 실행하여 결과를 확인하세요.  \n",
    "'//', '%', '**' 연산자가 무엇에 쓰이는지 짐작할 수 있나요?\n",
    "\n",
    "\n",
    "\n",
    "<!--## Performing Arithmetic Operations using Python\n",
    "\n",
    "Let's begin by using Python as a calculator. You can write and execute Python using a code cell within Jupyter. \n",
    "\n",
    "> **Working with cells**: To create a new cell within Jupyter, you can select \"Insert > Insert Cell Below\" from the menu bar or just press the \"+\" button on the toolbar. You can also use the keyboard shortcut `Esc+B` to create a new cell. Once a cell is created, click on it to select it. You can then change the cell type to code or markdown (text) using the \"Cell > Cell Type\" menu option. You can also use the keyboard shortcuts `Esc+Y` and `Esc+M`. Double-click a cell to edit the content within the cell. To apply your changes and run a cell, use the \"Cell > Run Cells\" menu option or click the \"Run\" button on the toolbar or just use the keyboard shortcut `Shift+Enter`. You can see a full list of keyboard shortcuts using the \"Help > Keyboard Shortcuts\" menu option.\n",
    "\n",
    "Run the code cells below to perform calculations and view their result. Try changing the numbers and run the modified cells again to see updated results. Can you guess what the `//`, `%`, and `**` operators are used for?\n",
    "-->"
   ]
  },
  {
   "cell_type": "code",
   "execution_count": null,
   "metadata": {},
   "outputs": [
    {
     "data": {
      "text/plain": [
       "14"
      ]
     },
     "execution_count": 1,
     "metadata": {},
     "output_type": "execute_result"
    }
   ],
   "source": [
    "2 + 3 + 9"
   ]
  },
  {
   "cell_type": "code",
   "execution_count": 2,
   "metadata": {},
   "outputs": [
    {
     "data": {
      "text/plain": [
       "26"
      ]
     },
     "execution_count": 2,
     "metadata": {},
     "output_type": "execute_result"
    }
   ],
   "source": [
    "99 - 73"
   ]
  },
  {
   "cell_type": "code",
   "execution_count": 3,
   "metadata": {
    "scrolled": true
   },
   "outputs": [
    {
     "data": {
      "text/plain": [
       "-33709.28"
      ]
     },
     "execution_count": 3,
     "metadata": {},
     "output_type": "execute_result"
    }
   ],
   "source": [
    "23.54 * -1432"
   ]
  },
  {
   "cell_type": "code",
   "execution_count": 4,
   "metadata": {},
   "outputs": [
    {
     "data": {
      "text/plain": [
       "14.285714285714286"
      ]
     },
     "execution_count": 4,
     "metadata": {},
     "output_type": "execute_result"
    }
   ],
   "source": [
    "100 / 7"
   ]
  },
  {
   "cell_type": "code",
   "execution_count": 5,
   "metadata": {},
   "outputs": [
    {
     "data": {
      "text/plain": [
       "14"
      ]
     },
     "execution_count": 5,
     "metadata": {},
     "output_type": "execute_result"
    }
   ],
   "source": [
    "100 // 7"
   ]
  },
  {
   "cell_type": "code",
   "execution_count": 6,
   "metadata": {},
   "outputs": [
    {
     "data": {
      "text/plain": [
       "2"
      ]
     },
     "execution_count": 6,
     "metadata": {},
     "output_type": "execute_result"
    }
   ],
   "source": [
    "100 % 7"
   ]
  },
  {
   "cell_type": "code",
   "execution_count": 7,
   "metadata": {},
   "outputs": [
    {
     "data": {
      "text/plain": [
       "125"
      ]
     },
     "execution_count": 7,
     "metadata": {},
     "output_type": "execute_result"
    }
   ],
   "source": [
    "5 ** 3"
   ]
  },
  {
   "cell_type": "markdown",
   "metadata": {},
   "source": [
    "예상할 수 있듯이, `/`, `*`와 같은 연산자는 수학적 관례에 따라 `+`, `-`와 같은 다른 연산자보다 우선순위가 높습니다.  \n",
    "수학과 동일하게, 괄호 ()를 사용하여 작업 수행 순서를 지정할 수 있습니다.\n",
    "<!--As you might expect, operators like `/` and `*` take precedence over other operators like `+` and `-` as per mathematical conventions. You can use parentheses, i.e. `(` and `)`, to specify the order in which operations are performed.-->"
   ]
  },
  {
   "cell_type": "code",
   "execution_count": 1,
   "metadata": {},
   "outputs": [
    {
     "data": {
      "text/plain": [
       "1.53125"
      ]
     },
     "execution_count": 1,
     "metadata": {},
     "output_type": "execute_result"
    }
   ],
   "source": [
    "((2 + 5) * (17 - 3)) / (4 ** 3)"
   ]
  },
  {
   "cell_type": "markdown",
   "metadata": {},
   "source": [
    "Python은 다음과 같은 산술 연산자를 지원합니다 :\n",
    "| 연산자      | 목적               | 예시        | 결과      |\n",
    "|------------|--------------------|-------------|-----------|\n",
    "| `+`        | 덧셈               | `2 + 3`     | `5`       |\n",
    "| `-`        | 뺄셈               | `3 - 2`     | `1`       |\n",
    "| `*`        | 곱셈               | `8 * 12`    | `96`      |\n",
    "| `/`        | 나눗셈             | `100 / 7`   | `14.28..` |\n",
    "| `//`       | 몫                 | `100 // 7`  | `14`      |    \n",
    "| `%`        | 나머지             | `100 % 7`   | `2`       |\n",
    "| `**`       | 제곱               | `5 ** 3`    | `125`     |\n",
    "<!--Python supports the following arithmetic operators:\n",
    "\n",
    "| Operator   | Purpose           | Example     | Result    |\n",
    "|------------|-------------------|-------------|-----------|\n",
    "| `+`        | Addition          | `2 + 3`     | `5`       |\n",
    "| `-`        | Subtraction       | `3 - 2`     | `1`       |\n",
    "| `*`        | Multiplication    | `8 * 12`    | `96`      |\n",
    "| `/`        | Division          | `100 / 7`   | `14.28..` |\n",
    "| `//`       | Floor Division    | `100 // 7`  | `14`      |    \n",
    "| `%`        | Modulus/Remainder | `100 % 7`   | `2`       |\n",
    "| `**`       | Exponent          | `5 ** 3`    | `125`     |\n",
    "\n",
    "\n",
    "Try solving some simple problems from this page:\n",
    "https://www.math-only-math.com/worksheet-on-word-problems-on-four-operations.html . \n",
    "\n",
    "You can use the empty cells below and add more cells if required.-->"
   ]
  },
  {
   "cell_type": "markdown",
   "metadata": {},
   "source": [
    "## 변수를 사용한 multi-step 문제 해결\n",
    "\n",
    "Python을 사용하여 다음 문자 문제를 해결해보겠습니다.\n",
    "> 한 식료품점은 얼음 한 봉지를 1.25달러에 팔고, 20%의 수익을 올린다. 만약 얼음 500봉지를 판매한다면, 총 이익은 얼마나 될까?\n",
    "\n",
    "우리는 제공된 정보를 나열하고, 위 문제를 Python을 사용하여 수학적 표현으로 점진적으로 변환할 수 있습니다.  \n",
    "*얼음 봉지 비용($)* = 1.25  \n",
    "\n",
    "*이익률* = 20% = .2    \n",
    "\n",
    "*한 봉지당 이익($)* = 이익률 * 얼음봉지 비용 = .2 *1.25  \n",
    "\n",
    "*봉지 수* = 500  \n",
    "\n",
    "*총 이익* = 봉지 수 * 봉지당 이익 = \n",
    "500 * (.2 *1.25)\n",
    "<!--## Solving multi-step problems using variables\n",
    "\n",
    "Let's try solving the following word problem using Python: \n",
    "\n",
    "> A grocery store sells a bag of ice for $1.25 and makes a 20% profit. If it sells 500 bags of ice, how much total profit does it make?\n",
    "\n",
    "We can list out the information provided and gradually convert the word problem into a mathematical expression that can be evaluated using Python. \n",
    "\n",
    "*Cost of ice bag ($)* = 1.25\n",
    "\n",
    "*Profit margin* = 20% = .2\n",
    "\n",
    "*Profit per bag ($)* = profit margin * cost of ice bag = .2 * 1.25\n",
    "\n",
    "*No. of bags* = 500\n",
    "\n",
    "*Total profit* = no. of bags * profit per bag = 500 * (.2 * 1.25)-->"
   ]
  },
  {
   "cell_type": "code",
   "execution_count": 2,
   "metadata": {},
   "outputs": [
    {
     "data": {
      "text/plain": [
       "125.0"
      ]
     },
     "execution_count": 2,
     "metadata": {},
     "output_type": "execute_result"
    }
   ],
   "source": [
    "500 * (.2 * 1.25)"
   ]
  },
  {
   "cell_type": "markdown",
   "metadata": {},
   "source": [
    "위 과정에 의해, 식료품점은 총 125달러의 수익을 올립니다. 이것이 문제를 해결하는 합리적인 방법이지만, 코드 셀을 보면 숫자가 의미하는 것이 무엇인지 명확히 알 수 없습니다.  \n",
    "따라서 우리는 Python *변수*를 만들어 각각의 숫자에 이름을 붙일 것입니다.\n",
    "\n",
    "> *변수(Variables)* : Python과 같은 프로그래밍 언어로 작업하는 동안 정보가 *변수*에 저장됩니다.  \n",
    "변수는 데이터를 저장하기 위한 컨테이너라고 생각할 수 있으며, 변수 내에 저장된 데이터를 *값(value)* 라고 합니다.\n",
    "<!--Thus, the grocery store makes a total profit of $125. While this is a reasonable way to solve a problem, it's not entirely clear by looking at the code cell what the numbers represent. We can give names to each of the numbers by creating Python *variables*.\n",
    "\n",
    "> **Variables**: While working with a programming language such as Python, information is stored in *variables*. You can think of variables as containers for storing data. The data stored within a variable is called its *value*.-->"
   ]
  },
  {
   "cell_type": "code",
   "execution_count": 4,
   "metadata": {},
   "outputs": [],
   "source": [
    "cost_of_ice_bag = 1.25"
   ]
  },
  {
   "cell_type": "code",
   "execution_count": 5,
   "metadata": {},
   "outputs": [],
   "source": [
    "profit_margin = .2"
   ]
  },
  {
   "cell_type": "code",
   "execution_count": 6,
   "metadata": {},
   "outputs": [],
   "source": [
    "number_of_bags = 500"
   ]
  },
  {
   "cell_type": "markdown",
   "metadata": {},
   "source": [
    "위 셀에서 볼 수 있듯이, cost_of_ice_bag, profit_margin, number_of_bags 변수에는 이제 문제에 제공된 정보가 포함됩니다.  \n",
    "셀에 변수 이름을 입력하여 변수 값을 확인할 수 있으며, 산술연산을 사용하여 변수를 결합하는 등 다른 변수를 만들 수 있습니다.\n",
    "\n",
    "> **코드 완성** : Jupyter 내의 코드 셀에 기존 변수의 이름을 입력할 때, 처음 몇 글자를 입력하고 `Tab`키를 누르면 변수 이름이 자동으로 완성됩니다.  \n",
    "아래의 코드 셀에 'pro'를 입력하고 `Tab`을 눌러 'profit_margin'으로 자동완성 해보세요.\n",
    "<!--The variables `cost_of_ice_bag`, `profit_margin`, and `number_of_bags` now contain the information provided in the word problem. We can check the value of a variable by typing its name into a cell. We can combine variables using arithmetic operations to create other variables.\n",
    "\n",
    "> **Code completion**: While typing the name of an existing variable in a code cell within Jupyter, just type the first few characters and press the `Tab` key to autocomplete the variable's name. Try typing `pro` in a code cell below and press `Tab` to autocomplete to `profit_margin`.-->"
   ]
  },
  {
   "cell_type": "code",
   "execution_count": 7,
   "metadata": {},
   "outputs": [
    {
     "data": {
      "text/plain": [
       "0.2"
      ]
     },
     "execution_count": 7,
     "metadata": {},
     "output_type": "execute_result"
    }
   ],
   "source": [
    "profit_margin"
   ]
  },
  {
   "cell_type": "code",
   "execution_count": 8,
   "metadata": {},
   "outputs": [],
   "source": [
    "profit_per_bag = cost_of_ice_bag * profit_margin"
   ]
  },
  {
   "cell_type": "code",
   "execution_count": 9,
   "metadata": {},
   "outputs": [
    {
     "data": {
      "text/plain": [
       "0.25"
      ]
     },
     "execution_count": 9,
     "metadata": {},
     "output_type": "execute_result"
    }
   ],
   "source": [
    "profit_per_bag"
   ]
  },
  {
   "cell_type": "code",
   "execution_count": 10,
   "metadata": {},
   "outputs": [],
   "source": [
    "total_profit = number_of_bags * profit_per_bag"
   ]
  },
  {
   "cell_type": "code",
   "execution_count": 11,
   "metadata": {},
   "outputs": [
    {
     "data": {
      "text/plain": [
       "125.0"
      ]
     },
     "execution_count": 11,
     "metadata": {},
     "output_type": "execute_result"
    }
   ],
   "source": [
    "total_profit"
   ]
  },
  {
   "cell_type": "markdown",
   "metadata": {},
   "source": [
    "만약 *정의* 되지 않은 변수의 값을 보려고 하면, Python이 오류를 표시합니다.\n",
    "<!--If you try to view the value of a variable that has not been *defined*, i.e., given a value using the assignment statement `variable_name = value`, Python shows an error.-->"
   ]
  },
  {
   "cell_type": "code",
   "execution_count": 12,
   "metadata": {},
   "outputs": [
    {
     "ename": "NameError",
     "evalue": "name 'net_profit' is not defined",
     "output_type": "error",
     "traceback": [
      "\u001b[1;31m---------------------------------------------------------------------------\u001b[0m",
      "\u001b[1;31mNameError\u001b[0m                                 Traceback (most recent call last)",
      "\u001b[1;32mc:\\HCI\\K-SW_BootCamp2022\\python\\1) first-steps-with-python\\first-steps-with-python.ipynb 셀 28\u001b[0m in \u001b[0;36m<cell line: 1>\u001b[1;34m()\u001b[0m\n\u001b[1;32m----> <a href='vscode-notebook-cell:/c%3A/HCI/K-SW_BootCamp2022/python/1%29%20first-steps-with-python/first-steps-with-python.ipynb#ch0000031?line=0'>1</a>\u001b[0m net_profit\n",
      "\u001b[1;31mNameError\u001b[0m: name 'net_profit' is not defined"
     ]
    }
   ],
   "source": [
    "net_profit"
   ]
  },
  {
   "cell_type": "markdown",
   "metadata": {},
   "source": [
    "적절한 이름의 변수를 사용하여 데이터를 저장하고 조작하는 것은 코드가 수행하는 작업을 설명할 수 있는 좋은 방법입니다.  \n",
    "메시지를 사용하여 문제의 결과를 표시해봅시다. 'print'*함수(function)* 를 사용하여 이 작업을 수행할 수 있습니다.  \n",
    "> **함수(Functions)** : 함수는 재사용 가능한 기능들의 집합입니다. 하나 이상의 입력을 사용하고, 특정 연산을 수행하며, 종종 출력을 반환합니다.  \n",
    "Python은 'print'와 같은 많은 내장 함수를 제공하며, 자체적으로 함수를 정의할 수도 있습니다.  \n",
    "<!--Storing and manipulating data using appropriately named variables is a great way to explain what your code does.\n",
    "\n",
    "Let's display the result of the word problem using a friendly message. We can do this using the `print` *function*.\n",
    "\n",
    "> **Functions**: A function is a reusable set of instructions. It takes one or more inputs, performs certain operations, and often returns an output. Python provides many in-built functions like `print` and also allows us to define our own functions.-->"
   ]
  },
  {
   "cell_type": "code",
   "execution_count": 19,
   "metadata": {},
   "outputs": [
    {
     "name": "stdout",
     "output_type": "stream",
     "text": [
      "The grocery store makes a total profit of $ 125.0\n"
     ]
    }
   ],
   "source": [
    "print(\"The grocery store makes a total profit of $\", total_profit)"
   ]
  },
  {
   "cell_type": "markdown",
   "metadata": {},
   "source": [
    "> **print** : `print` 함수는 정보를 출력하는 데 사용되며, 텍스트(\"안녕? 나는 텍스트야\"), 숫자, 변수, 수학식 등 하나 이상의 입력을 필요로 합니다.  \n",
    "다음 튜토리얼에서는 변수와 함수에 대해 자세히 알아보겠습니다.\n",
    "\n",
    "각 변수 또는 수학적 연산에 대한 코드 셀을 만드는 것이 지루할 수 있지만, 다행히 Jupyter를 사용하면 단일 코드 셀 내에 여러 줄의 코드를 작성할 수 있습니다.\n",
    "셀 내의 마지막 코드 라인의 결과가 출력으로 표시됩니다.\n",
    "\n",
    "하나의 셀 안에 문제에 대한 해결책을 다시 작성해보자.\n",
    "<!-- **`print`**: The `print` function is used to display information. It takes one or more inputs, which can be text (within quotes, e.g., `\"this is some text\"`), numbers, variables, mathematical expressions, etc. We'll learn more about variables & functions in the next tutorial.\n",
    "\n",
    "Creating a code cell for each variable or mathematical operation can get tedious. Fortunately, Jupyter allows you to write multiple lines of code within a single code cell. The result of the last line of code within the cell is displayed as the output. \n",
    "\n",
    "Let's rewrite the solution to our word problem within a single cell.-->"
   ]
  },
  {
   "cell_type": "code",
   "execution_count": 20,
   "metadata": {},
   "outputs": [
    {
     "name": "stdout",
     "output_type": "stream",
     "text": [
      "The grocery store makes a total profit of $ 125.0\n"
     ]
    }
   ],
   "source": [
    "# Store input data in variables\n",
    "cost_of_ice_bag = 1.25\n",
    "profit_margin = .2\n",
    "number_of_bags = 500\n",
    "\n",
    "# Perform the required calculations\n",
    "profit_per_bag = cost_of_ice_bag * profit_margin\n",
    "total_profit = number_of_bags * profit_per_bag\n",
    "\n",
    "# Display the result\n",
    "print(\"The grocery store makes a total profit of $\", total_profit)"
   ]
  },
  {
   "cell_type": "markdown",
   "metadata": {},
   "source": [
    "코드 내에 *주석(comments)* 을 추가하기 위해 `#` 문자를 사용합니다.\n",
    "> **주석(comments)** : 주석과 빈 줄은 실행에 영향을 끼치지 않지만, 코드가 수행하는 작업에 대한 정보를 사람에게 제공하는데 유용합니다.  \n",
    "주석은 inline(일부 코드의 끝), 별도의 줄에 있거나, 여러 줄에 걸쳐있을 수 있습니다.\n",
    "\n",
    "inline 및 단일 줄 주석은 `#` 로 시작하는 반면, 주석이 길어 여러 줄에 걸쳐있어야 할 경우 세 개의 따옴표로 시작하고 끝납니다. (\"\"\")\n",
    "\n",
    "아래는 주석의 예시입니다.\n",
    "<!--Note that we're using the `#` character to add *comments* within our code. \n",
    "\n",
    "> **Comments**: Comments and blank lines are ignored during execution, but they are useful for providing information to humans (including yourself) about what the code does. Comments can be inline (at the end of some code), on a separate line, or even span multiple lines. \n",
    "\n",
    "Inline and single-line comments start with `#`, whereas multi-line comments begin and end with three quotes, i.e. `\"\"\"`. Here are some examples of code comments:-->"
   ]
  },
  {
   "cell_type": "code",
   "execution_count": 21,
   "metadata": {},
   "outputs": [],
   "source": [
    "my_favorite_number = 1 # an inline comment"
   ]
  },
  {
   "cell_type": "code",
   "execution_count": 22,
   "metadata": {},
   "outputs": [],
   "source": [
    "# This comment gets its own line\n",
    "my_least_favorite_number = 3"
   ]
  },
  {
   "cell_type": "code",
   "execution_count": 23,
   "metadata": {},
   "outputs": [],
   "source": [
    "\"\"\"This is a multi-line comment.\n",
    "Write as little or as much as you'd like.\n",
    "\n",
    "Comments are really helpful for people reading\n",
    "your code, but try to keep them short & to-the-point.\n",
    "\n",
    "Also, if you use good variable names, then your code is\n",
    "often self explanatory, and you may not even need comments!\n",
    "\"\"\"\n",
    "a_neutral_number = 5"
   ]
  },
  {
   "cell_type": "markdown",
   "metadata": {},
   "source": [
    "## Python을 사용한 피연산자 평가\n",
    "Python은 산술 연산 외에도 숫자와 변수를 비교하기 위한 몇 가지 연산도 제공합니다.\n",
    "| 연산자      | 설명                                                     |\n",
    "|-------------|-----------------------------------------------------------------|\n",
    "| `==`        | 피연산자가 동일한지 확인                                     |\n",
    "| `!=`        | 피연산자가 동일하지 않은지 확인                                 |\n",
    "| `>`         | 좌측 피연산자가 우측 피연산보다 큰지 확인             |\n",
    "| `<`         | 좌측 피연산자가 우측 피연산자보다 작은지 확인                |\n",
    "| `>=`        | 좌측 피연산자가 우측 피연산자보다 크거나 같은지 확인 |\n",
    "| `<=`        | 우측 피연산자가 좌측 피연산자보다 크거나 같은지 확인    |\n",
    "\n",
    "비교 연산의 결과는 `참(True)` 또는 `거짓(False)` 입니다.(T/F)  \n",
    "이들은 Python의 특별한 키워드 입니다. 아래 셀에서 비교 연산자를 사용하여 몇 가지 실험을 진행해보겠습니다.\n",
    "<!--## Evaluating conditions using Python\n",
    "\n",
    "Apart from arithmetic operations, Python also provides several operations for comparing numbers & variables.\n",
    "\n",
    "| Operator    | Description                                                     |\n",
    "|-------------|-----------------------------------------------------------------|\n",
    "| `==`        | Check if operands are equal                                     |\n",
    "| `!=`        | Check if operands are not equal                                 |\n",
    "| `>`         | Check if left operand is greater than right operand             |\n",
    "| `<`         | Check if left operand is less than right operand                |\n",
    "| `>=`        | Check if left operand is greater than or equal to right operand |\n",
    "| `<=`        | Check if left operand is less than or equal to right operand    |\n",
    "\n",
    "The result of a comparison operation is either `True` or `False` (note the uppercase `T` and `F`). These are special keywords in Python. Let's try out some experiments with comparison operators.-->"
   ]
  },
  {
   "cell_type": "code",
   "execution_count": 24,
   "metadata": {},
   "outputs": [],
   "source": [
    "my_favorite_number = 1\n",
    "my_least_favorite_number = 5\n",
    "a_neutral_number = 3"
   ]
  },
  {
   "cell_type": "code",
   "execution_count": 25,
   "metadata": {},
   "outputs": [
    {
     "data": {
      "text/plain": [
       "True"
      ]
     },
     "execution_count": 25,
     "metadata": {},
     "output_type": "execute_result"
    }
   ],
   "source": [
    "# Equality check - True\n",
    "my_favorite_number == 1"
   ]
  },
  {
   "cell_type": "code",
   "execution_count": 26,
   "metadata": {},
   "outputs": [
    {
     "data": {
      "text/plain": [
       "False"
      ]
     },
     "execution_count": 26,
     "metadata": {},
     "output_type": "execute_result"
    }
   ],
   "source": [
    "# Equality check - False\n",
    "my_favorite_number == my_least_favorite_number"
   ]
  },
  {
   "cell_type": "code",
   "execution_count": 27,
   "metadata": {},
   "outputs": [
    {
     "data": {
      "text/plain": [
       "True"
      ]
     },
     "execution_count": 27,
     "metadata": {},
     "output_type": "execute_result"
    }
   ],
   "source": [
    "# Not equal check - True\n",
    "my_favorite_number != a_neutral_number"
   ]
  },
  {
   "cell_type": "code",
   "execution_count": 28,
   "metadata": {},
   "outputs": [
    {
     "data": {
      "text/plain": [
       "False"
      ]
     },
     "execution_count": 28,
     "metadata": {},
     "output_type": "execute_result"
    }
   ],
   "source": [
    "# Not equal check - False\n",
    "a_neutral_number != 3"
   ]
  },
  {
   "cell_type": "code",
   "execution_count": 29,
   "metadata": {},
   "outputs": [
    {
     "data": {
      "text/plain": [
       "True"
      ]
     },
     "execution_count": 29,
     "metadata": {},
     "output_type": "execute_result"
    }
   ],
   "source": [
    "# Greater than check - True\n",
    "my_least_favorite_number > a_neutral_number"
   ]
  },
  {
   "cell_type": "code",
   "execution_count": 30,
   "metadata": {},
   "outputs": [
    {
     "data": {
      "text/plain": [
       "False"
      ]
     },
     "execution_count": 30,
     "metadata": {},
     "output_type": "execute_result"
    }
   ],
   "source": [
    "# Greater than check - False\n",
    "my_favorite_number > my_least_favorite_number"
   ]
  },
  {
   "cell_type": "code",
   "execution_count": 31,
   "metadata": {},
   "outputs": [
    {
     "data": {
      "text/plain": [
       "True"
      ]
     },
     "execution_count": 31,
     "metadata": {},
     "output_type": "execute_result"
    }
   ],
   "source": [
    "# Less than check - True\n",
    "my_favorite_number < 10"
   ]
  },
  {
   "cell_type": "code",
   "execution_count": 32,
   "metadata": {},
   "outputs": [
    {
     "data": {
      "text/plain": [
       "False"
      ]
     },
     "execution_count": 32,
     "metadata": {},
     "output_type": "execute_result"
    }
   ],
   "source": [
    "# Less than check - False\n",
    "my_least_favorite_number < my_favorite_number"
   ]
  },
  {
   "cell_type": "code",
   "execution_count": 33,
   "metadata": {},
   "outputs": [
    {
     "data": {
      "text/plain": [
       "True"
      ]
     },
     "execution_count": 33,
     "metadata": {},
     "output_type": "execute_result"
    }
   ],
   "source": [
    "# Greater than or equal check - True\n",
    "my_favorite_number >= 1"
   ]
  },
  {
   "cell_type": "code",
   "execution_count": 34,
   "metadata": {},
   "outputs": [
    {
     "data": {
      "text/plain": [
       "False"
      ]
     },
     "execution_count": 34,
     "metadata": {},
     "output_type": "execute_result"
    }
   ],
   "source": [
    "# Greater than or equal check - False\n",
    "my_favorite_number >= 3"
   ]
  },
  {
   "cell_type": "code",
   "execution_count": 35,
   "metadata": {},
   "outputs": [
    {
     "data": {
      "text/plain": [
       "True"
      ]
     },
     "execution_count": 35,
     "metadata": {},
     "output_type": "execute_result"
    }
   ],
   "source": [
    "# Less than or equal check - True\n",
    "3 + 6 <= 9"
   ]
  },
  {
   "cell_type": "code",
   "execution_count": 36,
   "metadata": {},
   "outputs": [
    {
     "data": {
      "text/plain": [
       "False"
      ]
     },
     "execution_count": 36,
     "metadata": {},
     "output_type": "execute_result"
    }
   ],
   "source": [
    "# Less than or equal check - False\n",
    "my_favorite_number + a_neutral_number <= 3"
   ]
  },
  {
   "cell_type": "markdown",
   "metadata": {},
   "source": [
    "산술 연산과 마찬가지로 비교 연산 결과도 변수에 저장할 수 있습니다.\n",
    "<!--Just like arithmetic operations, the result of a comparison operation can also be stored in a variable.-->"
   ]
  },
  {
   "cell_type": "code",
   "execution_count": 37,
   "metadata": {},
   "outputs": [
    {
     "name": "stdout",
     "output_type": "stream",
     "text": [
      "Is the ice bag expensive? False\n"
     ]
    }
   ],
   "source": [
    "cost_of_ice_bag = 1.25\n",
    "is_ice_bag_expensive = cost_of_ice_bag >= 10\n",
    "print(\"Is the ice bag expensive?\", is_ice_bag_expensive)"
   ]
  },
  {
   "cell_type": "markdown",
   "metadata": {},
   "source": [
    "## 피연산자를 논리 연산자와 결합\n",
    "논리 연산자인 `and`, `or`, `not`은 조건 및 `True`와 `False`값 (T/F값을 booleans 라고도 함)에 따라 동작합니다.  \n",
    "`and`와 `or`은 두 개의 피연산자에서 동작하는 반면, `not`은 한 개의 피연산자에서 동작합니다.\n",
    "\n",
    "`and` 연산자는 두 개의 피연산자가 모두 `True`로 평가될 때, `True`를 반환합니다. 그렇지 않으면 `False`가 반환됩니다.\n",
    "<!--## Combining conditions with logical operators\n",
    "\n",
    "The logical operators `and`, `or` and `not` operate upon conditions and `True` & `False` values (also known as *booleans*). `and` and `or` operate on two conditions, whereas `not` operates on a single condition.\n",
    "\n",
    "The `and` operator returns `True` when both the conditions evaluate to `True`. Otherwise, it returns `False`.\n",
    "\n",
    "| `a`     | `b`    | `a and b` |\n",
    "|---------|--------|-----------|\n",
    "|  `True` | `True` | `True`    |\n",
    "|  `True` | `False`| `False`   |\n",
    "|  `False`| `True` | `False`   |\n",
    "|  `False`| `False`| `False`   |\n",
    "-->"
   ]
  },
  {
   "cell_type": "code",
   "execution_count": 38,
   "metadata": {
    "scrolled": true
   },
   "outputs": [
    {
     "data": {
      "text/plain": [
       "1"
      ]
     },
     "execution_count": 38,
     "metadata": {},
     "output_type": "execute_result"
    }
   ],
   "source": [
    "my_favorite_number"
   ]
  },
  {
   "cell_type": "code",
   "execution_count": 39,
   "metadata": {},
   "outputs": [
    {
     "data": {
      "text/plain": [
       "True"
      ]
     },
     "execution_count": 39,
     "metadata": {},
     "output_type": "execute_result"
    }
   ],
   "source": [
    "my_favorite_number > 0 and my_favorite_number <= 3"
   ]
  },
  {
   "cell_type": "code",
   "execution_count": 40,
   "metadata": {},
   "outputs": [
    {
     "data": {
      "text/plain": [
       "False"
      ]
     },
     "execution_count": 40,
     "metadata": {},
     "output_type": "execute_result"
    }
   ],
   "source": [
    "my_favorite_number < 0 and my_favorite_number <= 3"
   ]
  },
  {
   "cell_type": "code",
   "execution_count": 41,
   "metadata": {},
   "outputs": [
    {
     "data": {
      "text/plain": [
       "False"
      ]
     },
     "execution_count": 41,
     "metadata": {},
     "output_type": "execute_result"
    }
   ],
   "source": [
    "my_favorite_number > 0 and my_favorite_number >= 3"
   ]
  },
  {
   "cell_type": "code",
   "execution_count": 42,
   "metadata": {},
   "outputs": [
    {
     "data": {
      "text/plain": [
       "False"
      ]
     },
     "execution_count": 42,
     "metadata": {},
     "output_type": "execute_result"
    }
   ],
   "source": [
    "True and False"
   ]
  },
  {
   "cell_type": "code",
   "execution_count": 43,
   "metadata": {},
   "outputs": [
    {
     "data": {
      "text/plain": [
       "True"
      ]
     },
     "execution_count": 43,
     "metadata": {},
     "output_type": "execute_result"
    }
   ],
   "source": [
    "True and True"
   ]
  },
  {
   "cell_type": "markdown",
   "metadata": {},
   "source": [
    "`or` 연산자는 하나 이상의 피연산자가 `True`로 평가될 경우 `True`를 반환하고, 두 피연산자가 모두 `False`일 경우에만 `False`를 반환합니다.\n",
    "<!--The `or` operator returns `True` if at least one of the conditions evaluates to `True`. It returns `False` only if both conditions are `False`.\n",
    "\n",
    "| `a`     | `b`    | `a or b`  |\n",
    "|---------|--------|-----------|\n",
    "|  `True` | `True` | `True`    |\n",
    "|  `True` | `False`| `True`    |\n",
    "|  `False`| `True` | `True`    |\n",
    "|  `False`| `False`| `False`   |\n",
    "-->\n"
   ]
  },
  {
   "cell_type": "code",
   "execution_count": 44,
   "metadata": {},
   "outputs": [],
   "source": [
    "a_neutral_number = 3"
   ]
  },
  {
   "cell_type": "code",
   "execution_count": 45,
   "metadata": {},
   "outputs": [
    {
     "data": {
      "text/plain": [
       "True"
      ]
     },
     "execution_count": 45,
     "metadata": {},
     "output_type": "execute_result"
    }
   ],
   "source": [
    "a_neutral_number == 3 or my_favorite_number < 0"
   ]
  },
  {
   "cell_type": "code",
   "execution_count": 46,
   "metadata": {},
   "outputs": [
    {
     "data": {
      "text/plain": [
       "False"
      ]
     },
     "execution_count": 46,
     "metadata": {},
     "output_type": "execute_result"
    }
   ],
   "source": [
    "a_neutral_number != 3 or my_favorite_number < 0"
   ]
  },
  {
   "cell_type": "code",
   "execution_count": 47,
   "metadata": {},
   "outputs": [
    {
     "data": {
      "text/plain": [
       "True"
      ]
     },
     "execution_count": 47,
     "metadata": {},
     "output_type": "execute_result"
    }
   ],
   "source": [
    "my_favorite_number < 0 or True"
   ]
  },
  {
   "cell_type": "code",
   "execution_count": 48,
   "metadata": {},
   "outputs": [
    {
     "data": {
      "text/plain": [
       "False"
      ]
     },
     "execution_count": 48,
     "metadata": {},
     "output_type": "execute_result"
    }
   ],
   "source": [
    "False or False"
   ]
  },
  {
   "cell_type": "markdown",
   "metadata": {},
   "source": [
    "`not` 연산자는 피연산자가 `True`이면 `False`를 반환하고, 피연산자가 `False`일 경우 `True`를 반환합니다.\n",
    "<!--The `not` operator returns `False` if a condition is `True` and `True` if the condition is `False`.-->"
   ]
  },
  {
   "cell_type": "code",
   "execution_count": 49,
   "metadata": {},
   "outputs": [
    {
     "data": {
      "text/plain": [
       "False"
      ]
     },
     "execution_count": 49,
     "metadata": {},
     "output_type": "execute_result"
    }
   ],
   "source": [
    "not a_neutral_number == 3"
   ]
  },
  {
   "cell_type": "code",
   "execution_count": 50,
   "metadata": {},
   "outputs": [
    {
     "data": {
      "text/plain": [
       "True"
      ]
     },
     "execution_count": 50,
     "metadata": {},
     "output_type": "execute_result"
    }
   ],
   "source": [
    "not my_favorite_number < 0"
   ]
  },
  {
   "cell_type": "code",
   "execution_count": 51,
   "metadata": {},
   "outputs": [
    {
     "data": {
      "text/plain": [
       "True"
      ]
     },
     "execution_count": 51,
     "metadata": {},
     "output_type": "execute_result"
    }
   ],
   "source": [
    "not False"
   ]
  },
  {
   "cell_type": "code",
   "execution_count": 52,
   "metadata": {},
   "outputs": [
    {
     "data": {
      "text/plain": [
       "False"
      ]
     },
     "execution_count": 52,
     "metadata": {},
     "output_type": "execute_result"
    }
   ],
   "source": [
    "not True"
   ]
  },
  {
   "cell_type": "markdown",
   "metadata": {},
   "source": [
    "논리 연산자는 복잡한 연산식을 형성하기 위해 결합될 수 있습니다.  \n",
    "논리 연산자를 적용해야 하는 순서를 명확히 나타내려면, 괄호 ()를 사용합니다.\n",
    "<!--Logical operators can be combined to form complex conditions. Use round brackets or parentheses `(` and `)` to indicate the order in which logical operators should be applied.-->"
   ]
  },
  {
   "cell_type": "code",
   "execution_count": 53,
   "metadata": {},
   "outputs": [
    {
     "data": {
      "text/plain": [
       "True"
      ]
     },
     "execution_count": 53,
     "metadata": {},
     "output_type": "execute_result"
    }
   ],
   "source": [
    "(2 > 3 and 4 <= 5) or not (my_favorite_number < 0 and True)"
   ]
  },
  {
   "cell_type": "code",
   "execution_count": 54,
   "metadata": {},
   "outputs": [
    {
     "data": {
      "text/plain": [
       "False"
      ]
     },
     "execution_count": 54,
     "metadata": {},
     "output_type": "execute_result"
    }
   ],
   "source": [
    "not (True and 0 < 1) or (False and True)"
   ]
  },
  {
   "cell_type": "markdown",
   "metadata": {},
   "source": [
    "괄호를 사용하지 않으면 논리 연산자의 계산 순서는 왼쪽에서 오른쪽으로 진행됩니다.\n",
    "<!--If parentheses are not used, logical operators are applied from left to right.-->"
   ]
  },
  {
   "cell_type": "code",
   "execution_count": 55,
   "metadata": {},
   "outputs": [
    {
     "data": {
      "text/plain": [
       "False"
      ]
     },
     "execution_count": 55,
     "metadata": {},
     "output_type": "execute_result"
    }
   ],
   "source": [
    "not True and 0 < 1 or False and True"
   ]
  },
  {
   "cell_type": "markdown",
   "metadata": {},
   "source": [
    "JupyterNotebook의 대화영 특성을 사용하여, Python의 산술, 조건부 및 논리 연산를 실험합니다.  \n",
    "이후 튜토리얼에서 변수와 함수에 대해 더 깊이 배우도록 하겠습니다.  \n",
    "<!--Experiment with arithmetic, conditional and logical operators in Python using the interactive nature of Jupyter notebooks. We will learn more about variables and functions in future tutorials.-->"
   ]
  },
  {
   "cell_type": "markdown",
   "metadata": {},
   "source": [
    "## Markdown을 사용한 텍스트 스타일 추가\n",
    "\n",
    "텍스트 셀을 사용하여 설명을 추가하는 것은 본인을 포함한 다른 사용자에게 코드에 대한 유용한 정보를 제공하는 좋은 방법이며, 나중에 다시 참조해야 할 경우에도 유용하게 작용합니다.  \n",
    "Jupyter 내에서 텍스트 셀을 두 번 눌러 편집할 수 있으며, 편집 모드에서는 텍스트가 약간 다르게 나타납니다.(ex. 머리 글에 ## 접두사가 있음)  \n",
    "이 글 또한 텍스트에 스타일을 추가하는 간단한 방법인 Markdown을 사용하여 작성됩니다.  \n",
    "`##`와 같은 특수문자 없이 출력을 보기 위해서는, 이 셀을 실행하면 됩니다.  \n",
    "\n",
    "소스와 출력을 전환하며 Markdown을 이용한 특정 스타일을 적용해나갈 수 있습니다.  \n",
    "\n",
    "예를 들어, 행의 시작 부분에 하나 이상의 `#` 문자를 사용하여 크기가 다른 헤더를 만들 수 있습니다.  \n",
    "# 머리글 1\n",
    "## 머리글 2\n",
    "### 머리글 3\n",
    "#### 머리글 4\n",
    "\n",
    "글머리 기호 또는 번호 목록을 만드려면, `*` 또는 `1.x` 로 행을 시작합니다.  \n",
    "글머리 기호 목록 :\n",
    "* 내용 1\n",
    "* 내용 2\n",
    "* 내용 3\n",
    "\n",
    "번호 목록 :\n",
    "1. 사과\n",
    "2. 바나나\n",
    "3. 파인애플\n",
    "\n",
    "또한 굵은 글씨를 사용하기 위해서는, `**` 를 양 옆에 사용하면 됩니다.  (' ** 텍스트 ** ')  \n",
    "예를 들어, '**안녕 나는 굵은 글씨야**' 처럼요.  \n",
    "  \n",
    "혹은, 글씨에 기울임 효과를 적용하고 싶다면 `*`를 양 옆에 사용하면 됩니다.\n",
    "('* 텍스트 *')  \n",
    "예를 들어, *안녕 나는 기울어졌어* 처럼요.\n",
    "\n",
    "Markdown의 또 다른 좋은 특징은, 코드 블록을 포함하는 기능입니다.  \n",
    "**Markdown 셀 내부의 코드 블록은 실행할 수 없습니다.**\n",
    "\n",
    "# 필요한 계산 수행\n",
    "profit_per_bag = cost_of_ice_bag * profit_margin\n",
    "total_profit = number_of_bags * profit_per_bag\n",
    "\n",
    "# 결과 표시\n",
    "print(\"The grocery store makes a total profit of $\", total_profit)\n",
    "\n",
    "<!--## Adding text styles using Markdown\n",
    "Adding explanations using text cells (like this one) is a great way to make your notebook informative for other readers. It is also useful if you need to refer back to it in the future. You can double click on a text cell within Jupyter to edit it. In the edit mode, you'll notice that the text looks slightly different (for instance, the heading has a `##` prefix. This text is written using Markdown, a simple way to add styles to your text. Execute this cell to see the output without the special characters. You can switch back and forth between the source and the output to apply a specific style.\n",
    "\n",
    "For instance, you can use one or more `#` characters at the start of a line to create headers of different sizes:\n",
    "\n",
    "# Header 1\n",
    "\n",
    "## Header 2\n",
    "\n",
    "### Header 3\n",
    "\n",
    "#### Header 4\n",
    "\n",
    "To create a bulleted or numbered list, simply start a line with `*` or `1.`.\n",
    "\n",
    "A bulleted list:\n",
    "\n",
    "* Item 1\n",
    "* Item 2\n",
    "* Item 3\n",
    "\n",
    "A numbered list:\n",
    "\n",
    "1. Apple\n",
    "2. Banana\n",
    "3. Pineapple\n",
    "\n",
    "You can make some text bold using `**`, e.g., **some bold text**, or make it italic using `*`, e.g., *some italic text.* You can also create links, e.g., [a link](https://google.com). Images are easily embedded too:\n",
    "\n",
    "\n",
    "\n",
    "Another really nice feature of Markdown is the ability to include blocks of code. Note that code blocks inside Markdown cells cannot be executed.\n",
    "\n",
    "```\n",
    "# Perform the required calculations\n",
    "profit_per_bag = cost_of_ice_bag * profit_margin\n",
    "total_profit = number_of_bags * profit_per_bag\n",
    "\n",
    "# Display the result\n",
    "print(\"The grocery store makes a total profit of $\", total_profit)\n",
    "\n",
    "```\n",
    "\n",
    "You can learn the full syntax of Markdown here: https://learnxinyminutes.com/docs/markdown/-->"
   ]
  },
  {
   "cell_type": "markdown",
   "metadata": {},
   "source": [
    "## 질문\n",
    "이 튜토리얼에서 다루는 주제에 대한 이해도를 테스트 하기 위해, 다음 질문에 답해보시기 바랍니다.\n",
    "\n",
    "1. Jupyter Notebook이란?\n",
    "2. 기존 셀 아래에 새 코드 셀을 추가하려면 어떻게 해야 합니까?\n",
    "3. 기존 셀 아래에 새 Markdown 셀을 추가하려면 어떻게 해야 합니까?\n",
    "4. 코드 셀을 Markdown 셀로 변환하거나 그 반대로 변환하려면 어떻게 해야 합니까?\n",
    "5. Jupyter 내에서 코드 셀을 실행하는 방법은 무엇입니까?\n",
    "6. Python에서 지원되는 다양한 산술 연산은 무엇입니까?\n",
    "7. Python을 사용하여 산술 연산을 수행하는 방법은 무엇입니까?\n",
    "8. '/' 연산자와 '//' 연산자의 차이점은 무엇입니까?\n",
    "9. \"*\" 연산자와 \"**\" 연산자의 차이점은 무엇입니까?\n",
    "10. Python에서 산술 연산자의 우선 순위는 어떻게 됩니까?\n",
    "11. 여러 연산자를 포함하는 식에서 산술 연산이 수행되는 순서를 어떻게 지정합니까?\n",
    "12. Python을 사용하여 multi-step 산술어 문제를 어떻게 해결할 수 있습니까?\n",
    "13. 변수란 무엇인가요? 그것들은 왜 유용한가요?\n",
    "14. 파이썬에서 변수를 만들려면 어떻게 해야 하나요?\n",
    "15. Python의 할당 연산자는 무엇입니까?\n",
    "16. 파이썬에서 변수 이름을 지정하기 위한 규칙은 무엇입니까?\n",
    "17. 변수의 값을 어떻게 보십니까?\n",
    "18. 어떻게 변수의 산술식 결과를 저장합니까?\n",
    "19. 정의되지 않은 변수에 액세스하려고 하면 어떻게 됩니까?\n",
    "20. Python에서 메시지를 표시하는 방법은 무엇입니까?\n",
    "21. print 함수가 필요로 하는 input type은 무엇입니까?\n",
    "22. 주석이란? 주석은 어떻게 유용하게 쓰일까요?\n",
    "23. 파이썬 코드에서 주석을 만드는 두 가지 방법은 무엇입니까?\n",
    "24. Python에서 지원되는 다른 비교 작업은 무엇입니까?\n",
    "25. 비교 작업의 결과는 무엇입니까?\n",
    "26. 파이썬에서 '='와 '=='의 차이점은 무엇입니까?\n",
    "27. Python에서 지원되는 논리 연산자는 무엇입니까?\n",
    "28. and와 or 연산자의 차이점은 무엇입니까?\n",
    "29. 비교 연산자와 논리 연산자를 같은 표현으로 사용할 수 있습니까?\n",
    "30. 산술적 또는 논리적 표현에 괄호를 사용하는 목적은 무엇입니까?\n",
    "31. Markdown이란 무엇인가? 왜 그것이 유용한가?\n",
    "32. Markdown을 사용하여 다양한 크기의 헤더를 작성하려면 어떻게 해야 합니까?\n",
    "33. Markdown을 사용하여 글머리 기호와 번호 목록을 만드는 방법은 무엇입니까?\n",
    "34. Markdown을 사용하여 굵게 또는 기울임꼴 텍스트를 만들려면 어떻게 해야 합니까?\n",
    "35. Markdown 셀에 링크와 이미지를 포함하려면 어떻게 해야 합니까?\n",
    "36. Markdown 셀에 코드 블록을 포함하려면 어떻게 해야 합니까?\n",
    "37. Markdown 셀 내에서 코드 블록을 실행할 수 있습니까?\n",
    "38. Jobian을 사용하여 Jupyter 노트북을 온라인으로 업로드하고 공유하려면 어떻게 해야 합니까?\n",
    "39. jovian.commit에서 요청한 API 키의 목적은 무엇입니까? API 키는 어디서 찾을 수 있습니까?\n",
    "40. Python의 산술 연산, 조건부 연산 및 논리 연산에 대해 어디서 배울 수 있습니까?\n",
    "\n",
    "<!--## Questions for Revision\n",
    "\n",
    "Try answering the following questions to test your understanding of the topics covered in this notebook:\n",
    "\n",
    "1. What is a Jupyter notebook? \n",
    "2. How do you add a new code cell below an existing cell?\n",
    "3. How do you add a new Markdown cell below an existing cell?\n",
    "4. How do you convert a code cell to a Markdown cell or vice versa?\n",
    "5. How do you execute a code cell within Jupyter?\n",
    "6. What the different arithmetic operations supported in Python?\n",
    "7. How do you perform arithmetic operations using Python?\n",
    "8. What is the difference between the `/` and the `//` operators?\n",
    "9. What is the difference between the `*` and the `**` operators?\n",
    "10. What is the order of precedence for arithmetic operators in Python?\n",
    "11. How do you specify the order in which arithmetic operations are performed in an expression involving multiple operators?\n",
    "12. How do you solve a multi-step arithmetic word problem using Python?\n",
    "13. What are variables? Why are they useful?\n",
    "14. How do you create a variable in Python?\n",
    "15. What is the assignment operator in Python?\n",
    "16. What are the rules for naming a variable in Python?\n",
    "17. How do you view the value of a variable?\n",
    "18. How do you store the result of an arithmetic expression in a variable?\n",
    "19. What happens if you try to access a variable that has not been defined?\n",
    "20. How do you display messages in Python?\n",
    "21. What types of inputs can the print function accept?\n",
    "22. What are code comments? How are they useful?\n",
    "23. What are the different ways of creating comments in Python code?\n",
    "24. What are the different comparison operations supported in Python?\n",
    "25. What is the result of a comparison operation?\n",
    "26. What is the difference between `=` and `==` in Python?\n",
    "27. What are the logical operators supported in Python?\n",
    "28. What is the difference between the `and` and `or` operators?\n",
    "29. Can you use comparison and logical operators in the same expression?\n",
    "30. What is the purpose of using parentheses in arithmetic or logical expressions?\n",
    "31. What is Markdown? Why is it useful?\n",
    "32. How do you create headings of different sizes using Markdown?\n",
    "33. How do you create bulleted and numbered lists using Markdown?\n",
    "34. How do you create bold or italic text using Markdown?\n",
    "35. How do you include links & images within Markdown cells?\n",
    "36. How do you include code blocks within Markdown cells?\n",
    "37. Is it possible to execute the code blocks within Markdown cells?\n",
    "38. How do you upload and share your Jupyter notebook online using Jovian?\n",
    "39. What is the purpose of the API key requested by jovian.commit ? Where can you find the API key?\n",
    "40. Where can you learn about arithmetic, conditional and logical operations in Python?\n",
    "-->"
   ]
  }
 ],
 "metadata": {
  "kernelspec": {
   "display_name": "Python 3",
   "language": "python",
   "name": "python3"
  },
  "language_info": {
   "codemirror_mode": {
    "name": "ipython",
    "version": 3
   },
   "file_extension": ".py",
   "mimetype": "text/x-python",
   "name": "python",
   "nbconvert_exporter": "python",
   "pygments_lexer": "ipython3",
   "version": "3.8.6"
  }
 },
 "nbformat": 4,
 "nbformat_minor": 4
}
